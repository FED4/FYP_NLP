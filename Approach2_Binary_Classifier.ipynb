{
 "cells": [
  {
   "cell_type": "code",
   "execution_count": 1,
   "id": "05f1f2c4",
   "metadata": {},
   "outputs": [
    {
     "name": "stdout",
     "output_type": "stream",
     "text": [
      "Log in / Register\n",
      "Search a list of items\n",
      "Favourites\n",
      "Nectar\n",
      "Offers\n",
      "Discover\n",
      "Recipes\n",
      "Delivery Pass\n",
      "Occasions\n",
      "Mother's Day\n",
      "Sainsbury's Sea Salt & Cider Vinegar Crisps, Taste the Difference 150g\n",
      "Sainsbury's Cheddar & Spring Onion Crisps, Taste the Difference 150g\n",
      "Pringles Prawn Cocktail 200g\n",
      "Kettle Chips Lightly Salted Sharing Crisps 150g\n",
      "Only £1.25: Save 75p\n",
      "Sensations Thai Sweet Chilli Sharing Crisps 150g\n",
      "Only £1.25: Save 75p\n",
      "Kettle Chips Sea Salt & Balsamic Vinegar of Modena Sharing Crisps 150g\n",
      "Only £1.25: Save 75p\n",
      "Kettle Chips Sea Salt & Crushed Black Peppercorns Sharing Crisps 150g\n",
      "Only £1.25: Save 75p\n",
      "Pringles Original Crisps 200g\n",
      "Kettle Chips Mature Cheddar & Red Onion Sharing Crisps 150g\n",
      "Only £1.25: Save 75p\n",
      "Kettle Chips Sweet Chilli & Sour Cream Sharing Crisps 150g\n",
      "Only £1.25: Save 75p\n",
      "Doritos Cool Original Sharing Tortilla Chips Crisps 180g\n",
      "Walkers Classic Variety Multipack Crisps 22x25g\n",
      "Jacob's Cracker Crisps Sour Cream & Chive 150g\n",
      "Price Lock*\n",
      "Sainsbury's Gourmet Sea Salt Crisps, Taste the Difference 150g\n",
      "Doritos Chilli Heatwave Sharing Tortilla Chips Crisps 180g\n",
      "Jacob's Twiglets Crisps 150g\n",
      "Only £1.50: Save 50p\n",
      "Sensations Roast Chicken & Thyme Sharing Crisps 150g\n",
      "Only £1.25: Save 75p\n",
      "Doritos Tangy Cheese Sharing Tortilla Chips Crisps 180g\n",
      "Pringles Sour Cream & Onion Crisps 200g\n",
      "Doritos Lightly Salted Sharing Tortilla Chips Crisps 270g\n",
      "Only £1.25: Save £1.25\n",
      "Kettle Chips Sour Cream & Sweet Onion Sharing Crisps 150g\n",
      "Only £1.25: Save 75p\n",
      "Tyrrells Lightly Sea Salted Sharing Crisps 150g\n",
      "Sainsbury's Vegetable Crisps, Taste the Difference 100g\n",
      "Jacob's Cracker Crisps Salt & Vinegar 150g\n",
      "Price Lock*\n",
      "Pringles BBQ Crisps 200g\n",
      "Sensations Balsamic Vinegar & Caramelised Onion Sharing Crisps 150g\n",
      "Only £1.25: Save 75p\n",
      "Popchips Barbeque Sharing Crisps 85g\n",
      "Doritos Hint of Lime Sharing Tortilla Chips Crisps 270g\n",
      "Only £1.25: Save £1.25\n",
      "Sainsbury's Ready Salted Crisps 12x25g\n",
      "Sainsbury's Ridge Classic Variety Ridge Cut Assorted Crisps 6x27g\n",
      "Popchips Barbeque Multipack Crisps 5pk\n",
      "Popchips Sea Salt & Vinegar Sharing Crisps 85g\n",
      "Walkers Ready Salted Crisps 45g\n",
      "Meal Deal for £3.50\n",
      "Tyrrells Cider Vinegar & Salt Sharing Crisps 150g\n",
      "Walkers Salt & Vinegar Crisps 45g\n",
      "Meal Deal for £3.50\n",
      "Walkers Cheese & Onion Crisps 45g\n",
      "Meal Deal for £3.50\n",
      "Tyrrells Mixed Root Vegetable Sharing Crisps 125g\n",
      "Pringles Sizzl'N Kickin' Sour Cream Crisps 180g\n",
      "Only £1.65: Save 35p\n",
      "Pipers Burrow Hill Cider Vinegar & Sea Salt Sharing Crisps 150g\n",
      "Tyrrells Sweet Chilli & Red Pepper Sharing Crisps 150g\n",
      "Popchips Sour Cream & Onion Sharing Crisps 85g\n",
      "Pipers Lye Cross Cheddar & Onion Sharing Crisps 150g\n",
      "Sainsbury's Thai Sweet Chilli Crisps, Taste The Difference 150g\n",
      "Walkers Max Punchy Paprika Sharing Crisps 150g\n",
      "Pipers Anglesey Sea Salt Sharing Crisps 150g\n",
      "Tyrrells Cheddar Cheese & Chive Sharing Crisps 150g\n",
      "Pipers Great Berwick Longhorn Beef Crisps 150g\n",
      "Pringles Sizzl'N Extra Hot Cheese & Chilli Crisps 180g\n",
      "Only £1.65: Save 35p\n",
      "Walkers Max Strong Jalapeño & Cheese Sharing Crisps 150g\n",
      "Popchips Original Chips Sharing Crisps 85g\n",
      "Walkers Max Strong Hot Chicken Wings Sharing Crisps 150g\n",
      "Pipers Kirkby Malham Chorizo Sharing Crisps 150g\n",
      "Walkers Sensations BBQ Beef Teriyaki Sharing Crisps 150g\n",
      "Only £1.25: Save 75p\n",
      "Pipers Atlas Mountains Wild Thyme & Rosemary Sharing Crisps 150g\n",
      "Walkers Prawn Cocktail Crisps 45g\n",
      "Meal Deal for £3.50\n",
      "Doritos Flamin' Hot Tangy Cheese Sharing Tortilla Chips Crisps 180g\n",
      "Walkers Roast Chicken Crisps 45g\n",
      "Meal Deal for £3.50\n",
      "Popchips Sour Cream & Onion Multipack Crisps 5pk\n",
      "Tyrrells Lentil Sharing Crisps Sour Cream & Onion 80g\n",
      "Tyrrells Sea Salt & Black Pepper Sharing Crisps 150g\n",
      "1\n",
      "2\n",
      "3\n",
      "4\n",
      "5\n",
      "6\n",
      "Baileys Original Irish Cream Liqueur 1L\n",
      "Pringles Cheese & Onion 200g\n",
      "Accessibility\n",
      "Cookie policy\n",
      "Privacy policy\n",
      "Manage Cookies\n",
      "Contact us\n",
      "Help centre\n",
      "Terms & Conditions\n",
      "Cookie Policy\n",
      "Cookies Details‎\n",
      "Cookies Details‎\n",
      "Cookies Details‎\n",
      "Cookies Details‎\n",
      "Back ButtonBack\n",
      "Filter Icon\n",
      "Clear Filters\n",
      "View Privacy Notice\n",
      "Require Opt-Out\n",
      "Cookie Policy\n"
     ]
    }
   ],
   "source": [
    "\n",
    "\n",
    "\n",
    "\n",
    "import pickle\n",
    "\n",
    "with open('data/html','rb') as html:\n",
    "    html_contents = pickle.load(html)\n",
    "    \n",
    "import re\n",
    "\n",
    "html_contents_out = []\n",
    "for content in html_contents:\n",
    "    if re.fullmatch('\\([0-9]+\\)', content) == None:\n",
    "        html_contents_out.append(content)\n",
    "        print(content)"
   ]
  },
  {
   "cell_type": "code",
   "execution_count": 2,
   "id": "11b5dbc2",
   "metadata": {},
   "outputs": [
    {
     "name": "stdout",
     "output_type": "stream",
     "text": [
      "Pipers Great Berwick Longhorn Beef Crisps 150g\n",
      "Tyrrells Sweet Chilli & Red Pepper Sharing Crisps 150g\n",
      "Sainsbury's Sea Salt & Cider Vinegar Crisps, Taste the Difference 150g\n",
      "Pringles Prawn Cocktail 200g\n",
      "Sensations Balsamic Vinegar & Caramelised Onion Sharing Crisps 150g\n",
      "Walkers Ready Salted Crisps 45g\n",
      "Walkers Classic Variety Multipack Crisps 22x25g\n",
      "Doritos Flamin' Hot Tangy Cheese Sharing Tortilla Chips Crisps 180g\n",
      "Sainsbury's Gourmet Sea Salt Crisps, Taste the Difference 150g\n",
      "Walkers Cheese & Onion Crisps 45g\n",
      "Popchips Barbeque Sharing Crisps 85g\n",
      "Jacob's Cracker Crisps Sour Cream & Chive 150g\n",
      "Tyrrells Lentil Sharing Crisps Sour Cream & Onion 80g\n",
      "Tyrrells Cider Vinegar & Salt Sharing Crisps 150g\n",
      "Sainsbury's Ready Salted Crisps 12x25g\n",
      "Sainsbury's Vegetable Crisps, Taste the Difference 100g\n",
      "Popchips Sea Salt & Vinegar Sharing Crisps 85g\n",
      "Doritos Chilli Heatwave Sharing Tortilla Chips Crisps 180g\n",
      "Walkers Roast Chicken Crisps 45g\n",
      "Pringles Sizzl'N Kickin' Sour Cream Crisps 180g\n",
      "Kettle Chips Sweet Chilli & Sour Cream Sharing Crisps 150g\n",
      "Walkers Prawn Cocktail Crisps 45g\n",
      "Walkers Max Punchy Paprika Sharing Crisps 150g\n",
      "Jacob's Cracker Crisps Salt & Vinegar 150g\n",
      "Walkers Salt & Vinegar Crisps 45g\n",
      "Pipers Anglesey Sea Salt Sharing Crisps 150g\n",
      "Tyrrells Cheddar Cheese & Chive Sharing Crisps 150g\n",
      "Pringles Sour Cream & Onion Crisps 200g\n",
      "Tyrrells Mixed Root Vegetable Sharing Crisps 125g\n",
      "Popchips Sour Cream & Onion Multipack Crisps 5pk\n",
      "Kettle Chips Mature Cheddar & Red Onion Sharing Crisps 150g\n",
      "Kettle Chips Lightly Salted Sharing Crisps 150g\n",
      "Walkers Max Strong Jalapeño & Cheese Sharing Crisps 150g\n",
      "Sensations Roast Chicken & Thyme Sharing Crisps 150g\n",
      "Sainsbury's Ridge Classic Variety Ridge Cut Assorted Crisps 6x27g\n",
      "Doritos Cool Original Sharing Tortilla Chips Crisps 180g\n",
      "Popchips Sour Cream & Onion Sharing Crisps 85g\n",
      "Kettle Chips Sea Salt & Balsamic Vinegar of Modena Sharing Crisps 150g\n",
      "Walkers Max Strong Hot Chicken Wings Sharing Crisps 150g\n",
      "Walkers Sensations BBQ Beef Teriyaki Sharing Crisps 150g\n",
      "Sensations Thai Sweet Chilli Sharing Crisps 150g\n",
      "Pipers Lye Cross Cheddar & Onion Sharing Crisps 150g\n",
      "Pipers Atlas Mountains Wild Thyme & Rosemary Sharing Crisps 150g\n",
      "Pringles BBQ Crisps 200g\n",
      "Pipers Burrow Hill Cider Vinegar & Sea Salt Sharing Crisps 150g\n",
      "Tyrrells Lightly Sea Salted Sharing Crisps 150g\n",
      "Pringles Sizzl'N Extra Hot Cheese & Chilli Crisps 180g\n",
      "Popchips Original Chips Sharing Crisps 85g\n",
      "Doritos Tangy Cheese Sharing Tortilla Chips Crisps 180g\n",
      "Pringles Cheese & Onion 200g\n",
      "Doritos Lightly Salted Sharing Tortilla Chips Crisps 270g\n",
      "Tyrrells Sea Salt & Black Pepper Sharing Crisps 150g\n",
      "Doritos Hint of Lime Sharing Tortilla Chips Crisps 270g\n",
      "Kettle Chips Sour Cream & Sweet Onion Sharing Crisps 150g\n",
      "Jacob's Twiglets Crisps 150g\n",
      "Kettle Chips Sea Salt & Crushed Black Peppercorns Sharing Crisps 150g\n",
      "Baileys Original Irish Cream Liqueur 1L\n",
      "Sainsbury's Thai Sweet Chilli Crisps, Taste The Difference 150g\n",
      "Pringles Original Crisps 200g\n",
      "Popchips Barbeque Multipack Crisps 5pk\n",
      "Sainsbury's Cheddar & Spring Onion Crisps, Taste the Difference 150g\n",
      "Pipers Kirkby Malham Chorizo Sharing Crisps 150g\n"
     ]
    }
   ],
   "source": [
    "with open(\"data/truth2\", \"rb\") as fp:   # Unpickling\n",
    "    truth = pickle.load(fp)\n",
    "    \n",
    "for t in truth:\n",
    "    print(t)"
   ]
  },
  {
   "cell_type": "code",
   "execution_count": 3,
   "id": "3490436e",
   "metadata": {},
   "outputs": [
    {
     "name": "stdout",
     "output_type": "stream",
     "text": [
      "Log in / Register\n",
      "Search a list of items\n",
      "Favourites\n",
      "Nectar\n",
      "Offers\n",
      "Discover\n",
      "Recipes\n",
      "Delivery Pass\n",
      "Occasions\n",
      "Mother's Day\n",
      "Yorkshire Provender Roast Chicken Soup With Traditional Vegetables 600g\n",
      "(59)\n",
      "Only £2.00: Save 75p\n",
      "Sainsbury's Sweet Potato Coconut & Chilli Soup, Taste the Difference 600g\n",
      "(21)\n",
      "Typical life 7 days\n",
      "Heinz Classic Cream of Chicken Soup 4x400g\n",
      "(5)\n",
      "Price Lock*\n",
      "Heinz Cream of Tomato Soup x4 400g\n",
      "(8)\n",
      "Price Lock*\n",
      "Heinz Cream of Chicken Soup 400g\n",
      "(11)\n",
      "Only 85p: Save 15p\n",
      "Sainsbury's Cream Of Tomato Soup 400g\n",
      "(35)\n",
      "Heinz Cream of Tomato Soup 400g\n",
      "(10)\n",
      "Sainsbury's Vegetable Soup 400g\n",
      "(28)\n",
      "Sainsbury's Tomato & Basil Soup 600g\n",
      "(36)\n",
      "Typical life 7 days\n",
      "Sainsbury's Chicken & Sweetcorn Soup 600g\n",
      "(56)\n",
      "Typical life 7 days\n",
      "ALDI PRICE MATCH*\n",
      "Heinz Big Soup, Chicken & Vegetable 400g\n",
      "(10)\n",
      "Only £1.25: Save 15p\n",
      "Sainsbury's Minestrone Soup 600g\n",
      "(31)\n",
      "Typical life 7 days\n",
      "Sainsbury's Spicy Tomato, Lentil & Red Pepper Soup 600g\n",
      "(52)\n",
      "Typical life 7 days\n",
      "Sainsbury's Carrot & Coriander Soup 600g\n",
      "(47)\n",
      "Typical life 7 days\n",
      "ALDI PRICE MATCH*\n",
      "Sainsbury's Cream Of Mushroom Soup 400g\n",
      "(18)\n",
      "Sainsbury's Petits Pois & Ham Soup, Taste the Difference 600g\n",
      "(102)\n",
      "Typical life 7 days\n",
      "Sainsbury's Lentil Dhal Soup 600g\n",
      "(163)\n",
      "Typical life 7 days\n",
      "New Covent Garden Classic Chicken Soup 560g\n",
      "(45)\n",
      "Typical life 7 days\n",
      "Heinz Minestrone Soup 400g\n",
      "(4)\n",
      "Only 85p: Save 15p\n",
      "Heinz Cream Of Mushroom Soup 400g\n",
      "(7)\n",
      "Heinz Oxtail Soup 400g\n",
      "(6)\n",
      "Only 85p: Save 15p\n",
      "Sainsbury's Cream Of Chicken Soup 400g\n",
      "(14)\n",
      "Sainsbury's Moroccan Spiced Chicken & Chickpea Soup, Taste the Difference 600g\n",
      "(84)\n",
      "Typical life 7 days\n",
      "Heinz Vegetable Soup 400g\n",
      "(7)\n",
      "Sainsbury's Tomato & Three Bean Soup, Be Good To Yourself 400g\n",
      "(39)\n",
      "Sainsbury's Chicken & Mushroom Soup 400g\n",
      "(9)\n",
      "Heinz Chicken Noodle Soup 400g\n",
      "(4)\n",
      "Only 85p: Save 15p\n",
      "New Covent Garden Leek & Potato Soup 560g\n",
      "(24)\n",
      "Typical life 7 days\n",
      "Sainsbury's Carrot & Coriander Soup 400g\n",
      "(24)\n",
      "Heinz Mulligatawny Soup 400g\n",
      "(10)\n",
      "Only 85p: Save 15p\n",
      "Sainsbury's Tomato Red Pepper & Lentil Soup 400g\n",
      "(18)\n",
      "Sainsbury's Minestrone Soup 400g\n",
      "(38)\n",
      "Yorkshire Provender Cauliflower Cheese Soup With Kale & Fountains Gold Cheddar 6...\n",
      "(27)\n",
      "Only £2.00: Save 75p\n",
      "Sainsbury's Oxtail Soup 400g\n",
      "(21)\n",
      "Sainsbury's Cream Of Tomato Soup 600g\n",
      "(14)\n",
      "Typical life 7 days\n",
      "New Covent Garden Vegetable Soup 560g\n",
      "(18)\n",
      "Typical life 7 days\n",
      "Heinz Big Soup, Beef & Vegetable 400g\n",
      "(40)\n",
      "Sainsbury's Broccoli & Stilton Soup 400g\n",
      "(50)\n",
      "Sainsbury's Leek & Potato Soup 400g\n",
      "(14)\n",
      "New Covent Garden Mushroom Soup 560g\n",
      "(29)\n",
      "Typical life 7 days\n",
      "New Covent Garden Lentil & Smoked Bacon Soup 560g\n",
      "(24)\n",
      "Typical life 7 days\n",
      "Sainsbury's Chantenay Carrot & Honey Roast Parsnip Soup, Taste the Difference 60...\n",
      "(63)\n",
      "Typical life 7 days\n",
      "Baxters Favourites, Lentil & Bacon Soup 400g\n",
      "(6)\n",
      "Sainsbury's Scotch Broth Soup 400g\n",
      "(18)\n",
      "New Covent Garden Tomato & Basil Soup 560g\n",
      "(18)\n",
      "Typical life 7 days\n",
      "Baxters Favourites, Cream Of Tomato Soup 400g\n",
      "(15)\n",
      "Sainsbury's Chunky Chicken & Vegetable Soup 400g\n",
      "(14)\n",
      "Heinz Limited Edition Cream Of Tomato Soup With A Hint Of Basil 400g\n",
      "(4)\n",
      "Campbell's Condensed Cream of Mushroom Soup 294g\n",
      "(10)\n",
      "Sainsbury's Tomato & Basil Soup 400g\n",
      "(25)\n",
      "Sainsbury's Tomato & Spicy Lentil Soup, Be Good To Yourself 400g\n",
      "(26)\n",
      "Baxters Vegetarian, Spicy Parsnip Soup 400g\n",
      "(12)\n",
      "Baxters Favourites, Chicken Broth Soup 400g\n",
      "(18)\n",
      "Sainsbury's Cream Of Tomato Soup 4x400g\n",
      "(19)\n",
      "New Covent Garden Spiced Butternut Soup 560g\n",
      "(9)\n",
      "Typical life 7 days\n",
      "Heinz Country Vegetable Big Soup 400g\n",
      "(10)\n",
      "Heinz Vegetable Soup 4x400g\n",
      "(1)\n",
      "Price Lock*\n",
      "Campbell's Condensed Cream Of Chicken Soup 295g\n",
      "(7)\n",
      "Baxters Favourites, Minestrone Soup 400g\n",
      "(9)\n",
      "Sainsbury's Chunky Beef & Vegetable Soup 400g\n",
      "(14)\n",
      "1\n",
      "2\n",
      "3\n",
      "4\n",
      "5\n",
      "Celebrations Chocolates Easter Sharing Pouch Bag 400g\n",
      "Tiny Rebel Clwb Tropica 4x330ml\n",
      "Accessibility\n",
      "Cookie policy\n",
      "Privacy policy\n",
      "Manage Cookies\n",
      "Contact us\n",
      "Help centre\n",
      "Terms & Conditions\n",
      "Cookie Policy\n",
      "Cookies Details‎\n",
      "Cookies Details‎\n",
      "Cookies Details‎\n",
      "Cookies Details‎\n",
      "Back ButtonBack\n",
      "Filter Icon\n",
      "Clear Filters\n",
      "View Privacy Notice\n",
      "Require Opt-Out\n",
      "Cookie Policy\n"
     ]
    }
   ],
   "source": [
    "with open('data/html_eval3','rb') as html:\n",
    "    html_contents = pickle.load(html)\n",
    "\n",
    "for content in html_contents:\n",
    "    print(content)"
   ]
  },
  {
   "cell_type": "code",
   "execution_count": 4,
   "id": "19a06f55",
   "metadata": {
    "scrolled": true
   },
   "outputs": [
    {
     "name": "stdout",
     "output_type": "stream",
     "text": [
      "New Covent Garden Leek & Potato Soup 560g\n",
      "Sainsbury's Chunky Chicken & Vegetable Soup 400g\n",
      "New Covent Garden Spiced Butternut Soup 560g\n",
      "Baxters Favourites, Minestrone Soup 400g\n",
      "Heinz Vegetable Soup 400g\n",
      "Sainsbury's Chunky Beef & Vegetable Soup 400g\n",
      "Heinz Chicken Noodle Soup 400g\n",
      "Heinz Classic Cream of Chicken Soup 4x400g\n",
      "Sainsbury's Cream Of Chicken Soup 400g\n",
      "Heinz Big Soup, Beef & Vegetable 400g\n",
      "Sainsbury's Leek & Potato Soup 400g\n",
      "Heinz Cream of Tomato Soup x4 400g\n",
      "Sainsbury's Carrot & Coriander Soup 600g\n",
      "Sainsbury's Scotch Broth Soup 400g\n",
      "Heinz Cream Of Mushroom Soup 400g\n",
      "New Covent Garden Mushroom Soup 560g\n",
      "Tiny Rebel Clwb Tropica 4x330ml\n",
      "Heinz Cream of Tomato Soup 400g\n",
      "Sainsbury's Petits Pois & Ham Soup, Taste the Difference 600g\n",
      "Sainsbury's Vegetable Soup 400g\n",
      "Heinz Big Soup, Chicken & Vegetable 400g\n",
      "Sainsbury's Tomato & Basil Soup 400g\n",
      "New Covent Garden Classic Chicken Soup 560g\n",
      "Sainsbury's Cream Of Mushroom Soup 400g\n",
      "Sainsbury's Carrot & Coriander Soup 400g\n",
      "Heinz Limited Edition Cream Of Tomato Soup With A Hint Of Basil 400g\n",
      "Sainsbury's Cream Of Tomato Soup 4x400g\n",
      "Heinz Cream of Chicken Soup 400g\n",
      "Sainsbury's Cream Of Tomato Soup 600g\n",
      "Sainsbury's Chicken & Mushroom Soup 400g\n",
      "Heinz Vegetable Soup 4x400g\n",
      "Sainsbury's Spicy Tomato, Lentil & Red Pepper Soup 600g\n",
      "Sainsbury's Broccoli & Stilton Soup 400g\n",
      "Heinz Country Vegetable Big Soup 400g\n",
      "Sainsbury's Cream Of Tomato Soup 400g\n",
      "Sainsbury's Sweet Potato Coconut & Chilli Soup, Taste the Difference 600g\n",
      "Sainsbury's Moroccan Spiced Chicken & Chickpea Soup, Taste the Difference 600g\n",
      "Heinz Minestrone Soup 400g\n",
      "Sainsbury's Tomato Red Pepper & Lentil Soup 400g\n",
      "Heinz Mulligatawny Soup 400g\n",
      "Sainsbury's Minestrone Soup 600g\n",
      "Baxters Favourites, Cream Of Tomato Soup 400g\n",
      "Campbell's Condensed Cream of Mushroom Soup 294g\n",
      "Sainsbury's Chicken & Sweetcorn Soup 600g\n",
      "Sainsbury's Lentil Dhal Soup 600g\n",
      "Yorkshire Provender Roast Chicken Soup With Traditional Vegetables 600g\n",
      "New Covent Garden Vegetable Soup 560g\n",
      "New Covent Garden Lentil & Smoked Bacon Soup 560g\n",
      "Yorkshire Provender Cauliflower Cheese Soup With Kale & Fountains Gold Cheddar 6...\n",
      "Baxters Favourites, Chicken Broth Soup 400g\n",
      "Celebrations Chocolates Easter Sharing Pouch Bag 400g\n",
      "Sainsbury's Tomato & Three Bean Soup, Be Good To Yourself 400g\n",
      "Sainsbury's Chantenay Carrot & Honey Roast Parsnip Soup, Taste the Difference 60...\n",
      "Baxters Favourites, Lentil & Bacon Soup 400g\n",
      "Sainsbury's Tomato & Basil Soup 600g\n",
      "Baxters Vegetarian, Spicy Parsnip Soup 400g\n",
      "New Covent Garden Tomato & Basil Soup 560g\n",
      "Sainsbury's Minestrone Soup 400g\n",
      "Campbell's Condensed Cream Of Chicken Soup 295g\n",
      "Sainsbury's Tomato & Spicy Lentil Soup, Be Good To Yourself 400g\n",
      "Sainsbury's Oxtail Soup 400g\n",
      "Heinz Oxtail Soup 400g\n"
     ]
    }
   ],
   "source": [
    "with open(\"data/truth3\", \"rb\") as fp:   # Unpickling\n",
    "    truth = pickle.load(fp)\n",
    "    \n",
    "for t in truth:\n",
    "    print(t)"
   ]
  },
  {
   "cell_type": "code",
   "execution_count": 5,
   "id": "4032d4f3",
   "metadata": {},
   "outputs": [],
   "source": [
    "# Opening JSON file\n",
    "#with open('data/data.json') as json_file:\n",
    "#    data = json.load(json_file)\n",
    "#print(data)"
   ]
  },
  {
   "cell_type": "code",
   "execution_count": 6,
   "id": "75156f88",
   "metadata": {},
   "outputs": [
    {
     "data": {
      "text/html": [
       "<div>\n",
       "<style scoped>\n",
       "    .dataframe tbody tr th:only-of-type {\n",
       "        vertical-align: middle;\n",
       "    }\n",
       "\n",
       "    .dataframe tbody tr th {\n",
       "        vertical-align: top;\n",
       "    }\n",
       "\n",
       "    .dataframe thead th {\n",
       "        text-align: right;\n",
       "    }\n",
       "</style>\n",
       "<table border=\"1\" class=\"dataframe\">\n",
       "  <thead>\n",
       "    <tr style=\"text-align: right;\">\n",
       "      <th></th>\n",
       "      <th>label</th>\n",
       "      <th>label_note</th>\n",
       "      <th>text</th>\n",
       "    </tr>\n",
       "  </thead>\n",
       "  <tbody>\n",
       "    <tr>\n",
       "      <th>0</th>\n",
       "      <td>0</td>\n",
       "      <td>non-product</td>\n",
       "      <td>Log in / Register</td>\n",
       "    </tr>\n",
       "    <tr>\n",
       "      <th>1</th>\n",
       "      <td>0</td>\n",
       "      <td>non-product</td>\n",
       "      <td>Search a list of items</td>\n",
       "    </tr>\n",
       "    <tr>\n",
       "      <th>2</th>\n",
       "      <td>0</td>\n",
       "      <td>non-product</td>\n",
       "      <td>Favourites</td>\n",
       "    </tr>\n",
       "    <tr>\n",
       "      <th>3</th>\n",
       "      <td>0</td>\n",
       "      <td>non-product</td>\n",
       "      <td>Nectar</td>\n",
       "    </tr>\n",
       "    <tr>\n",
       "      <th>4</th>\n",
       "      <td>0</td>\n",
       "      <td>non-product</td>\n",
       "      <td>Offers</td>\n",
       "    </tr>\n",
       "    <tr>\n",
       "      <th>5</th>\n",
       "      <td>0</td>\n",
       "      <td>non-product</td>\n",
       "      <td>Discover</td>\n",
       "    </tr>\n",
       "    <tr>\n",
       "      <th>6</th>\n",
       "      <td>0</td>\n",
       "      <td>non-product</td>\n",
       "      <td>Recipes</td>\n",
       "    </tr>\n",
       "    <tr>\n",
       "      <th>7</th>\n",
       "      <td>0</td>\n",
       "      <td>non-product</td>\n",
       "      <td>Delivery Pass</td>\n",
       "    </tr>\n",
       "    <tr>\n",
       "      <th>8</th>\n",
       "      <td>0</td>\n",
       "      <td>non-product</td>\n",
       "      <td>Occasions</td>\n",
       "    </tr>\n",
       "    <tr>\n",
       "      <th>9</th>\n",
       "      <td>0</td>\n",
       "      <td>non-product</td>\n",
       "      <td>Mother's Day</td>\n",
       "    </tr>\n",
       "    <tr>\n",
       "      <th>10</th>\n",
       "      <td>1</td>\n",
       "      <td>product</td>\n",
       "      <td>Yorkshire Provender Roast Chicken Soup With Tr...</td>\n",
       "    </tr>\n",
       "    <tr>\n",
       "      <th>11</th>\n",
       "      <td>0</td>\n",
       "      <td>non-product</td>\n",
       "      <td>(59)</td>\n",
       "    </tr>\n",
       "    <tr>\n",
       "      <th>12</th>\n",
       "      <td>0</td>\n",
       "      <td>non-product</td>\n",
       "      <td>Only £2.00: Save 75p</td>\n",
       "    </tr>\n",
       "    <tr>\n",
       "      <th>13</th>\n",
       "      <td>1</td>\n",
       "      <td>product</td>\n",
       "      <td>Sainsbury's Sweet Potato Coconut &amp; Chilli Soup...</td>\n",
       "    </tr>\n",
       "    <tr>\n",
       "      <th>14</th>\n",
       "      <td>0</td>\n",
       "      <td>non-product</td>\n",
       "      <td>(21)</td>\n",
       "    </tr>\n",
       "    <tr>\n",
       "      <th>15</th>\n",
       "      <td>0</td>\n",
       "      <td>non-product</td>\n",
       "      <td>Typical life 7 days</td>\n",
       "    </tr>\n",
       "    <tr>\n",
       "      <th>16</th>\n",
       "      <td>1</td>\n",
       "      <td>product</td>\n",
       "      <td>Heinz Classic Cream of Chicken Soup 4x400g</td>\n",
       "    </tr>\n",
       "    <tr>\n",
       "      <th>17</th>\n",
       "      <td>0</td>\n",
       "      <td>non-product</td>\n",
       "      <td>(5)</td>\n",
       "    </tr>\n",
       "    <tr>\n",
       "      <th>18</th>\n",
       "      <td>0</td>\n",
       "      <td>non-product</td>\n",
       "      <td>Price Lock*</td>\n",
       "    </tr>\n",
       "    <tr>\n",
       "      <th>19</th>\n",
       "      <td>1</td>\n",
       "      <td>product</td>\n",
       "      <td>Heinz Cream of Tomato Soup x4 400g</td>\n",
       "    </tr>\n",
       "    <tr>\n",
       "      <th>20</th>\n",
       "      <td>0</td>\n",
       "      <td>non-product</td>\n",
       "      <td>(8)</td>\n",
       "    </tr>\n",
       "    <tr>\n",
       "      <th>21</th>\n",
       "      <td>0</td>\n",
       "      <td>non-product</td>\n",
       "      <td>Price Lock*</td>\n",
       "    </tr>\n",
       "    <tr>\n",
       "      <th>22</th>\n",
       "      <td>1</td>\n",
       "      <td>product</td>\n",
       "      <td>Heinz Cream of Chicken Soup 400g</td>\n",
       "    </tr>\n",
       "    <tr>\n",
       "      <th>23</th>\n",
       "      <td>0</td>\n",
       "      <td>non-product</td>\n",
       "      <td>(11)</td>\n",
       "    </tr>\n",
       "    <tr>\n",
       "      <th>24</th>\n",
       "      <td>0</td>\n",
       "      <td>non-product</td>\n",
       "      <td>Only 85p: Save 15p</td>\n",
       "    </tr>\n",
       "    <tr>\n",
       "      <th>25</th>\n",
       "      <td>1</td>\n",
       "      <td>product</td>\n",
       "      <td>Sainsbury's Cream Of Tomato Soup 400g</td>\n",
       "    </tr>\n",
       "    <tr>\n",
       "      <th>26</th>\n",
       "      <td>0</td>\n",
       "      <td>non-product</td>\n",
       "      <td>(35)</td>\n",
       "    </tr>\n",
       "    <tr>\n",
       "      <th>27</th>\n",
       "      <td>1</td>\n",
       "      <td>product</td>\n",
       "      <td>Heinz Cream of Tomato Soup 400g</td>\n",
       "    </tr>\n",
       "    <tr>\n",
       "      <th>28</th>\n",
       "      <td>0</td>\n",
       "      <td>non-product</td>\n",
       "      <td>(10)</td>\n",
       "    </tr>\n",
       "    <tr>\n",
       "      <th>29</th>\n",
       "      <td>1</td>\n",
       "      <td>product</td>\n",
       "      <td>Sainsbury's Vegetable Soup 400g</td>\n",
       "    </tr>\n",
       "    <tr>\n",
       "      <th>30</th>\n",
       "      <td>0</td>\n",
       "      <td>non-product</td>\n",
       "      <td>(28)</td>\n",
       "    </tr>\n",
       "    <tr>\n",
       "      <th>31</th>\n",
       "      <td>1</td>\n",
       "      <td>product</td>\n",
       "      <td>Sainsbury's Tomato &amp; Basil Soup 600g</td>\n",
       "    </tr>\n",
       "    <tr>\n",
       "      <th>32</th>\n",
       "      <td>0</td>\n",
       "      <td>non-product</td>\n",
       "      <td>(36)</td>\n",
       "    </tr>\n",
       "    <tr>\n",
       "      <th>33</th>\n",
       "      <td>0</td>\n",
       "      <td>non-product</td>\n",
       "      <td>Typical life 7 days</td>\n",
       "    </tr>\n",
       "    <tr>\n",
       "      <th>34</th>\n",
       "      <td>1</td>\n",
       "      <td>product</td>\n",
       "      <td>Sainsbury's Chicken &amp; Sweetcorn Soup 600g</td>\n",
       "    </tr>\n",
       "    <tr>\n",
       "      <th>35</th>\n",
       "      <td>0</td>\n",
       "      <td>non-product</td>\n",
       "      <td>(56)</td>\n",
       "    </tr>\n",
       "    <tr>\n",
       "      <th>36</th>\n",
       "      <td>0</td>\n",
       "      <td>non-product</td>\n",
       "      <td>Typical life 7 days</td>\n",
       "    </tr>\n",
       "    <tr>\n",
       "      <th>37</th>\n",
       "      <td>0</td>\n",
       "      <td>non-product</td>\n",
       "      <td>ALDI PRICE MATCH*</td>\n",
       "    </tr>\n",
       "    <tr>\n",
       "      <th>38</th>\n",
       "      <td>1</td>\n",
       "      <td>product</td>\n",
       "      <td>Heinz Big Soup, Chicken &amp; Vegetable 400g</td>\n",
       "    </tr>\n",
       "    <tr>\n",
       "      <th>39</th>\n",
       "      <td>0</td>\n",
       "      <td>non-product</td>\n",
       "      <td>(10)</td>\n",
       "    </tr>\n",
       "    <tr>\n",
       "      <th>40</th>\n",
       "      <td>0</td>\n",
       "      <td>non-product</td>\n",
       "      <td>Only £1.25: Save 15p</td>\n",
       "    </tr>\n",
       "    <tr>\n",
       "      <th>41</th>\n",
       "      <td>1</td>\n",
       "      <td>product</td>\n",
       "      <td>Sainsbury's Minestrone Soup 600g</td>\n",
       "    </tr>\n",
       "    <tr>\n",
       "      <th>42</th>\n",
       "      <td>0</td>\n",
       "      <td>non-product</td>\n",
       "      <td>(31)</td>\n",
       "    </tr>\n",
       "    <tr>\n",
       "      <th>43</th>\n",
       "      <td>0</td>\n",
       "      <td>non-product</td>\n",
       "      <td>Typical life 7 days</td>\n",
       "    </tr>\n",
       "    <tr>\n",
       "      <th>44</th>\n",
       "      <td>1</td>\n",
       "      <td>product</td>\n",
       "      <td>Sainsbury's Spicy Tomato, Lentil &amp; Red Pepper ...</td>\n",
       "    </tr>\n",
       "    <tr>\n",
       "      <th>45</th>\n",
       "      <td>0</td>\n",
       "      <td>non-product</td>\n",
       "      <td>(52)</td>\n",
       "    </tr>\n",
       "    <tr>\n",
       "      <th>46</th>\n",
       "      <td>0</td>\n",
       "      <td>non-product</td>\n",
       "      <td>Typical life 7 days</td>\n",
       "    </tr>\n",
       "    <tr>\n",
       "      <th>47</th>\n",
       "      <td>1</td>\n",
       "      <td>product</td>\n",
       "      <td>Sainsbury's Carrot &amp; Coriander Soup 600g</td>\n",
       "    </tr>\n",
       "    <tr>\n",
       "      <th>48</th>\n",
       "      <td>0</td>\n",
       "      <td>non-product</td>\n",
       "      <td>(47)</td>\n",
       "    </tr>\n",
       "    <tr>\n",
       "      <th>49</th>\n",
       "      <td>0</td>\n",
       "      <td>non-product</td>\n",
       "      <td>Typical life 7 days</td>\n",
       "    </tr>\n",
       "    <tr>\n",
       "      <th>50</th>\n",
       "      <td>0</td>\n",
       "      <td>non-product</td>\n",
       "      <td>ALDI PRICE MATCH*</td>\n",
       "    </tr>\n",
       "    <tr>\n",
       "      <th>51</th>\n",
       "      <td>1</td>\n",
       "      <td>product</td>\n",
       "      <td>Sainsbury's Cream Of Mushroom Soup 400g</td>\n",
       "    </tr>\n",
       "    <tr>\n",
       "      <th>52</th>\n",
       "      <td>0</td>\n",
       "      <td>non-product</td>\n",
       "      <td>(18)</td>\n",
       "    </tr>\n",
       "    <tr>\n",
       "      <th>53</th>\n",
       "      <td>1</td>\n",
       "      <td>product</td>\n",
       "      <td>Sainsbury's Petits Pois &amp; Ham Soup, Taste the ...</td>\n",
       "    </tr>\n",
       "    <tr>\n",
       "      <th>54</th>\n",
       "      <td>0</td>\n",
       "      <td>non-product</td>\n",
       "      <td>(102)</td>\n",
       "    </tr>\n",
       "    <tr>\n",
       "      <th>55</th>\n",
       "      <td>0</td>\n",
       "      <td>non-product</td>\n",
       "      <td>Typical life 7 days</td>\n",
       "    </tr>\n",
       "    <tr>\n",
       "      <th>56</th>\n",
       "      <td>1</td>\n",
       "      <td>product</td>\n",
       "      <td>Sainsbury's Lentil Dhal Soup 600g</td>\n",
       "    </tr>\n",
       "    <tr>\n",
       "      <th>57</th>\n",
       "      <td>0</td>\n",
       "      <td>non-product</td>\n",
       "      <td>(163)</td>\n",
       "    </tr>\n",
       "    <tr>\n",
       "      <th>58</th>\n",
       "      <td>0</td>\n",
       "      <td>non-product</td>\n",
       "      <td>Typical life 7 days</td>\n",
       "    </tr>\n",
       "    <tr>\n",
       "      <th>59</th>\n",
       "      <td>1</td>\n",
       "      <td>product</td>\n",
       "      <td>New Covent Garden Classic Chicken Soup 560g</td>\n",
       "    </tr>\n",
       "    <tr>\n",
       "      <th>60</th>\n",
       "      <td>0</td>\n",
       "      <td>non-product</td>\n",
       "      <td>(45)</td>\n",
       "    </tr>\n",
       "    <tr>\n",
       "      <th>61</th>\n",
       "      <td>0</td>\n",
       "      <td>non-product</td>\n",
       "      <td>Typical life 7 days</td>\n",
       "    </tr>\n",
       "    <tr>\n",
       "      <th>62</th>\n",
       "      <td>1</td>\n",
       "      <td>product</td>\n",
       "      <td>Heinz Minestrone Soup 400g</td>\n",
       "    </tr>\n",
       "    <tr>\n",
       "      <th>63</th>\n",
       "      <td>0</td>\n",
       "      <td>non-product</td>\n",
       "      <td>(4)</td>\n",
       "    </tr>\n",
       "    <tr>\n",
       "      <th>64</th>\n",
       "      <td>0</td>\n",
       "      <td>non-product</td>\n",
       "      <td>Only 85p: Save 15p</td>\n",
       "    </tr>\n",
       "    <tr>\n",
       "      <th>65</th>\n",
       "      <td>1</td>\n",
       "      <td>product</td>\n",
       "      <td>Heinz Cream Of Mushroom Soup 400g</td>\n",
       "    </tr>\n",
       "    <tr>\n",
       "      <th>66</th>\n",
       "      <td>0</td>\n",
       "      <td>non-product</td>\n",
       "      <td>(7)</td>\n",
       "    </tr>\n",
       "    <tr>\n",
       "      <th>67</th>\n",
       "      <td>1</td>\n",
       "      <td>product</td>\n",
       "      <td>Heinz Oxtail Soup 400g</td>\n",
       "    </tr>\n",
       "    <tr>\n",
       "      <th>68</th>\n",
       "      <td>0</td>\n",
       "      <td>non-product</td>\n",
       "      <td>(6)</td>\n",
       "    </tr>\n",
       "    <tr>\n",
       "      <th>69</th>\n",
       "      <td>0</td>\n",
       "      <td>non-product</td>\n",
       "      <td>Only 85p: Save 15p</td>\n",
       "    </tr>\n",
       "    <tr>\n",
       "      <th>70</th>\n",
       "      <td>1</td>\n",
       "      <td>product</td>\n",
       "      <td>Sainsbury's Cream Of Chicken Soup 400g</td>\n",
       "    </tr>\n",
       "    <tr>\n",
       "      <th>71</th>\n",
       "      <td>0</td>\n",
       "      <td>non-product</td>\n",
       "      <td>(14)</td>\n",
       "    </tr>\n",
       "    <tr>\n",
       "      <th>72</th>\n",
       "      <td>1</td>\n",
       "      <td>product</td>\n",
       "      <td>Sainsbury's Moroccan Spiced Chicken &amp; Chickpea...</td>\n",
       "    </tr>\n",
       "    <tr>\n",
       "      <th>73</th>\n",
       "      <td>0</td>\n",
       "      <td>non-product</td>\n",
       "      <td>(84)</td>\n",
       "    </tr>\n",
       "    <tr>\n",
       "      <th>74</th>\n",
       "      <td>0</td>\n",
       "      <td>non-product</td>\n",
       "      <td>Typical life 7 days</td>\n",
       "    </tr>\n",
       "    <tr>\n",
       "      <th>75</th>\n",
       "      <td>1</td>\n",
       "      <td>product</td>\n",
       "      <td>Heinz Vegetable Soup 400g</td>\n",
       "    </tr>\n",
       "    <tr>\n",
       "      <th>76</th>\n",
       "      <td>0</td>\n",
       "      <td>non-product</td>\n",
       "      <td>(7)</td>\n",
       "    </tr>\n",
       "    <tr>\n",
       "      <th>77</th>\n",
       "      <td>1</td>\n",
       "      <td>product</td>\n",
       "      <td>Sainsbury's Tomato &amp; Three Bean Soup, Be Good ...</td>\n",
       "    </tr>\n",
       "    <tr>\n",
       "      <th>78</th>\n",
       "      <td>0</td>\n",
       "      <td>non-product</td>\n",
       "      <td>(39)</td>\n",
       "    </tr>\n",
       "    <tr>\n",
       "      <th>79</th>\n",
       "      <td>1</td>\n",
       "      <td>product</td>\n",
       "      <td>Sainsbury's Chicken &amp; Mushroom Soup 400g</td>\n",
       "    </tr>\n",
       "    <tr>\n",
       "      <th>80</th>\n",
       "      <td>0</td>\n",
       "      <td>non-product</td>\n",
       "      <td>(9)</td>\n",
       "    </tr>\n",
       "    <tr>\n",
       "      <th>81</th>\n",
       "      <td>1</td>\n",
       "      <td>product</td>\n",
       "      <td>Heinz Chicken Noodle Soup 400g</td>\n",
       "    </tr>\n",
       "    <tr>\n",
       "      <th>82</th>\n",
       "      <td>0</td>\n",
       "      <td>non-product</td>\n",
       "      <td>(4)</td>\n",
       "    </tr>\n",
       "    <tr>\n",
       "      <th>83</th>\n",
       "      <td>0</td>\n",
       "      <td>non-product</td>\n",
       "      <td>Only 85p: Save 15p</td>\n",
       "    </tr>\n",
       "    <tr>\n",
       "      <th>84</th>\n",
       "      <td>1</td>\n",
       "      <td>product</td>\n",
       "      <td>New Covent Garden Leek &amp; Potato Soup 560g</td>\n",
       "    </tr>\n",
       "    <tr>\n",
       "      <th>85</th>\n",
       "      <td>0</td>\n",
       "      <td>non-product</td>\n",
       "      <td>(24)</td>\n",
       "    </tr>\n",
       "    <tr>\n",
       "      <th>86</th>\n",
       "      <td>0</td>\n",
       "      <td>non-product</td>\n",
       "      <td>Typical life 7 days</td>\n",
       "    </tr>\n",
       "    <tr>\n",
       "      <th>87</th>\n",
       "      <td>1</td>\n",
       "      <td>product</td>\n",
       "      <td>Sainsbury's Carrot &amp; Coriander Soup 400g</td>\n",
       "    </tr>\n",
       "    <tr>\n",
       "      <th>88</th>\n",
       "      <td>0</td>\n",
       "      <td>non-product</td>\n",
       "      <td>(24)</td>\n",
       "    </tr>\n",
       "    <tr>\n",
       "      <th>89</th>\n",
       "      <td>1</td>\n",
       "      <td>product</td>\n",
       "      <td>Heinz Mulligatawny Soup 400g</td>\n",
       "    </tr>\n",
       "    <tr>\n",
       "      <th>90</th>\n",
       "      <td>0</td>\n",
       "      <td>non-product</td>\n",
       "      <td>(10)</td>\n",
       "    </tr>\n",
       "    <tr>\n",
       "      <th>91</th>\n",
       "      <td>0</td>\n",
       "      <td>non-product</td>\n",
       "      <td>Only 85p: Save 15p</td>\n",
       "    </tr>\n",
       "    <tr>\n",
       "      <th>92</th>\n",
       "      <td>1</td>\n",
       "      <td>product</td>\n",
       "      <td>Sainsbury's Tomato Red Pepper &amp; Lentil Soup 400g</td>\n",
       "    </tr>\n",
       "    <tr>\n",
       "      <th>93</th>\n",
       "      <td>0</td>\n",
       "      <td>non-product</td>\n",
       "      <td>(18)</td>\n",
       "    </tr>\n",
       "    <tr>\n",
       "      <th>94</th>\n",
       "      <td>1</td>\n",
       "      <td>product</td>\n",
       "      <td>Sainsbury's Minestrone Soup 400g</td>\n",
       "    </tr>\n",
       "    <tr>\n",
       "      <th>95</th>\n",
       "      <td>0</td>\n",
       "      <td>non-product</td>\n",
       "      <td>(38)</td>\n",
       "    </tr>\n",
       "    <tr>\n",
       "      <th>96</th>\n",
       "      <td>1</td>\n",
       "      <td>product</td>\n",
       "      <td>Yorkshire Provender Cauliflower Cheese Soup Wi...</td>\n",
       "    </tr>\n",
       "    <tr>\n",
       "      <th>97</th>\n",
       "      <td>0</td>\n",
       "      <td>non-product</td>\n",
       "      <td>(27)</td>\n",
       "    </tr>\n",
       "    <tr>\n",
       "      <th>98</th>\n",
       "      <td>0</td>\n",
       "      <td>non-product</td>\n",
       "      <td>Only £2.00: Save 75p</td>\n",
       "    </tr>\n",
       "    <tr>\n",
       "      <th>99</th>\n",
       "      <td>1</td>\n",
       "      <td>product</td>\n",
       "      <td>Sainsbury's Oxtail Soup 400g</td>\n",
       "    </tr>\n",
       "    <tr>\n",
       "      <th>100</th>\n",
       "      <td>0</td>\n",
       "      <td>non-product</td>\n",
       "      <td>(21)</td>\n",
       "    </tr>\n",
       "    <tr>\n",
       "      <th>101</th>\n",
       "      <td>1</td>\n",
       "      <td>product</td>\n",
       "      <td>Sainsbury's Cream Of Tomato Soup 600g</td>\n",
       "    </tr>\n",
       "    <tr>\n",
       "      <th>102</th>\n",
       "      <td>0</td>\n",
       "      <td>non-product</td>\n",
       "      <td>(14)</td>\n",
       "    </tr>\n",
       "    <tr>\n",
       "      <th>103</th>\n",
       "      <td>0</td>\n",
       "      <td>non-product</td>\n",
       "      <td>Typical life 7 days</td>\n",
       "    </tr>\n",
       "    <tr>\n",
       "      <th>104</th>\n",
       "      <td>1</td>\n",
       "      <td>product</td>\n",
       "      <td>New Covent Garden Vegetable Soup 560g</td>\n",
       "    </tr>\n",
       "    <tr>\n",
       "      <th>105</th>\n",
       "      <td>0</td>\n",
       "      <td>non-product</td>\n",
       "      <td>(18)</td>\n",
       "    </tr>\n",
       "    <tr>\n",
       "      <th>106</th>\n",
       "      <td>0</td>\n",
       "      <td>non-product</td>\n",
       "      <td>Typical life 7 days</td>\n",
       "    </tr>\n",
       "    <tr>\n",
       "      <th>107</th>\n",
       "      <td>1</td>\n",
       "      <td>product</td>\n",
       "      <td>Heinz Big Soup, Beef &amp; Vegetable 400g</td>\n",
       "    </tr>\n",
       "    <tr>\n",
       "      <th>108</th>\n",
       "      <td>0</td>\n",
       "      <td>non-product</td>\n",
       "      <td>(40)</td>\n",
       "    </tr>\n",
       "    <tr>\n",
       "      <th>109</th>\n",
       "      <td>1</td>\n",
       "      <td>product</td>\n",
       "      <td>Sainsbury's Broccoli &amp; Stilton Soup 400g</td>\n",
       "    </tr>\n",
       "    <tr>\n",
       "      <th>110</th>\n",
       "      <td>0</td>\n",
       "      <td>non-product</td>\n",
       "      <td>(50)</td>\n",
       "    </tr>\n",
       "    <tr>\n",
       "      <th>111</th>\n",
       "      <td>1</td>\n",
       "      <td>product</td>\n",
       "      <td>Sainsbury's Leek &amp; Potato Soup 400g</td>\n",
       "    </tr>\n",
       "    <tr>\n",
       "      <th>112</th>\n",
       "      <td>0</td>\n",
       "      <td>non-product</td>\n",
       "      <td>(14)</td>\n",
       "    </tr>\n",
       "    <tr>\n",
       "      <th>113</th>\n",
       "      <td>1</td>\n",
       "      <td>product</td>\n",
       "      <td>New Covent Garden Mushroom Soup 560g</td>\n",
       "    </tr>\n",
       "    <tr>\n",
       "      <th>114</th>\n",
       "      <td>0</td>\n",
       "      <td>non-product</td>\n",
       "      <td>(29)</td>\n",
       "    </tr>\n",
       "    <tr>\n",
       "      <th>115</th>\n",
       "      <td>0</td>\n",
       "      <td>non-product</td>\n",
       "      <td>Typical life 7 days</td>\n",
       "    </tr>\n",
       "    <tr>\n",
       "      <th>116</th>\n",
       "      <td>1</td>\n",
       "      <td>product</td>\n",
       "      <td>New Covent Garden Lentil &amp; Smoked Bacon Soup 560g</td>\n",
       "    </tr>\n",
       "    <tr>\n",
       "      <th>117</th>\n",
       "      <td>0</td>\n",
       "      <td>non-product</td>\n",
       "      <td>(24)</td>\n",
       "    </tr>\n",
       "    <tr>\n",
       "      <th>118</th>\n",
       "      <td>0</td>\n",
       "      <td>non-product</td>\n",
       "      <td>Typical life 7 days</td>\n",
       "    </tr>\n",
       "    <tr>\n",
       "      <th>119</th>\n",
       "      <td>1</td>\n",
       "      <td>product</td>\n",
       "      <td>Sainsbury's Chantenay Carrot &amp; Honey Roast Par...</td>\n",
       "    </tr>\n",
       "    <tr>\n",
       "      <th>120</th>\n",
       "      <td>0</td>\n",
       "      <td>non-product</td>\n",
       "      <td>(63)</td>\n",
       "    </tr>\n",
       "    <tr>\n",
       "      <th>121</th>\n",
       "      <td>0</td>\n",
       "      <td>non-product</td>\n",
       "      <td>Typical life 7 days</td>\n",
       "    </tr>\n",
       "    <tr>\n",
       "      <th>122</th>\n",
       "      <td>1</td>\n",
       "      <td>product</td>\n",
       "      <td>Baxters Favourites, Lentil &amp; Bacon Soup 400g</td>\n",
       "    </tr>\n",
       "    <tr>\n",
       "      <th>123</th>\n",
       "      <td>0</td>\n",
       "      <td>non-product</td>\n",
       "      <td>(6)</td>\n",
       "    </tr>\n",
       "    <tr>\n",
       "      <th>124</th>\n",
       "      <td>1</td>\n",
       "      <td>product</td>\n",
       "      <td>Sainsbury's Scotch Broth Soup 400g</td>\n",
       "    </tr>\n",
       "    <tr>\n",
       "      <th>125</th>\n",
       "      <td>0</td>\n",
       "      <td>non-product</td>\n",
       "      <td>(18)</td>\n",
       "    </tr>\n",
       "    <tr>\n",
       "      <th>126</th>\n",
       "      <td>1</td>\n",
       "      <td>product</td>\n",
       "      <td>New Covent Garden Tomato &amp; Basil Soup 560g</td>\n",
       "    </tr>\n",
       "    <tr>\n",
       "      <th>127</th>\n",
       "      <td>0</td>\n",
       "      <td>non-product</td>\n",
       "      <td>(18)</td>\n",
       "    </tr>\n",
       "    <tr>\n",
       "      <th>128</th>\n",
       "      <td>0</td>\n",
       "      <td>non-product</td>\n",
       "      <td>Typical life 7 days</td>\n",
       "    </tr>\n",
       "    <tr>\n",
       "      <th>129</th>\n",
       "      <td>1</td>\n",
       "      <td>product</td>\n",
       "      <td>Baxters Favourites, Cream Of Tomato Soup 400g</td>\n",
       "    </tr>\n",
       "    <tr>\n",
       "      <th>130</th>\n",
       "      <td>0</td>\n",
       "      <td>non-product</td>\n",
       "      <td>(15)</td>\n",
       "    </tr>\n",
       "    <tr>\n",
       "      <th>131</th>\n",
       "      <td>1</td>\n",
       "      <td>product</td>\n",
       "      <td>Sainsbury's Chunky Chicken &amp; Vegetable Soup 400g</td>\n",
       "    </tr>\n",
       "    <tr>\n",
       "      <th>132</th>\n",
       "      <td>0</td>\n",
       "      <td>non-product</td>\n",
       "      <td>(14)</td>\n",
       "    </tr>\n",
       "    <tr>\n",
       "      <th>133</th>\n",
       "      <td>1</td>\n",
       "      <td>product</td>\n",
       "      <td>Heinz Limited Edition Cream Of Tomato Soup Wit...</td>\n",
       "    </tr>\n",
       "    <tr>\n",
       "      <th>134</th>\n",
       "      <td>0</td>\n",
       "      <td>non-product</td>\n",
       "      <td>(4)</td>\n",
       "    </tr>\n",
       "    <tr>\n",
       "      <th>135</th>\n",
       "      <td>1</td>\n",
       "      <td>product</td>\n",
       "      <td>Campbell's Condensed Cream of Mushroom Soup 294g</td>\n",
       "    </tr>\n",
       "    <tr>\n",
       "      <th>136</th>\n",
       "      <td>0</td>\n",
       "      <td>non-product</td>\n",
       "      <td>(10)</td>\n",
       "    </tr>\n",
       "    <tr>\n",
       "      <th>137</th>\n",
       "      <td>1</td>\n",
       "      <td>product</td>\n",
       "      <td>Sainsbury's Tomato &amp; Basil Soup 400g</td>\n",
       "    </tr>\n",
       "    <tr>\n",
       "      <th>138</th>\n",
       "      <td>0</td>\n",
       "      <td>non-product</td>\n",
       "      <td>(25)</td>\n",
       "    </tr>\n",
       "    <tr>\n",
       "      <th>139</th>\n",
       "      <td>1</td>\n",
       "      <td>product</td>\n",
       "      <td>Sainsbury's Tomato &amp; Spicy Lentil Soup, Be Goo...</td>\n",
       "    </tr>\n",
       "    <tr>\n",
       "      <th>140</th>\n",
       "      <td>0</td>\n",
       "      <td>non-product</td>\n",
       "      <td>(26)</td>\n",
       "    </tr>\n",
       "    <tr>\n",
       "      <th>141</th>\n",
       "      <td>1</td>\n",
       "      <td>product</td>\n",
       "      <td>Baxters Vegetarian, Spicy Parsnip Soup 400g</td>\n",
       "    </tr>\n",
       "    <tr>\n",
       "      <th>142</th>\n",
       "      <td>0</td>\n",
       "      <td>non-product</td>\n",
       "      <td>(12)</td>\n",
       "    </tr>\n",
       "    <tr>\n",
       "      <th>143</th>\n",
       "      <td>1</td>\n",
       "      <td>product</td>\n",
       "      <td>Baxters Favourites, Chicken Broth Soup 400g</td>\n",
       "    </tr>\n",
       "    <tr>\n",
       "      <th>144</th>\n",
       "      <td>0</td>\n",
       "      <td>non-product</td>\n",
       "      <td>(18)</td>\n",
       "    </tr>\n",
       "    <tr>\n",
       "      <th>145</th>\n",
       "      <td>1</td>\n",
       "      <td>product</td>\n",
       "      <td>Sainsbury's Cream Of Tomato Soup 4x400g</td>\n",
       "    </tr>\n",
       "    <tr>\n",
       "      <th>146</th>\n",
       "      <td>0</td>\n",
       "      <td>non-product</td>\n",
       "      <td>(19)</td>\n",
       "    </tr>\n",
       "    <tr>\n",
       "      <th>147</th>\n",
       "      <td>1</td>\n",
       "      <td>product</td>\n",
       "      <td>New Covent Garden Spiced Butternut Soup 560g</td>\n",
       "    </tr>\n",
       "    <tr>\n",
       "      <th>148</th>\n",
       "      <td>0</td>\n",
       "      <td>non-product</td>\n",
       "      <td>(9)</td>\n",
       "    </tr>\n",
       "    <tr>\n",
       "      <th>149</th>\n",
       "      <td>0</td>\n",
       "      <td>non-product</td>\n",
       "      <td>Typical life 7 days</td>\n",
       "    </tr>\n",
       "    <tr>\n",
       "      <th>150</th>\n",
       "      <td>1</td>\n",
       "      <td>product</td>\n",
       "      <td>Heinz Country Vegetable Big Soup 400g</td>\n",
       "    </tr>\n",
       "    <tr>\n",
       "      <th>151</th>\n",
       "      <td>0</td>\n",
       "      <td>non-product</td>\n",
       "      <td>(10)</td>\n",
       "    </tr>\n",
       "    <tr>\n",
       "      <th>152</th>\n",
       "      <td>1</td>\n",
       "      <td>product</td>\n",
       "      <td>Heinz Vegetable Soup 4x400g</td>\n",
       "    </tr>\n",
       "    <tr>\n",
       "      <th>153</th>\n",
       "      <td>0</td>\n",
       "      <td>non-product</td>\n",
       "      <td>(1)</td>\n",
       "    </tr>\n",
       "    <tr>\n",
       "      <th>154</th>\n",
       "      <td>0</td>\n",
       "      <td>non-product</td>\n",
       "      <td>Price Lock*</td>\n",
       "    </tr>\n",
       "    <tr>\n",
       "      <th>155</th>\n",
       "      <td>1</td>\n",
       "      <td>product</td>\n",
       "      <td>Campbell's Condensed Cream Of Chicken Soup 295g</td>\n",
       "    </tr>\n",
       "    <tr>\n",
       "      <th>156</th>\n",
       "      <td>0</td>\n",
       "      <td>non-product</td>\n",
       "      <td>(7)</td>\n",
       "    </tr>\n",
       "    <tr>\n",
       "      <th>157</th>\n",
       "      <td>1</td>\n",
       "      <td>product</td>\n",
       "      <td>Baxters Favourites, Minestrone Soup 400g</td>\n",
       "    </tr>\n",
       "    <tr>\n",
       "      <th>158</th>\n",
       "      <td>0</td>\n",
       "      <td>non-product</td>\n",
       "      <td>(9)</td>\n",
       "    </tr>\n",
       "    <tr>\n",
       "      <th>159</th>\n",
       "      <td>1</td>\n",
       "      <td>product</td>\n",
       "      <td>Sainsbury's Chunky Beef &amp; Vegetable Soup 400g</td>\n",
       "    </tr>\n",
       "    <tr>\n",
       "      <th>160</th>\n",
       "      <td>0</td>\n",
       "      <td>non-product</td>\n",
       "      <td>(14)</td>\n",
       "    </tr>\n",
       "    <tr>\n",
       "      <th>161</th>\n",
       "      <td>0</td>\n",
       "      <td>non-product</td>\n",
       "      <td>1</td>\n",
       "    </tr>\n",
       "    <tr>\n",
       "      <th>162</th>\n",
       "      <td>0</td>\n",
       "      <td>non-product</td>\n",
       "      <td>2</td>\n",
       "    </tr>\n",
       "    <tr>\n",
       "      <th>163</th>\n",
       "      <td>0</td>\n",
       "      <td>non-product</td>\n",
       "      <td>3</td>\n",
       "    </tr>\n",
       "    <tr>\n",
       "      <th>164</th>\n",
       "      <td>0</td>\n",
       "      <td>non-product</td>\n",
       "      <td>4</td>\n",
       "    </tr>\n",
       "    <tr>\n",
       "      <th>165</th>\n",
       "      <td>0</td>\n",
       "      <td>non-product</td>\n",
       "      <td>5</td>\n",
       "    </tr>\n",
       "    <tr>\n",
       "      <th>166</th>\n",
       "      <td>1</td>\n",
       "      <td>product</td>\n",
       "      <td>Celebrations Chocolates Easter Sharing Pouch B...</td>\n",
       "    </tr>\n",
       "    <tr>\n",
       "      <th>167</th>\n",
       "      <td>1</td>\n",
       "      <td>product</td>\n",
       "      <td>Tiny Rebel Clwb Tropica 4x330ml</td>\n",
       "    </tr>\n",
       "    <tr>\n",
       "      <th>168</th>\n",
       "      <td>0</td>\n",
       "      <td>non-product</td>\n",
       "      <td>Accessibility</td>\n",
       "    </tr>\n",
       "    <tr>\n",
       "      <th>169</th>\n",
       "      <td>0</td>\n",
       "      <td>non-product</td>\n",
       "      <td>Cookie policy</td>\n",
       "    </tr>\n",
       "    <tr>\n",
       "      <th>170</th>\n",
       "      <td>0</td>\n",
       "      <td>non-product</td>\n",
       "      <td>Privacy policy</td>\n",
       "    </tr>\n",
       "    <tr>\n",
       "      <th>171</th>\n",
       "      <td>0</td>\n",
       "      <td>non-product</td>\n",
       "      <td>Manage Cookies</td>\n",
       "    </tr>\n",
       "    <tr>\n",
       "      <th>172</th>\n",
       "      <td>0</td>\n",
       "      <td>non-product</td>\n",
       "      <td>Contact us</td>\n",
       "    </tr>\n",
       "    <tr>\n",
       "      <th>173</th>\n",
       "      <td>0</td>\n",
       "      <td>non-product</td>\n",
       "      <td>Help centre</td>\n",
       "    </tr>\n",
       "    <tr>\n",
       "      <th>174</th>\n",
       "      <td>0</td>\n",
       "      <td>non-product</td>\n",
       "      <td>Terms &amp; Conditions</td>\n",
       "    </tr>\n",
       "    <tr>\n",
       "      <th>175</th>\n",
       "      <td>0</td>\n",
       "      <td>non-product</td>\n",
       "      <td>Cookie Policy</td>\n",
       "    </tr>\n",
       "    <tr>\n",
       "      <th>176</th>\n",
       "      <td>0</td>\n",
       "      <td>non-product</td>\n",
       "      <td>Cookies Details‎</td>\n",
       "    </tr>\n",
       "    <tr>\n",
       "      <th>177</th>\n",
       "      <td>0</td>\n",
       "      <td>non-product</td>\n",
       "      <td>Cookies Details‎</td>\n",
       "    </tr>\n",
       "    <tr>\n",
       "      <th>178</th>\n",
       "      <td>0</td>\n",
       "      <td>non-product</td>\n",
       "      <td>Cookies Details‎</td>\n",
       "    </tr>\n",
       "    <tr>\n",
       "      <th>179</th>\n",
       "      <td>0</td>\n",
       "      <td>non-product</td>\n",
       "      <td>Cookies Details‎</td>\n",
       "    </tr>\n",
       "    <tr>\n",
       "      <th>180</th>\n",
       "      <td>0</td>\n",
       "      <td>non-product</td>\n",
       "      <td>Back ButtonBack</td>\n",
       "    </tr>\n",
       "    <tr>\n",
       "      <th>181</th>\n",
       "      <td>0</td>\n",
       "      <td>non-product</td>\n",
       "      <td>Filter Icon</td>\n",
       "    </tr>\n",
       "    <tr>\n",
       "      <th>182</th>\n",
       "      <td>0</td>\n",
       "      <td>non-product</td>\n",
       "      <td>Clear Filters</td>\n",
       "    </tr>\n",
       "    <tr>\n",
       "      <th>183</th>\n",
       "      <td>0</td>\n",
       "      <td>non-product</td>\n",
       "      <td>View Privacy Notice</td>\n",
       "    </tr>\n",
       "    <tr>\n",
       "      <th>184</th>\n",
       "      <td>0</td>\n",
       "      <td>non-product</td>\n",
       "      <td>Require Opt-Out</td>\n",
       "    </tr>\n",
       "    <tr>\n",
       "      <th>185</th>\n",
       "      <td>0</td>\n",
       "      <td>non-product</td>\n",
       "      <td>Cookie Policy</td>\n",
       "    </tr>\n",
       "  </tbody>\n",
       "</table>\n",
       "</div>"
      ],
      "text/plain": [
       "    label   label_note                                               text\n",
       "0       0  non-product                                  Log in / Register\n",
       "1       0  non-product                             Search a list of items\n",
       "2       0  non-product                                         Favourites\n",
       "3       0  non-product                                             Nectar\n",
       "4       0  non-product                                             Offers\n",
       "5       0  non-product                                           Discover\n",
       "6       0  non-product                                            Recipes\n",
       "7       0  non-product                                      Delivery Pass\n",
       "8       0  non-product                                          Occasions\n",
       "9       0  non-product                                       Mother's Day\n",
       "10      1      product  Yorkshire Provender Roast Chicken Soup With Tr...\n",
       "11      0  non-product                                               (59)\n",
       "12      0  non-product                               Only £2.00: Save 75p\n",
       "13      1      product  Sainsbury's Sweet Potato Coconut & Chilli Soup...\n",
       "14      0  non-product                                               (21)\n",
       "15      0  non-product                                Typical life 7 days\n",
       "16      1      product         Heinz Classic Cream of Chicken Soup 4x400g\n",
       "17      0  non-product                                                (5)\n",
       "18      0  non-product                                        Price Lock*\n",
       "19      1      product                 Heinz Cream of Tomato Soup x4 400g\n",
       "20      0  non-product                                                (8)\n",
       "21      0  non-product                                        Price Lock*\n",
       "22      1      product                   Heinz Cream of Chicken Soup 400g\n",
       "23      0  non-product                                               (11)\n",
       "24      0  non-product                                 Only 85p: Save 15p\n",
       "25      1      product              Sainsbury's Cream Of Tomato Soup 400g\n",
       "26      0  non-product                                               (35)\n",
       "27      1      product                    Heinz Cream of Tomato Soup 400g\n",
       "28      0  non-product                                               (10)\n",
       "29      1      product                    Sainsbury's Vegetable Soup 400g\n",
       "30      0  non-product                                               (28)\n",
       "31      1      product               Sainsbury's Tomato & Basil Soup 600g\n",
       "32      0  non-product                                               (36)\n",
       "33      0  non-product                                Typical life 7 days\n",
       "34      1      product          Sainsbury's Chicken & Sweetcorn Soup 600g\n",
       "35      0  non-product                                               (56)\n",
       "36      0  non-product                                Typical life 7 days\n",
       "37      0  non-product                                  ALDI PRICE MATCH*\n",
       "38      1      product           Heinz Big Soup, Chicken & Vegetable 400g\n",
       "39      0  non-product                                               (10)\n",
       "40      0  non-product                               Only £1.25: Save 15p\n",
       "41      1      product                   Sainsbury's Minestrone Soup 600g\n",
       "42      0  non-product                                               (31)\n",
       "43      0  non-product                                Typical life 7 days\n",
       "44      1      product  Sainsbury's Spicy Tomato, Lentil & Red Pepper ...\n",
       "45      0  non-product                                               (52)\n",
       "46      0  non-product                                Typical life 7 days\n",
       "47      1      product           Sainsbury's Carrot & Coriander Soup 600g\n",
       "48      0  non-product                                               (47)\n",
       "49      0  non-product                                Typical life 7 days\n",
       "50      0  non-product                                  ALDI PRICE MATCH*\n",
       "51      1      product            Sainsbury's Cream Of Mushroom Soup 400g\n",
       "52      0  non-product                                               (18)\n",
       "53      1      product  Sainsbury's Petits Pois & Ham Soup, Taste the ...\n",
       "54      0  non-product                                              (102)\n",
       "55      0  non-product                                Typical life 7 days\n",
       "56      1      product                  Sainsbury's Lentil Dhal Soup 600g\n",
       "57      0  non-product                                              (163)\n",
       "58      0  non-product                                Typical life 7 days\n",
       "59      1      product        New Covent Garden Classic Chicken Soup 560g\n",
       "60      0  non-product                                               (45)\n",
       "61      0  non-product                                Typical life 7 days\n",
       "62      1      product                         Heinz Minestrone Soup 400g\n",
       "63      0  non-product                                                (4)\n",
       "64      0  non-product                                 Only 85p: Save 15p\n",
       "65      1      product                  Heinz Cream Of Mushroom Soup 400g\n",
       "66      0  non-product                                                (7)\n",
       "67      1      product                             Heinz Oxtail Soup 400g\n",
       "68      0  non-product                                                (6)\n",
       "69      0  non-product                                 Only 85p: Save 15p\n",
       "70      1      product             Sainsbury's Cream Of Chicken Soup 400g\n",
       "71      0  non-product                                               (14)\n",
       "72      1      product  Sainsbury's Moroccan Spiced Chicken & Chickpea...\n",
       "73      0  non-product                                               (84)\n",
       "74      0  non-product                                Typical life 7 days\n",
       "75      1      product                          Heinz Vegetable Soup 400g\n",
       "76      0  non-product                                                (7)\n",
       "77      1      product  Sainsbury's Tomato & Three Bean Soup, Be Good ...\n",
       "78      0  non-product                                               (39)\n",
       "79      1      product           Sainsbury's Chicken & Mushroom Soup 400g\n",
       "80      0  non-product                                                (9)\n",
       "81      1      product                     Heinz Chicken Noodle Soup 400g\n",
       "82      0  non-product                                                (4)\n",
       "83      0  non-product                                 Only 85p: Save 15p\n",
       "84      1      product          New Covent Garden Leek & Potato Soup 560g\n",
       "85      0  non-product                                               (24)\n",
       "86      0  non-product                                Typical life 7 days\n",
       "87      1      product           Sainsbury's Carrot & Coriander Soup 400g\n",
       "88      0  non-product                                               (24)\n",
       "89      1      product                       Heinz Mulligatawny Soup 400g\n",
       "90      0  non-product                                               (10)\n",
       "91      0  non-product                                 Only 85p: Save 15p\n",
       "92      1      product   Sainsbury's Tomato Red Pepper & Lentil Soup 400g\n",
       "93      0  non-product                                               (18)\n",
       "94      1      product                   Sainsbury's Minestrone Soup 400g\n",
       "95      0  non-product                                               (38)\n",
       "96      1      product  Yorkshire Provender Cauliflower Cheese Soup Wi...\n",
       "97      0  non-product                                               (27)\n",
       "98      0  non-product                               Only £2.00: Save 75p\n",
       "99      1      product                       Sainsbury's Oxtail Soup 400g\n",
       "100     0  non-product                                               (21)\n",
       "101     1      product              Sainsbury's Cream Of Tomato Soup 600g\n",
       "102     0  non-product                                               (14)\n",
       "103     0  non-product                                Typical life 7 days\n",
       "104     1      product              New Covent Garden Vegetable Soup 560g\n",
       "105     0  non-product                                               (18)\n",
       "106     0  non-product                                Typical life 7 days\n",
       "107     1      product              Heinz Big Soup, Beef & Vegetable 400g\n",
       "108     0  non-product                                               (40)\n",
       "109     1      product           Sainsbury's Broccoli & Stilton Soup 400g\n",
       "110     0  non-product                                               (50)\n",
       "111     1      product                Sainsbury's Leek & Potato Soup 400g\n",
       "112     0  non-product                                               (14)\n",
       "113     1      product               New Covent Garden Mushroom Soup 560g\n",
       "114     0  non-product                                               (29)\n",
       "115     0  non-product                                Typical life 7 days\n",
       "116     1      product  New Covent Garden Lentil & Smoked Bacon Soup 560g\n",
       "117     0  non-product                                               (24)\n",
       "118     0  non-product                                Typical life 7 days\n",
       "119     1      product  Sainsbury's Chantenay Carrot & Honey Roast Par...\n",
       "120     0  non-product                                               (63)\n",
       "121     0  non-product                                Typical life 7 days\n",
       "122     1      product       Baxters Favourites, Lentil & Bacon Soup 400g\n",
       "123     0  non-product                                                (6)\n",
       "124     1      product                 Sainsbury's Scotch Broth Soup 400g\n",
       "125     0  non-product                                               (18)\n",
       "126     1      product         New Covent Garden Tomato & Basil Soup 560g\n",
       "127     0  non-product                                               (18)\n",
       "128     0  non-product                                Typical life 7 days\n",
       "129     1      product      Baxters Favourites, Cream Of Tomato Soup 400g\n",
       "130     0  non-product                                               (15)\n",
       "131     1      product   Sainsbury's Chunky Chicken & Vegetable Soup 400g\n",
       "132     0  non-product                                               (14)\n",
       "133     1      product  Heinz Limited Edition Cream Of Tomato Soup Wit...\n",
       "134     0  non-product                                                (4)\n",
       "135     1      product   Campbell's Condensed Cream of Mushroom Soup 294g\n",
       "136     0  non-product                                               (10)\n",
       "137     1      product               Sainsbury's Tomato & Basil Soup 400g\n",
       "138     0  non-product                                               (25)\n",
       "139     1      product  Sainsbury's Tomato & Spicy Lentil Soup, Be Goo...\n",
       "140     0  non-product                                               (26)\n",
       "141     1      product        Baxters Vegetarian, Spicy Parsnip Soup 400g\n",
       "142     0  non-product                                               (12)\n",
       "143     1      product        Baxters Favourites, Chicken Broth Soup 400g\n",
       "144     0  non-product                                               (18)\n",
       "145     1      product            Sainsbury's Cream Of Tomato Soup 4x400g\n",
       "146     0  non-product                                               (19)\n",
       "147     1      product       New Covent Garden Spiced Butternut Soup 560g\n",
       "148     0  non-product                                                (9)\n",
       "149     0  non-product                                Typical life 7 days\n",
       "150     1      product              Heinz Country Vegetable Big Soup 400g\n",
       "151     0  non-product                                               (10)\n",
       "152     1      product                        Heinz Vegetable Soup 4x400g\n",
       "153     0  non-product                                                (1)\n",
       "154     0  non-product                                        Price Lock*\n",
       "155     1      product    Campbell's Condensed Cream Of Chicken Soup 295g\n",
       "156     0  non-product                                                (7)\n",
       "157     1      product           Baxters Favourites, Minestrone Soup 400g\n",
       "158     0  non-product                                                (9)\n",
       "159     1      product      Sainsbury's Chunky Beef & Vegetable Soup 400g\n",
       "160     0  non-product                                               (14)\n",
       "161     0  non-product                                                  1\n",
       "162     0  non-product                                                  2\n",
       "163     0  non-product                                                  3\n",
       "164     0  non-product                                                  4\n",
       "165     0  non-product                                                  5\n",
       "166     1      product  Celebrations Chocolates Easter Sharing Pouch B...\n",
       "167     1      product                    Tiny Rebel Clwb Tropica 4x330ml\n",
       "168     0  non-product                                      Accessibility\n",
       "169     0  non-product                                      Cookie policy\n",
       "170     0  non-product                                     Privacy policy\n",
       "171     0  non-product                                     Manage Cookies\n",
       "172     0  non-product                                         Contact us\n",
       "173     0  non-product                                        Help centre\n",
       "174     0  non-product                                 Terms & Conditions\n",
       "175     0  non-product                                      Cookie Policy\n",
       "176     0  non-product                                   Cookies Details‎\n",
       "177     0  non-product                                   Cookies Details‎\n",
       "178     0  non-product                                   Cookies Details‎\n",
       "179     0  non-product                                   Cookies Details‎\n",
       "180     0  non-product                                    Back ButtonBack\n",
       "181     0  non-product                                        Filter Icon\n",
       "182     0  non-product                                      Clear Filters\n",
       "183     0  non-product                                View Privacy Notice\n",
       "184     0  non-product                                    Require Opt-Out\n",
       "185     0  non-product                                      Cookie Policy"
      ]
     },
     "execution_count": 6,
     "metadata": {},
     "output_type": "execute_result"
    }
   ],
   "source": [
    "import pandas as pd\n",
    "import pickle\n",
    "pd.set_option('display.max_rows', None)\n",
    "\n",
    "def get_label_note(content, truth):\n",
    "    if (content in truth):\n",
    "        return 'product'\n",
    "    else:\n",
    "        return 'non-product'\n",
    "    \n",
    "def get_label(content, truth):\n",
    "    if (content in truth):\n",
    "        return 1\n",
    "    else:\n",
    "        return 0\n",
    "\n",
    "def create_df(html_contents, pickle_name=None):\n",
    "    df = pd.DataFrame(columns=('label', 'label_note', 'text'))\n",
    "    for content in html_contents:\n",
    "        entry = pd.DataFrame.from_dict({\"label\": [get_label(content, truth)],\"label_note\": [get_label_note(content, truth)],\"text\":  [content]})\n",
    "        df = pd.concat([df, entry], ignore_index=True)\n",
    "    if not pickle_name==None:\n",
    "        df.to_pickle(pickle_name)\n",
    "    return df\n",
    "\n",
    "create_df(html_contents, pickle_name='product_dataset.pkl')"
   ]
  },
  {
   "cell_type": "code",
   "execution_count": 7,
   "id": "9105b389",
   "metadata": {},
   "outputs": [
    {
     "data": {
      "text/html": [
       "<div>\n",
       "<style scoped>\n",
       "    .dataframe tbody tr th:only-of-type {\n",
       "        vertical-align: middle;\n",
       "    }\n",
       "\n",
       "    .dataframe tbody tr th {\n",
       "        vertical-align: top;\n",
       "    }\n",
       "\n",
       "    .dataframe thead th {\n",
       "        text-align: right;\n",
       "    }\n",
       "</style>\n",
       "<table border=\"1\" class=\"dataframe\">\n",
       "  <thead>\n",
       "    <tr style=\"text-align: right;\">\n",
       "      <th></th>\n",
       "      <th>label</th>\n",
       "      <th>label_note</th>\n",
       "      <th>text</th>\n",
       "    </tr>\n",
       "  </thead>\n",
       "  <tbody>\n",
       "    <tr>\n",
       "      <th>0</th>\n",
       "      <td>0</td>\n",
       "      <td>non-product</td>\n",
       "      <td>Log in / Register</td>\n",
       "    </tr>\n",
       "    <tr>\n",
       "      <th>1</th>\n",
       "      <td>0</td>\n",
       "      <td>non-product</td>\n",
       "      <td>Search a list of items</td>\n",
       "    </tr>\n",
       "    <tr>\n",
       "      <th>2</th>\n",
       "      <td>0</td>\n",
       "      <td>non-product</td>\n",
       "      <td>Favourites</td>\n",
       "    </tr>\n",
       "    <tr>\n",
       "      <th>3</th>\n",
       "      <td>0</td>\n",
       "      <td>non-product</td>\n",
       "      <td>Nectar</td>\n",
       "    </tr>\n",
       "    <tr>\n",
       "      <th>4</th>\n",
       "      <td>0</td>\n",
       "      <td>non-product</td>\n",
       "      <td>Offers</td>\n",
       "    </tr>\n",
       "    <tr>\n",
       "      <th>5</th>\n",
       "      <td>0</td>\n",
       "      <td>non-product</td>\n",
       "      <td>Discover</td>\n",
       "    </tr>\n",
       "    <tr>\n",
       "      <th>6</th>\n",
       "      <td>0</td>\n",
       "      <td>non-product</td>\n",
       "      <td>Recipes</td>\n",
       "    </tr>\n",
       "    <tr>\n",
       "      <th>7</th>\n",
       "      <td>0</td>\n",
       "      <td>non-product</td>\n",
       "      <td>Delivery Pass</td>\n",
       "    </tr>\n",
       "    <tr>\n",
       "      <th>8</th>\n",
       "      <td>0</td>\n",
       "      <td>non-product</td>\n",
       "      <td>Occasions</td>\n",
       "    </tr>\n",
       "    <tr>\n",
       "      <th>9</th>\n",
       "      <td>0</td>\n",
       "      <td>non-product</td>\n",
       "      <td>Mother's Day</td>\n",
       "    </tr>\n",
       "    <tr>\n",
       "      <th>10</th>\n",
       "      <td>1</td>\n",
       "      <td>product</td>\n",
       "      <td>Yorkshire Provender Roast Chicken Soup With Tr...</td>\n",
       "    </tr>\n",
       "    <tr>\n",
       "      <th>11</th>\n",
       "      <td>0</td>\n",
       "      <td>non-product</td>\n",
       "      <td>(59)</td>\n",
       "    </tr>\n",
       "    <tr>\n",
       "      <th>12</th>\n",
       "      <td>0</td>\n",
       "      <td>non-product</td>\n",
       "      <td>Only £2.00: Save 75p</td>\n",
       "    </tr>\n",
       "    <tr>\n",
       "      <th>13</th>\n",
       "      <td>1</td>\n",
       "      <td>product</td>\n",
       "      <td>Sainsbury's Sweet Potato Coconut &amp; Chilli Soup...</td>\n",
       "    </tr>\n",
       "    <tr>\n",
       "      <th>14</th>\n",
       "      <td>0</td>\n",
       "      <td>non-product</td>\n",
       "      <td>(21)</td>\n",
       "    </tr>\n",
       "    <tr>\n",
       "      <th>15</th>\n",
       "      <td>0</td>\n",
       "      <td>non-product</td>\n",
       "      <td>Typical life 7 days</td>\n",
       "    </tr>\n",
       "    <tr>\n",
       "      <th>16</th>\n",
       "      <td>1</td>\n",
       "      <td>product</td>\n",
       "      <td>Heinz Classic Cream of Chicken Soup 4x400g</td>\n",
       "    </tr>\n",
       "    <tr>\n",
       "      <th>17</th>\n",
       "      <td>0</td>\n",
       "      <td>non-product</td>\n",
       "      <td>(5)</td>\n",
       "    </tr>\n",
       "    <tr>\n",
       "      <th>18</th>\n",
       "      <td>0</td>\n",
       "      <td>non-product</td>\n",
       "      <td>Price Lock*</td>\n",
       "    </tr>\n",
       "    <tr>\n",
       "      <th>19</th>\n",
       "      <td>1</td>\n",
       "      <td>product</td>\n",
       "      <td>Heinz Cream of Tomato Soup x4 400g</td>\n",
       "    </tr>\n",
       "    <tr>\n",
       "      <th>20</th>\n",
       "      <td>0</td>\n",
       "      <td>non-product</td>\n",
       "      <td>(8)</td>\n",
       "    </tr>\n",
       "    <tr>\n",
       "      <th>21</th>\n",
       "      <td>0</td>\n",
       "      <td>non-product</td>\n",
       "      <td>Price Lock*</td>\n",
       "    </tr>\n",
       "    <tr>\n",
       "      <th>22</th>\n",
       "      <td>1</td>\n",
       "      <td>product</td>\n",
       "      <td>Heinz Cream of Chicken Soup 400g</td>\n",
       "    </tr>\n",
       "    <tr>\n",
       "      <th>23</th>\n",
       "      <td>0</td>\n",
       "      <td>non-product</td>\n",
       "      <td>(11)</td>\n",
       "    </tr>\n",
       "    <tr>\n",
       "      <th>24</th>\n",
       "      <td>0</td>\n",
       "      <td>non-product</td>\n",
       "      <td>Only 85p: Save 15p</td>\n",
       "    </tr>\n",
       "    <tr>\n",
       "      <th>25</th>\n",
       "      <td>1</td>\n",
       "      <td>product</td>\n",
       "      <td>Sainsbury's Cream Of Tomato Soup 400g</td>\n",
       "    </tr>\n",
       "    <tr>\n",
       "      <th>26</th>\n",
       "      <td>0</td>\n",
       "      <td>non-product</td>\n",
       "      <td>(35)</td>\n",
       "    </tr>\n",
       "    <tr>\n",
       "      <th>27</th>\n",
       "      <td>1</td>\n",
       "      <td>product</td>\n",
       "      <td>Heinz Cream of Tomato Soup 400g</td>\n",
       "    </tr>\n",
       "    <tr>\n",
       "      <th>28</th>\n",
       "      <td>0</td>\n",
       "      <td>non-product</td>\n",
       "      <td>(10)</td>\n",
       "    </tr>\n",
       "    <tr>\n",
       "      <th>29</th>\n",
       "      <td>1</td>\n",
       "      <td>product</td>\n",
       "      <td>Sainsbury's Vegetable Soup 400g</td>\n",
       "    </tr>\n",
       "    <tr>\n",
       "      <th>30</th>\n",
       "      <td>0</td>\n",
       "      <td>non-product</td>\n",
       "      <td>(28)</td>\n",
       "    </tr>\n",
       "    <tr>\n",
       "      <th>31</th>\n",
       "      <td>1</td>\n",
       "      <td>product</td>\n",
       "      <td>Sainsbury's Tomato &amp; Basil Soup 600g</td>\n",
       "    </tr>\n",
       "    <tr>\n",
       "      <th>32</th>\n",
       "      <td>0</td>\n",
       "      <td>non-product</td>\n",
       "      <td>(36)</td>\n",
       "    </tr>\n",
       "    <tr>\n",
       "      <th>33</th>\n",
       "      <td>0</td>\n",
       "      <td>non-product</td>\n",
       "      <td>Typical life 7 days</td>\n",
       "    </tr>\n",
       "    <tr>\n",
       "      <th>34</th>\n",
       "      <td>1</td>\n",
       "      <td>product</td>\n",
       "      <td>Sainsbury's Chicken &amp; Sweetcorn Soup 600g</td>\n",
       "    </tr>\n",
       "    <tr>\n",
       "      <th>35</th>\n",
       "      <td>0</td>\n",
       "      <td>non-product</td>\n",
       "      <td>(56)</td>\n",
       "    </tr>\n",
       "    <tr>\n",
       "      <th>36</th>\n",
       "      <td>0</td>\n",
       "      <td>non-product</td>\n",
       "      <td>Typical life 7 days</td>\n",
       "    </tr>\n",
       "    <tr>\n",
       "      <th>37</th>\n",
       "      <td>0</td>\n",
       "      <td>non-product</td>\n",
       "      <td>ALDI PRICE MATCH*</td>\n",
       "    </tr>\n",
       "    <tr>\n",
       "      <th>38</th>\n",
       "      <td>1</td>\n",
       "      <td>product</td>\n",
       "      <td>Heinz Big Soup, Chicken &amp; Vegetable 400g</td>\n",
       "    </tr>\n",
       "    <tr>\n",
       "      <th>39</th>\n",
       "      <td>0</td>\n",
       "      <td>non-product</td>\n",
       "      <td>(10)</td>\n",
       "    </tr>\n",
       "    <tr>\n",
       "      <th>40</th>\n",
       "      <td>0</td>\n",
       "      <td>non-product</td>\n",
       "      <td>Only £1.25: Save 15p</td>\n",
       "    </tr>\n",
       "    <tr>\n",
       "      <th>41</th>\n",
       "      <td>1</td>\n",
       "      <td>product</td>\n",
       "      <td>Sainsbury's Minestrone Soup 600g</td>\n",
       "    </tr>\n",
       "    <tr>\n",
       "      <th>42</th>\n",
       "      <td>0</td>\n",
       "      <td>non-product</td>\n",
       "      <td>(31)</td>\n",
       "    </tr>\n",
       "    <tr>\n",
       "      <th>43</th>\n",
       "      <td>0</td>\n",
       "      <td>non-product</td>\n",
       "      <td>Typical life 7 days</td>\n",
       "    </tr>\n",
       "    <tr>\n",
       "      <th>44</th>\n",
       "      <td>1</td>\n",
       "      <td>product</td>\n",
       "      <td>Sainsbury's Spicy Tomato, Lentil &amp; Red Pepper ...</td>\n",
       "    </tr>\n",
       "    <tr>\n",
       "      <th>45</th>\n",
       "      <td>0</td>\n",
       "      <td>non-product</td>\n",
       "      <td>(52)</td>\n",
       "    </tr>\n",
       "    <tr>\n",
       "      <th>46</th>\n",
       "      <td>0</td>\n",
       "      <td>non-product</td>\n",
       "      <td>Typical life 7 days</td>\n",
       "    </tr>\n",
       "    <tr>\n",
       "      <th>47</th>\n",
       "      <td>1</td>\n",
       "      <td>product</td>\n",
       "      <td>Sainsbury's Carrot &amp; Coriander Soup 600g</td>\n",
       "    </tr>\n",
       "    <tr>\n",
       "      <th>48</th>\n",
       "      <td>0</td>\n",
       "      <td>non-product</td>\n",
       "      <td>(47)</td>\n",
       "    </tr>\n",
       "    <tr>\n",
       "      <th>49</th>\n",
       "      <td>0</td>\n",
       "      <td>non-product</td>\n",
       "      <td>Typical life 7 days</td>\n",
       "    </tr>\n",
       "    <tr>\n",
       "      <th>50</th>\n",
       "      <td>0</td>\n",
       "      <td>non-product</td>\n",
       "      <td>ALDI PRICE MATCH*</td>\n",
       "    </tr>\n",
       "    <tr>\n",
       "      <th>51</th>\n",
       "      <td>1</td>\n",
       "      <td>product</td>\n",
       "      <td>Sainsbury's Cream Of Mushroom Soup 400g</td>\n",
       "    </tr>\n",
       "    <tr>\n",
       "      <th>52</th>\n",
       "      <td>0</td>\n",
       "      <td>non-product</td>\n",
       "      <td>(18)</td>\n",
       "    </tr>\n",
       "    <tr>\n",
       "      <th>53</th>\n",
       "      <td>1</td>\n",
       "      <td>product</td>\n",
       "      <td>Sainsbury's Petits Pois &amp; Ham Soup, Taste the ...</td>\n",
       "    </tr>\n",
       "    <tr>\n",
       "      <th>54</th>\n",
       "      <td>0</td>\n",
       "      <td>non-product</td>\n",
       "      <td>(102)</td>\n",
       "    </tr>\n",
       "    <tr>\n",
       "      <th>55</th>\n",
       "      <td>0</td>\n",
       "      <td>non-product</td>\n",
       "      <td>Typical life 7 days</td>\n",
       "    </tr>\n",
       "    <tr>\n",
       "      <th>56</th>\n",
       "      <td>1</td>\n",
       "      <td>product</td>\n",
       "      <td>Sainsbury's Lentil Dhal Soup 600g</td>\n",
       "    </tr>\n",
       "    <tr>\n",
       "      <th>57</th>\n",
       "      <td>0</td>\n",
       "      <td>non-product</td>\n",
       "      <td>(163)</td>\n",
       "    </tr>\n",
       "    <tr>\n",
       "      <th>58</th>\n",
       "      <td>0</td>\n",
       "      <td>non-product</td>\n",
       "      <td>Typical life 7 days</td>\n",
       "    </tr>\n",
       "    <tr>\n",
       "      <th>59</th>\n",
       "      <td>1</td>\n",
       "      <td>product</td>\n",
       "      <td>New Covent Garden Classic Chicken Soup 560g</td>\n",
       "    </tr>\n",
       "    <tr>\n",
       "      <th>60</th>\n",
       "      <td>0</td>\n",
       "      <td>non-product</td>\n",
       "      <td>(45)</td>\n",
       "    </tr>\n",
       "    <tr>\n",
       "      <th>61</th>\n",
       "      <td>0</td>\n",
       "      <td>non-product</td>\n",
       "      <td>Typical life 7 days</td>\n",
       "    </tr>\n",
       "    <tr>\n",
       "      <th>62</th>\n",
       "      <td>1</td>\n",
       "      <td>product</td>\n",
       "      <td>Heinz Minestrone Soup 400g</td>\n",
       "    </tr>\n",
       "    <tr>\n",
       "      <th>63</th>\n",
       "      <td>0</td>\n",
       "      <td>non-product</td>\n",
       "      <td>(4)</td>\n",
       "    </tr>\n",
       "    <tr>\n",
       "      <th>64</th>\n",
       "      <td>0</td>\n",
       "      <td>non-product</td>\n",
       "      <td>Only 85p: Save 15p</td>\n",
       "    </tr>\n",
       "    <tr>\n",
       "      <th>65</th>\n",
       "      <td>1</td>\n",
       "      <td>product</td>\n",
       "      <td>Heinz Cream Of Mushroom Soup 400g</td>\n",
       "    </tr>\n",
       "    <tr>\n",
       "      <th>66</th>\n",
       "      <td>0</td>\n",
       "      <td>non-product</td>\n",
       "      <td>(7)</td>\n",
       "    </tr>\n",
       "    <tr>\n",
       "      <th>67</th>\n",
       "      <td>1</td>\n",
       "      <td>product</td>\n",
       "      <td>Heinz Oxtail Soup 400g</td>\n",
       "    </tr>\n",
       "    <tr>\n",
       "      <th>68</th>\n",
       "      <td>0</td>\n",
       "      <td>non-product</td>\n",
       "      <td>(6)</td>\n",
       "    </tr>\n",
       "    <tr>\n",
       "      <th>69</th>\n",
       "      <td>0</td>\n",
       "      <td>non-product</td>\n",
       "      <td>Only 85p: Save 15p</td>\n",
       "    </tr>\n",
       "    <tr>\n",
       "      <th>70</th>\n",
       "      <td>1</td>\n",
       "      <td>product</td>\n",
       "      <td>Sainsbury's Cream Of Chicken Soup 400g</td>\n",
       "    </tr>\n",
       "    <tr>\n",
       "      <th>71</th>\n",
       "      <td>0</td>\n",
       "      <td>non-product</td>\n",
       "      <td>(14)</td>\n",
       "    </tr>\n",
       "    <tr>\n",
       "      <th>72</th>\n",
       "      <td>1</td>\n",
       "      <td>product</td>\n",
       "      <td>Sainsbury's Moroccan Spiced Chicken &amp; Chickpea...</td>\n",
       "    </tr>\n",
       "    <tr>\n",
       "      <th>73</th>\n",
       "      <td>0</td>\n",
       "      <td>non-product</td>\n",
       "      <td>(84)</td>\n",
       "    </tr>\n",
       "    <tr>\n",
       "      <th>74</th>\n",
       "      <td>0</td>\n",
       "      <td>non-product</td>\n",
       "      <td>Typical life 7 days</td>\n",
       "    </tr>\n",
       "    <tr>\n",
       "      <th>75</th>\n",
       "      <td>1</td>\n",
       "      <td>product</td>\n",
       "      <td>Heinz Vegetable Soup 400g</td>\n",
       "    </tr>\n",
       "    <tr>\n",
       "      <th>76</th>\n",
       "      <td>0</td>\n",
       "      <td>non-product</td>\n",
       "      <td>(7)</td>\n",
       "    </tr>\n",
       "    <tr>\n",
       "      <th>77</th>\n",
       "      <td>1</td>\n",
       "      <td>product</td>\n",
       "      <td>Sainsbury's Tomato &amp; Three Bean Soup, Be Good ...</td>\n",
       "    </tr>\n",
       "    <tr>\n",
       "      <th>78</th>\n",
       "      <td>0</td>\n",
       "      <td>non-product</td>\n",
       "      <td>(39)</td>\n",
       "    </tr>\n",
       "    <tr>\n",
       "      <th>79</th>\n",
       "      <td>1</td>\n",
       "      <td>product</td>\n",
       "      <td>Sainsbury's Chicken &amp; Mushroom Soup 400g</td>\n",
       "    </tr>\n",
       "    <tr>\n",
       "      <th>80</th>\n",
       "      <td>0</td>\n",
       "      <td>non-product</td>\n",
       "      <td>(9)</td>\n",
       "    </tr>\n",
       "    <tr>\n",
       "      <th>81</th>\n",
       "      <td>1</td>\n",
       "      <td>product</td>\n",
       "      <td>Heinz Chicken Noodle Soup 400g</td>\n",
       "    </tr>\n",
       "    <tr>\n",
       "      <th>82</th>\n",
       "      <td>0</td>\n",
       "      <td>non-product</td>\n",
       "      <td>(4)</td>\n",
       "    </tr>\n",
       "    <tr>\n",
       "      <th>83</th>\n",
       "      <td>0</td>\n",
       "      <td>non-product</td>\n",
       "      <td>Only 85p: Save 15p</td>\n",
       "    </tr>\n",
       "    <tr>\n",
       "      <th>84</th>\n",
       "      <td>1</td>\n",
       "      <td>product</td>\n",
       "      <td>New Covent Garden Leek &amp; Potato Soup 560g</td>\n",
       "    </tr>\n",
       "    <tr>\n",
       "      <th>85</th>\n",
       "      <td>0</td>\n",
       "      <td>non-product</td>\n",
       "      <td>(24)</td>\n",
       "    </tr>\n",
       "    <tr>\n",
       "      <th>86</th>\n",
       "      <td>0</td>\n",
       "      <td>non-product</td>\n",
       "      <td>Typical life 7 days</td>\n",
       "    </tr>\n",
       "    <tr>\n",
       "      <th>87</th>\n",
       "      <td>1</td>\n",
       "      <td>product</td>\n",
       "      <td>Sainsbury's Carrot &amp; Coriander Soup 400g</td>\n",
       "    </tr>\n",
       "    <tr>\n",
       "      <th>88</th>\n",
       "      <td>0</td>\n",
       "      <td>non-product</td>\n",
       "      <td>(24)</td>\n",
       "    </tr>\n",
       "    <tr>\n",
       "      <th>89</th>\n",
       "      <td>1</td>\n",
       "      <td>product</td>\n",
       "      <td>Heinz Mulligatawny Soup 400g</td>\n",
       "    </tr>\n",
       "    <tr>\n",
       "      <th>90</th>\n",
       "      <td>0</td>\n",
       "      <td>non-product</td>\n",
       "      <td>(10)</td>\n",
       "    </tr>\n",
       "    <tr>\n",
       "      <th>91</th>\n",
       "      <td>0</td>\n",
       "      <td>non-product</td>\n",
       "      <td>Only 85p: Save 15p</td>\n",
       "    </tr>\n",
       "    <tr>\n",
       "      <th>92</th>\n",
       "      <td>1</td>\n",
       "      <td>product</td>\n",
       "      <td>Sainsbury's Tomato Red Pepper &amp; Lentil Soup 400g</td>\n",
       "    </tr>\n",
       "    <tr>\n",
       "      <th>93</th>\n",
       "      <td>0</td>\n",
       "      <td>non-product</td>\n",
       "      <td>(18)</td>\n",
       "    </tr>\n",
       "    <tr>\n",
       "      <th>94</th>\n",
       "      <td>1</td>\n",
       "      <td>product</td>\n",
       "      <td>Sainsbury's Minestrone Soup 400g</td>\n",
       "    </tr>\n",
       "    <tr>\n",
       "      <th>95</th>\n",
       "      <td>0</td>\n",
       "      <td>non-product</td>\n",
       "      <td>(38)</td>\n",
       "    </tr>\n",
       "    <tr>\n",
       "      <th>96</th>\n",
       "      <td>1</td>\n",
       "      <td>product</td>\n",
       "      <td>Yorkshire Provender Cauliflower Cheese Soup Wi...</td>\n",
       "    </tr>\n",
       "    <tr>\n",
       "      <th>97</th>\n",
       "      <td>0</td>\n",
       "      <td>non-product</td>\n",
       "      <td>(27)</td>\n",
       "    </tr>\n",
       "    <tr>\n",
       "      <th>98</th>\n",
       "      <td>0</td>\n",
       "      <td>non-product</td>\n",
       "      <td>Only £2.00: Save 75p</td>\n",
       "    </tr>\n",
       "    <tr>\n",
       "      <th>99</th>\n",
       "      <td>1</td>\n",
       "      <td>product</td>\n",
       "      <td>Sainsbury's Oxtail Soup 400g</td>\n",
       "    </tr>\n",
       "    <tr>\n",
       "      <th>100</th>\n",
       "      <td>0</td>\n",
       "      <td>non-product</td>\n",
       "      <td>(21)</td>\n",
       "    </tr>\n",
       "    <tr>\n",
       "      <th>101</th>\n",
       "      <td>1</td>\n",
       "      <td>product</td>\n",
       "      <td>Sainsbury's Cream Of Tomato Soup 600g</td>\n",
       "    </tr>\n",
       "    <tr>\n",
       "      <th>102</th>\n",
       "      <td>0</td>\n",
       "      <td>non-product</td>\n",
       "      <td>(14)</td>\n",
       "    </tr>\n",
       "    <tr>\n",
       "      <th>103</th>\n",
       "      <td>0</td>\n",
       "      <td>non-product</td>\n",
       "      <td>Typical life 7 days</td>\n",
       "    </tr>\n",
       "    <tr>\n",
       "      <th>104</th>\n",
       "      <td>1</td>\n",
       "      <td>product</td>\n",
       "      <td>New Covent Garden Vegetable Soup 560g</td>\n",
       "    </tr>\n",
       "    <tr>\n",
       "      <th>105</th>\n",
       "      <td>0</td>\n",
       "      <td>non-product</td>\n",
       "      <td>(18)</td>\n",
       "    </tr>\n",
       "    <tr>\n",
       "      <th>106</th>\n",
       "      <td>0</td>\n",
       "      <td>non-product</td>\n",
       "      <td>Typical life 7 days</td>\n",
       "    </tr>\n",
       "    <tr>\n",
       "      <th>107</th>\n",
       "      <td>1</td>\n",
       "      <td>product</td>\n",
       "      <td>Heinz Big Soup, Beef &amp; Vegetable 400g</td>\n",
       "    </tr>\n",
       "    <tr>\n",
       "      <th>108</th>\n",
       "      <td>0</td>\n",
       "      <td>non-product</td>\n",
       "      <td>(40)</td>\n",
       "    </tr>\n",
       "    <tr>\n",
       "      <th>109</th>\n",
       "      <td>1</td>\n",
       "      <td>product</td>\n",
       "      <td>Sainsbury's Broccoli &amp; Stilton Soup 400g</td>\n",
       "    </tr>\n",
       "    <tr>\n",
       "      <th>110</th>\n",
       "      <td>0</td>\n",
       "      <td>non-product</td>\n",
       "      <td>(50)</td>\n",
       "    </tr>\n",
       "    <tr>\n",
       "      <th>111</th>\n",
       "      <td>1</td>\n",
       "      <td>product</td>\n",
       "      <td>Sainsbury's Leek &amp; Potato Soup 400g</td>\n",
       "    </tr>\n",
       "    <tr>\n",
       "      <th>112</th>\n",
       "      <td>0</td>\n",
       "      <td>non-product</td>\n",
       "      <td>(14)</td>\n",
       "    </tr>\n",
       "    <tr>\n",
       "      <th>113</th>\n",
       "      <td>1</td>\n",
       "      <td>product</td>\n",
       "      <td>New Covent Garden Mushroom Soup 560g</td>\n",
       "    </tr>\n",
       "    <tr>\n",
       "      <th>114</th>\n",
       "      <td>0</td>\n",
       "      <td>non-product</td>\n",
       "      <td>(29)</td>\n",
       "    </tr>\n",
       "    <tr>\n",
       "      <th>115</th>\n",
       "      <td>0</td>\n",
       "      <td>non-product</td>\n",
       "      <td>Typical life 7 days</td>\n",
       "    </tr>\n",
       "    <tr>\n",
       "      <th>116</th>\n",
       "      <td>1</td>\n",
       "      <td>product</td>\n",
       "      <td>New Covent Garden Lentil &amp; Smoked Bacon Soup 560g</td>\n",
       "    </tr>\n",
       "    <tr>\n",
       "      <th>117</th>\n",
       "      <td>0</td>\n",
       "      <td>non-product</td>\n",
       "      <td>(24)</td>\n",
       "    </tr>\n",
       "    <tr>\n",
       "      <th>118</th>\n",
       "      <td>0</td>\n",
       "      <td>non-product</td>\n",
       "      <td>Typical life 7 days</td>\n",
       "    </tr>\n",
       "    <tr>\n",
       "      <th>119</th>\n",
       "      <td>1</td>\n",
       "      <td>product</td>\n",
       "      <td>Sainsbury's Chantenay Carrot &amp; Honey Roast Par...</td>\n",
       "    </tr>\n",
       "    <tr>\n",
       "      <th>120</th>\n",
       "      <td>0</td>\n",
       "      <td>non-product</td>\n",
       "      <td>(63)</td>\n",
       "    </tr>\n",
       "    <tr>\n",
       "      <th>121</th>\n",
       "      <td>0</td>\n",
       "      <td>non-product</td>\n",
       "      <td>Typical life 7 days</td>\n",
       "    </tr>\n",
       "    <tr>\n",
       "      <th>122</th>\n",
       "      <td>1</td>\n",
       "      <td>product</td>\n",
       "      <td>Baxters Favourites, Lentil &amp; Bacon Soup 400g</td>\n",
       "    </tr>\n",
       "    <tr>\n",
       "      <th>123</th>\n",
       "      <td>0</td>\n",
       "      <td>non-product</td>\n",
       "      <td>(6)</td>\n",
       "    </tr>\n",
       "    <tr>\n",
       "      <th>124</th>\n",
       "      <td>1</td>\n",
       "      <td>product</td>\n",
       "      <td>Sainsbury's Scotch Broth Soup 400g</td>\n",
       "    </tr>\n",
       "    <tr>\n",
       "      <th>125</th>\n",
       "      <td>0</td>\n",
       "      <td>non-product</td>\n",
       "      <td>(18)</td>\n",
       "    </tr>\n",
       "    <tr>\n",
       "      <th>126</th>\n",
       "      <td>1</td>\n",
       "      <td>product</td>\n",
       "      <td>New Covent Garden Tomato &amp; Basil Soup 560g</td>\n",
       "    </tr>\n",
       "    <tr>\n",
       "      <th>127</th>\n",
       "      <td>0</td>\n",
       "      <td>non-product</td>\n",
       "      <td>(18)</td>\n",
       "    </tr>\n",
       "    <tr>\n",
       "      <th>128</th>\n",
       "      <td>0</td>\n",
       "      <td>non-product</td>\n",
       "      <td>Typical life 7 days</td>\n",
       "    </tr>\n",
       "    <tr>\n",
       "      <th>129</th>\n",
       "      <td>1</td>\n",
       "      <td>product</td>\n",
       "      <td>Baxters Favourites, Cream Of Tomato Soup 400g</td>\n",
       "    </tr>\n",
       "    <tr>\n",
       "      <th>130</th>\n",
       "      <td>0</td>\n",
       "      <td>non-product</td>\n",
       "      <td>(15)</td>\n",
       "    </tr>\n",
       "    <tr>\n",
       "      <th>131</th>\n",
       "      <td>1</td>\n",
       "      <td>product</td>\n",
       "      <td>Sainsbury's Chunky Chicken &amp; Vegetable Soup 400g</td>\n",
       "    </tr>\n",
       "    <tr>\n",
       "      <th>132</th>\n",
       "      <td>0</td>\n",
       "      <td>non-product</td>\n",
       "      <td>(14)</td>\n",
       "    </tr>\n",
       "    <tr>\n",
       "      <th>133</th>\n",
       "      <td>1</td>\n",
       "      <td>product</td>\n",
       "      <td>Heinz Limited Edition Cream Of Tomato Soup Wit...</td>\n",
       "    </tr>\n",
       "    <tr>\n",
       "      <th>134</th>\n",
       "      <td>0</td>\n",
       "      <td>non-product</td>\n",
       "      <td>(4)</td>\n",
       "    </tr>\n",
       "    <tr>\n",
       "      <th>135</th>\n",
       "      <td>1</td>\n",
       "      <td>product</td>\n",
       "      <td>Campbell's Condensed Cream of Mushroom Soup 294g</td>\n",
       "    </tr>\n",
       "    <tr>\n",
       "      <th>136</th>\n",
       "      <td>0</td>\n",
       "      <td>non-product</td>\n",
       "      <td>(10)</td>\n",
       "    </tr>\n",
       "    <tr>\n",
       "      <th>137</th>\n",
       "      <td>1</td>\n",
       "      <td>product</td>\n",
       "      <td>Sainsbury's Tomato &amp; Basil Soup 400g</td>\n",
       "    </tr>\n",
       "    <tr>\n",
       "      <th>138</th>\n",
       "      <td>0</td>\n",
       "      <td>non-product</td>\n",
       "      <td>(25)</td>\n",
       "    </tr>\n",
       "    <tr>\n",
       "      <th>139</th>\n",
       "      <td>1</td>\n",
       "      <td>product</td>\n",
       "      <td>Sainsbury's Tomato &amp; Spicy Lentil Soup, Be Goo...</td>\n",
       "    </tr>\n",
       "    <tr>\n",
       "      <th>140</th>\n",
       "      <td>0</td>\n",
       "      <td>non-product</td>\n",
       "      <td>(26)</td>\n",
       "    </tr>\n",
       "    <tr>\n",
       "      <th>141</th>\n",
       "      <td>1</td>\n",
       "      <td>product</td>\n",
       "      <td>Baxters Vegetarian, Spicy Parsnip Soup 400g</td>\n",
       "    </tr>\n",
       "    <tr>\n",
       "      <th>142</th>\n",
       "      <td>0</td>\n",
       "      <td>non-product</td>\n",
       "      <td>(12)</td>\n",
       "    </tr>\n",
       "    <tr>\n",
       "      <th>143</th>\n",
       "      <td>1</td>\n",
       "      <td>product</td>\n",
       "      <td>Baxters Favourites, Chicken Broth Soup 400g</td>\n",
       "    </tr>\n",
       "    <tr>\n",
       "      <th>144</th>\n",
       "      <td>0</td>\n",
       "      <td>non-product</td>\n",
       "      <td>(18)</td>\n",
       "    </tr>\n",
       "    <tr>\n",
       "      <th>145</th>\n",
       "      <td>1</td>\n",
       "      <td>product</td>\n",
       "      <td>Sainsbury's Cream Of Tomato Soup 4x400g</td>\n",
       "    </tr>\n",
       "    <tr>\n",
       "      <th>146</th>\n",
       "      <td>0</td>\n",
       "      <td>non-product</td>\n",
       "      <td>(19)</td>\n",
       "    </tr>\n",
       "    <tr>\n",
       "      <th>147</th>\n",
       "      <td>1</td>\n",
       "      <td>product</td>\n",
       "      <td>New Covent Garden Spiced Butternut Soup 560g</td>\n",
       "    </tr>\n",
       "    <tr>\n",
       "      <th>148</th>\n",
       "      <td>0</td>\n",
       "      <td>non-product</td>\n",
       "      <td>(9)</td>\n",
       "    </tr>\n",
       "    <tr>\n",
       "      <th>149</th>\n",
       "      <td>0</td>\n",
       "      <td>non-product</td>\n",
       "      <td>Typical life 7 days</td>\n",
       "    </tr>\n",
       "    <tr>\n",
       "      <th>150</th>\n",
       "      <td>1</td>\n",
       "      <td>product</td>\n",
       "      <td>Heinz Country Vegetable Big Soup 400g</td>\n",
       "    </tr>\n",
       "    <tr>\n",
       "      <th>151</th>\n",
       "      <td>0</td>\n",
       "      <td>non-product</td>\n",
       "      <td>(10)</td>\n",
       "    </tr>\n",
       "    <tr>\n",
       "      <th>152</th>\n",
       "      <td>1</td>\n",
       "      <td>product</td>\n",
       "      <td>Heinz Vegetable Soup 4x400g</td>\n",
       "    </tr>\n",
       "    <tr>\n",
       "      <th>153</th>\n",
       "      <td>0</td>\n",
       "      <td>non-product</td>\n",
       "      <td>(1)</td>\n",
       "    </tr>\n",
       "    <tr>\n",
       "      <th>154</th>\n",
       "      <td>0</td>\n",
       "      <td>non-product</td>\n",
       "      <td>Price Lock*</td>\n",
       "    </tr>\n",
       "    <tr>\n",
       "      <th>155</th>\n",
       "      <td>1</td>\n",
       "      <td>product</td>\n",
       "      <td>Campbell's Condensed Cream Of Chicken Soup 295g</td>\n",
       "    </tr>\n",
       "    <tr>\n",
       "      <th>156</th>\n",
       "      <td>0</td>\n",
       "      <td>non-product</td>\n",
       "      <td>(7)</td>\n",
       "    </tr>\n",
       "    <tr>\n",
       "      <th>157</th>\n",
       "      <td>1</td>\n",
       "      <td>product</td>\n",
       "      <td>Baxters Favourites, Minestrone Soup 400g</td>\n",
       "    </tr>\n",
       "    <tr>\n",
       "      <th>158</th>\n",
       "      <td>0</td>\n",
       "      <td>non-product</td>\n",
       "      <td>(9)</td>\n",
       "    </tr>\n",
       "    <tr>\n",
       "      <th>159</th>\n",
       "      <td>1</td>\n",
       "      <td>product</td>\n",
       "      <td>Sainsbury's Chunky Beef &amp; Vegetable Soup 400g</td>\n",
       "    </tr>\n",
       "    <tr>\n",
       "      <th>160</th>\n",
       "      <td>0</td>\n",
       "      <td>non-product</td>\n",
       "      <td>(14)</td>\n",
       "    </tr>\n",
       "    <tr>\n",
       "      <th>161</th>\n",
       "      <td>0</td>\n",
       "      <td>non-product</td>\n",
       "      <td>1</td>\n",
       "    </tr>\n",
       "    <tr>\n",
       "      <th>162</th>\n",
       "      <td>0</td>\n",
       "      <td>non-product</td>\n",
       "      <td>2</td>\n",
       "    </tr>\n",
       "    <tr>\n",
       "      <th>163</th>\n",
       "      <td>0</td>\n",
       "      <td>non-product</td>\n",
       "      <td>3</td>\n",
       "    </tr>\n",
       "    <tr>\n",
       "      <th>164</th>\n",
       "      <td>0</td>\n",
       "      <td>non-product</td>\n",
       "      <td>4</td>\n",
       "    </tr>\n",
       "    <tr>\n",
       "      <th>165</th>\n",
       "      <td>0</td>\n",
       "      <td>non-product</td>\n",
       "      <td>5</td>\n",
       "    </tr>\n",
       "    <tr>\n",
       "      <th>166</th>\n",
       "      <td>1</td>\n",
       "      <td>product</td>\n",
       "      <td>Celebrations Chocolates Easter Sharing Pouch B...</td>\n",
       "    </tr>\n",
       "    <tr>\n",
       "      <th>167</th>\n",
       "      <td>1</td>\n",
       "      <td>product</td>\n",
       "      <td>Tiny Rebel Clwb Tropica 4x330ml</td>\n",
       "    </tr>\n",
       "    <tr>\n",
       "      <th>168</th>\n",
       "      <td>0</td>\n",
       "      <td>non-product</td>\n",
       "      <td>Accessibility</td>\n",
       "    </tr>\n",
       "    <tr>\n",
       "      <th>169</th>\n",
       "      <td>0</td>\n",
       "      <td>non-product</td>\n",
       "      <td>Cookie policy</td>\n",
       "    </tr>\n",
       "    <tr>\n",
       "      <th>170</th>\n",
       "      <td>0</td>\n",
       "      <td>non-product</td>\n",
       "      <td>Privacy policy</td>\n",
       "    </tr>\n",
       "    <tr>\n",
       "      <th>171</th>\n",
       "      <td>0</td>\n",
       "      <td>non-product</td>\n",
       "      <td>Manage Cookies</td>\n",
       "    </tr>\n",
       "    <tr>\n",
       "      <th>172</th>\n",
       "      <td>0</td>\n",
       "      <td>non-product</td>\n",
       "      <td>Contact us</td>\n",
       "    </tr>\n",
       "    <tr>\n",
       "      <th>173</th>\n",
       "      <td>0</td>\n",
       "      <td>non-product</td>\n",
       "      <td>Help centre</td>\n",
       "    </tr>\n",
       "    <tr>\n",
       "      <th>174</th>\n",
       "      <td>0</td>\n",
       "      <td>non-product</td>\n",
       "      <td>Terms &amp; Conditions</td>\n",
       "    </tr>\n",
       "    <tr>\n",
       "      <th>175</th>\n",
       "      <td>0</td>\n",
       "      <td>non-product</td>\n",
       "      <td>Cookie Policy</td>\n",
       "    </tr>\n",
       "    <tr>\n",
       "      <th>176</th>\n",
       "      <td>0</td>\n",
       "      <td>non-product</td>\n",
       "      <td>Cookies Details‎</td>\n",
       "    </tr>\n",
       "    <tr>\n",
       "      <th>177</th>\n",
       "      <td>0</td>\n",
       "      <td>non-product</td>\n",
       "      <td>Cookies Details‎</td>\n",
       "    </tr>\n",
       "    <tr>\n",
       "      <th>178</th>\n",
       "      <td>0</td>\n",
       "      <td>non-product</td>\n",
       "      <td>Cookies Details‎</td>\n",
       "    </tr>\n",
       "    <tr>\n",
       "      <th>179</th>\n",
       "      <td>0</td>\n",
       "      <td>non-product</td>\n",
       "      <td>Cookies Details‎</td>\n",
       "    </tr>\n",
       "    <tr>\n",
       "      <th>180</th>\n",
       "      <td>0</td>\n",
       "      <td>non-product</td>\n",
       "      <td>Back ButtonBack</td>\n",
       "    </tr>\n",
       "    <tr>\n",
       "      <th>181</th>\n",
       "      <td>0</td>\n",
       "      <td>non-product</td>\n",
       "      <td>Filter Icon</td>\n",
       "    </tr>\n",
       "    <tr>\n",
       "      <th>182</th>\n",
       "      <td>0</td>\n",
       "      <td>non-product</td>\n",
       "      <td>Clear Filters</td>\n",
       "    </tr>\n",
       "    <tr>\n",
       "      <th>183</th>\n",
       "      <td>0</td>\n",
       "      <td>non-product</td>\n",
       "      <td>View Privacy Notice</td>\n",
       "    </tr>\n",
       "    <tr>\n",
       "      <th>184</th>\n",
       "      <td>0</td>\n",
       "      <td>non-product</td>\n",
       "      <td>Require Opt-Out</td>\n",
       "    </tr>\n",
       "    <tr>\n",
       "      <th>185</th>\n",
       "      <td>0</td>\n",
       "      <td>non-product</td>\n",
       "      <td>Cookie Policy</td>\n",
       "    </tr>\n",
       "  </tbody>\n",
       "</table>\n",
       "</div>"
      ],
      "text/plain": [
       "    label   label_note                                               text\n",
       "0       0  non-product                                  Log in / Register\n",
       "1       0  non-product                             Search a list of items\n",
       "2       0  non-product                                         Favourites\n",
       "3       0  non-product                                             Nectar\n",
       "4       0  non-product                                             Offers\n",
       "5       0  non-product                                           Discover\n",
       "6       0  non-product                                            Recipes\n",
       "7       0  non-product                                      Delivery Pass\n",
       "8       0  non-product                                          Occasions\n",
       "9       0  non-product                                       Mother's Day\n",
       "10      1      product  Yorkshire Provender Roast Chicken Soup With Tr...\n",
       "11      0  non-product                                               (59)\n",
       "12      0  non-product                               Only £2.00: Save 75p\n",
       "13      1      product  Sainsbury's Sweet Potato Coconut & Chilli Soup...\n",
       "14      0  non-product                                               (21)\n",
       "15      0  non-product                                Typical life 7 days\n",
       "16      1      product         Heinz Classic Cream of Chicken Soup 4x400g\n",
       "17      0  non-product                                                (5)\n",
       "18      0  non-product                                        Price Lock*\n",
       "19      1      product                 Heinz Cream of Tomato Soup x4 400g\n",
       "20      0  non-product                                                (8)\n",
       "21      0  non-product                                        Price Lock*\n",
       "22      1      product                   Heinz Cream of Chicken Soup 400g\n",
       "23      0  non-product                                               (11)\n",
       "24      0  non-product                                 Only 85p: Save 15p\n",
       "25      1      product              Sainsbury's Cream Of Tomato Soup 400g\n",
       "26      0  non-product                                               (35)\n",
       "27      1      product                    Heinz Cream of Tomato Soup 400g\n",
       "28      0  non-product                                               (10)\n",
       "29      1      product                    Sainsbury's Vegetable Soup 400g\n",
       "30      0  non-product                                               (28)\n",
       "31      1      product               Sainsbury's Tomato & Basil Soup 600g\n",
       "32      0  non-product                                               (36)\n",
       "33      0  non-product                                Typical life 7 days\n",
       "34      1      product          Sainsbury's Chicken & Sweetcorn Soup 600g\n",
       "35      0  non-product                                               (56)\n",
       "36      0  non-product                                Typical life 7 days\n",
       "37      0  non-product                                  ALDI PRICE MATCH*\n",
       "38      1      product           Heinz Big Soup, Chicken & Vegetable 400g\n",
       "39      0  non-product                                               (10)\n",
       "40      0  non-product                               Only £1.25: Save 15p\n",
       "41      1      product                   Sainsbury's Minestrone Soup 600g\n",
       "42      0  non-product                                               (31)\n",
       "43      0  non-product                                Typical life 7 days\n",
       "44      1      product  Sainsbury's Spicy Tomato, Lentil & Red Pepper ...\n",
       "45      0  non-product                                               (52)\n",
       "46      0  non-product                                Typical life 7 days\n",
       "47      1      product           Sainsbury's Carrot & Coriander Soup 600g\n",
       "48      0  non-product                                               (47)\n",
       "49      0  non-product                                Typical life 7 days\n",
       "50      0  non-product                                  ALDI PRICE MATCH*\n",
       "51      1      product            Sainsbury's Cream Of Mushroom Soup 400g\n",
       "52      0  non-product                                               (18)\n",
       "53      1      product  Sainsbury's Petits Pois & Ham Soup, Taste the ...\n",
       "54      0  non-product                                              (102)\n",
       "55      0  non-product                                Typical life 7 days\n",
       "56      1      product                  Sainsbury's Lentil Dhal Soup 600g\n",
       "57      0  non-product                                              (163)\n",
       "58      0  non-product                                Typical life 7 days\n",
       "59      1      product        New Covent Garden Classic Chicken Soup 560g\n",
       "60      0  non-product                                               (45)\n",
       "61      0  non-product                                Typical life 7 days\n",
       "62      1      product                         Heinz Minestrone Soup 400g\n",
       "63      0  non-product                                                (4)\n",
       "64      0  non-product                                 Only 85p: Save 15p\n",
       "65      1      product                  Heinz Cream Of Mushroom Soup 400g\n",
       "66      0  non-product                                                (7)\n",
       "67      1      product                             Heinz Oxtail Soup 400g\n",
       "68      0  non-product                                                (6)\n",
       "69      0  non-product                                 Only 85p: Save 15p\n",
       "70      1      product             Sainsbury's Cream Of Chicken Soup 400g\n",
       "71      0  non-product                                               (14)\n",
       "72      1      product  Sainsbury's Moroccan Spiced Chicken & Chickpea...\n",
       "73      0  non-product                                               (84)\n",
       "74      0  non-product                                Typical life 7 days\n",
       "75      1      product                          Heinz Vegetable Soup 400g\n",
       "76      0  non-product                                                (7)\n",
       "77      1      product  Sainsbury's Tomato & Three Bean Soup, Be Good ...\n",
       "78      0  non-product                                               (39)\n",
       "79      1      product           Sainsbury's Chicken & Mushroom Soup 400g\n",
       "80      0  non-product                                                (9)\n",
       "81      1      product                     Heinz Chicken Noodle Soup 400g\n",
       "82      0  non-product                                                (4)\n",
       "83      0  non-product                                 Only 85p: Save 15p\n",
       "84      1      product          New Covent Garden Leek & Potato Soup 560g\n",
       "85      0  non-product                                               (24)\n",
       "86      0  non-product                                Typical life 7 days\n",
       "87      1      product           Sainsbury's Carrot & Coriander Soup 400g\n",
       "88      0  non-product                                               (24)\n",
       "89      1      product                       Heinz Mulligatawny Soup 400g\n",
       "90      0  non-product                                               (10)\n",
       "91      0  non-product                                 Only 85p: Save 15p\n",
       "92      1      product   Sainsbury's Tomato Red Pepper & Lentil Soup 400g\n",
       "93      0  non-product                                               (18)\n",
       "94      1      product                   Sainsbury's Minestrone Soup 400g\n",
       "95      0  non-product                                               (38)\n",
       "96      1      product  Yorkshire Provender Cauliflower Cheese Soup Wi...\n",
       "97      0  non-product                                               (27)\n",
       "98      0  non-product                               Only £2.00: Save 75p\n",
       "99      1      product                       Sainsbury's Oxtail Soup 400g\n",
       "100     0  non-product                                               (21)\n",
       "101     1      product              Sainsbury's Cream Of Tomato Soup 600g\n",
       "102     0  non-product                                               (14)\n",
       "103     0  non-product                                Typical life 7 days\n",
       "104     1      product              New Covent Garden Vegetable Soup 560g\n",
       "105     0  non-product                                               (18)\n",
       "106     0  non-product                                Typical life 7 days\n",
       "107     1      product              Heinz Big Soup, Beef & Vegetable 400g\n",
       "108     0  non-product                                               (40)\n",
       "109     1      product           Sainsbury's Broccoli & Stilton Soup 400g\n",
       "110     0  non-product                                               (50)\n",
       "111     1      product                Sainsbury's Leek & Potato Soup 400g\n",
       "112     0  non-product                                               (14)\n",
       "113     1      product               New Covent Garden Mushroom Soup 560g\n",
       "114     0  non-product                                               (29)\n",
       "115     0  non-product                                Typical life 7 days\n",
       "116     1      product  New Covent Garden Lentil & Smoked Bacon Soup 560g\n",
       "117     0  non-product                                               (24)\n",
       "118     0  non-product                                Typical life 7 days\n",
       "119     1      product  Sainsbury's Chantenay Carrot & Honey Roast Par...\n",
       "120     0  non-product                                               (63)\n",
       "121     0  non-product                                Typical life 7 days\n",
       "122     1      product       Baxters Favourites, Lentil & Bacon Soup 400g\n",
       "123     0  non-product                                                (6)\n",
       "124     1      product                 Sainsbury's Scotch Broth Soup 400g\n",
       "125     0  non-product                                               (18)\n",
       "126     1      product         New Covent Garden Tomato & Basil Soup 560g\n",
       "127     0  non-product                                               (18)\n",
       "128     0  non-product                                Typical life 7 days\n",
       "129     1      product      Baxters Favourites, Cream Of Tomato Soup 400g\n",
       "130     0  non-product                                               (15)\n",
       "131     1      product   Sainsbury's Chunky Chicken & Vegetable Soup 400g\n",
       "132     0  non-product                                               (14)\n",
       "133     1      product  Heinz Limited Edition Cream Of Tomato Soup Wit...\n",
       "134     0  non-product                                                (4)\n",
       "135     1      product   Campbell's Condensed Cream of Mushroom Soup 294g\n",
       "136     0  non-product                                               (10)\n",
       "137     1      product               Sainsbury's Tomato & Basil Soup 400g\n",
       "138     0  non-product                                               (25)\n",
       "139     1      product  Sainsbury's Tomato & Spicy Lentil Soup, Be Goo...\n",
       "140     0  non-product                                               (26)\n",
       "141     1      product        Baxters Vegetarian, Spicy Parsnip Soup 400g\n",
       "142     0  non-product                                               (12)\n",
       "143     1      product        Baxters Favourites, Chicken Broth Soup 400g\n",
       "144     0  non-product                                               (18)\n",
       "145     1      product            Sainsbury's Cream Of Tomato Soup 4x400g\n",
       "146     0  non-product                                               (19)\n",
       "147     1      product       New Covent Garden Spiced Butternut Soup 560g\n",
       "148     0  non-product                                                (9)\n",
       "149     0  non-product                                Typical life 7 days\n",
       "150     1      product              Heinz Country Vegetable Big Soup 400g\n",
       "151     0  non-product                                               (10)\n",
       "152     1      product                        Heinz Vegetable Soup 4x400g\n",
       "153     0  non-product                                                (1)\n",
       "154     0  non-product                                        Price Lock*\n",
       "155     1      product    Campbell's Condensed Cream Of Chicken Soup 295g\n",
       "156     0  non-product                                                (7)\n",
       "157     1      product           Baxters Favourites, Minestrone Soup 400g\n",
       "158     0  non-product                                                (9)\n",
       "159     1      product      Sainsbury's Chunky Beef & Vegetable Soup 400g\n",
       "160     0  non-product                                               (14)\n",
       "161     0  non-product                                                  1\n",
       "162     0  non-product                                                  2\n",
       "163     0  non-product                                                  3\n",
       "164     0  non-product                                                  4\n",
       "165     0  non-product                                                  5\n",
       "166     1      product  Celebrations Chocolates Easter Sharing Pouch B...\n",
       "167     1      product                    Tiny Rebel Clwb Tropica 4x330ml\n",
       "168     0  non-product                                      Accessibility\n",
       "169     0  non-product                                      Cookie policy\n",
       "170     0  non-product                                     Privacy policy\n",
       "171     0  non-product                                     Manage Cookies\n",
       "172     0  non-product                                         Contact us\n",
       "173     0  non-product                                        Help centre\n",
       "174     0  non-product                                 Terms & Conditions\n",
       "175     0  non-product                                      Cookie Policy\n",
       "176     0  non-product                                   Cookies Details‎\n",
       "177     0  non-product                                   Cookies Details‎\n",
       "178     0  non-product                                   Cookies Details‎\n",
       "179     0  non-product                                   Cookies Details‎\n",
       "180     0  non-product                                    Back ButtonBack\n",
       "181     0  non-product                                        Filter Icon\n",
       "182     0  non-product                                      Clear Filters\n",
       "183     0  non-product                                View Privacy Notice\n",
       "184     0  non-product                                    Require Opt-Out\n",
       "185     0  non-product                                      Cookie Policy"
      ]
     },
     "execution_count": 7,
     "metadata": {},
     "output_type": "execute_result"
    }
   ],
   "source": [
    "df = pd.read_pickle('product_dataset.pkl')\n",
    "df "
   ]
  },
  {
   "cell_type": "code",
   "execution_count": 8,
   "id": "015c2505",
   "metadata": {},
   "outputs": [
    {
     "name": "stderr",
     "output_type": "stream",
     "text": [
      "/home/fyy/anaconda3/envs/fyp/lib/python3.9/site-packages/tqdm/auto.py:22: TqdmWarning: IProgress not found. Please update jupyter and ipywidgets. See https://ipywidgets.readthedocs.io/en/stable/user_install.html\n",
      "  from .autonotebook import tqdm as notebook_tqdm\n"
     ]
    },
    {
     "name": "stdout",
     "output_type": "stream",
     "text": [
      "tensor([[  101, 12558,  1116,  2038,  4108, 25431,  3261,  9772, 16385,  2087,\n",
      "           140,  4889,  3491,  4214,  1403,   102,     0,     0,     0,     0]])\n",
      "tensor([[0, 0, 0, 0, 0, 0, 0, 0, 0, 0, 0, 0, 0, 0, 0, 0, 0, 0, 0, 0]])\n",
      "tensor([[1, 1, 1, 1, 1, 1, 1, 1, 1, 1, 1, 1, 1, 1, 1, 1, 0, 0, 0, 0]])\n"
     ]
    }
   ],
   "source": [
    "from transformers import BertTokenizer\n",
    "\n",
    "tokenizer = BertTokenizer.from_pretrained('bert-base-cased')\n",
    "\n",
    "example_text = 'Pipers Great Berwick Longhorn Beef Crisps 150g'\n",
    "bert_input = tokenizer(example_text,padding='max_length', max_length = 20, \n",
    "                       truncation=True, return_tensors=\"pt\")\n",
    "\n",
    "\n",
    "print(bert_input['input_ids'])\n",
    "print(bert_input['token_type_ids'])\n",
    "print(bert_input['attention_mask'])"
   ]
  },
  {
   "cell_type": "code",
   "execution_count": 9,
   "id": "361e3489",
   "metadata": {},
   "outputs": [
    {
     "name": "stdout",
     "output_type": "stream",
     "text": [
      "[CLS] Pipers Great Berwick Longhorn Beef Crisps 150g [SEP] [PAD] [PAD] [PAD] [PAD]\n"
     ]
    }
   ],
   "source": [
    "example_text = tokenizer.decode(bert_input.input_ids[0])\n",
    "\n",
    "print(example_text)"
   ]
  },
  {
   "cell_type": "code",
   "execution_count": 10,
   "id": "b1508945",
   "metadata": {},
   "outputs": [],
   "source": [
    "import torch\n",
    "import numpy as np\n",
    "from transformers import BertTokenizer\n",
    "\n",
    "tokenizer = BertTokenizer.from_pretrained('bert-base-cased')\n",
    "labels = {'product':1,\n",
    "          'non-product':0}\n",
    "\n",
    "class Dataset(torch.utils.data.Dataset):\n",
    "\n",
    "    def __init__(self, df):\n",
    "\n",
    "        self.labels = [labels[label] for label in df['label_note']]\n",
    "        self.texts = [tokenizer(text, \n",
    "                               padding='max_length', max_length = 512, truncation=True,\n",
    "                                return_tensors=\"pt\") for text in df['text']]\n",
    "\n",
    "    def classes(self):\n",
    "        return self.labels\n",
    "\n",
    "    def __len__(self):\n",
    "        return len(self.labels)\n",
    "\n",
    "    def get_batch_labels(self, idx):\n",
    "        # Fetch a batch of labels\n",
    "        return np.array(self.labels[idx])\n",
    "\n",
    "    def get_batch_texts(self, idx):\n",
    "        # Fetch a batch of inputs\n",
    "        return self.texts[idx]\n",
    "\n",
    "    def __getitem__(self, idx):\n",
    "\n",
    "        batch_texts = self.get_batch_texts(idx)\n",
    "        batch_y = self.get_batch_labels(idx)\n",
    "\n",
    "        return batch_texts, batch_y"
   ]
  },
  {
   "cell_type": "code",
   "execution_count": 11,
   "id": "ea3d5f10",
   "metadata": {},
   "outputs": [],
   "source": [
    "'''build bert model'''\n",
    "\n",
    "from torch import nn\n",
    "from transformers import BertModel\n",
    "\n",
    "class BertClassifier(nn.Module):\n",
    "\n",
    "    def __init__(self, dropout=0.5):\n",
    "\n",
    "        super(BertClassifier, self).__init__()\n",
    "\n",
    "        self.bert = BertModel.from_pretrained('bert-base-cased')\n",
    "        self.dropout = nn.Dropout(dropout)\n",
    "        self.linear = nn.Linear(768, 2)\n",
    "        self.relu = nn.ReLU()\n",
    "\n",
    "    def forward(self, input_id, mask):\n",
    "\n",
    "        _, pooled_output = self.bert(input_ids= input_id, attention_mask=mask,return_dict=False)\n",
    "        dropout_output = self.dropout(pooled_output)\n",
    "        linear_output = self.linear(dropout_output)\n",
    "        final_layer = self.relu(linear_output)\n",
    "\n",
    "        return final_layer"
   ]
  },
  {
   "cell_type": "code",
   "execution_count": 12,
   "id": "97cf26bf",
   "metadata": {},
   "outputs": [
    {
     "name": "stdout",
     "output_type": "stream",
     "text": [
      "148 19 19\n"
     ]
    }
   ],
   "source": [
    "\n",
    "np.random.seed(112)\n",
    "df_train, df_val, df_test = np.split(df.sample(frac=1, random_state=42), \n",
    "                                     [int(.8*len(df)), int(.9*len(df))])\n",
    "\n",
    "print(len(df_train),len(df_val), len(df_test))"
   ]
  },
  {
   "cell_type": "code",
   "execution_count": 27,
   "id": "69867645",
   "metadata": {},
   "outputs": [
    {
     "name": "stderr",
     "output_type": "stream",
     "text": [
      "Some weights of the model checkpoint at bert-base-cased were not used when initializing BertModel: ['cls.predictions.transform.dense.bias', 'cls.predictions.decoder.weight', 'cls.predictions.transform.dense.weight', 'cls.seq_relationship.weight', 'cls.predictions.bias', 'cls.seq_relationship.bias', 'cls.predictions.transform.LayerNorm.weight', 'cls.predictions.transform.LayerNorm.bias']\n",
      "- This IS expected if you are initializing BertModel from the checkpoint of a model trained on another task or with another architecture (e.g. initializing a BertForSequenceClassification model from a BertForPreTraining model).\n",
      "- This IS NOT expected if you are initializing BertModel from the checkpoint of a model that you expect to be exactly identical (initializing a BertForSequenceClassification model from a BertForSequenceClassification model).\n",
      "100%|███████████████████████████████████████████████████████████████████████████████████| 74/74 [02:46<00:00,  2.25s/it]\n"
     ]
    },
    {
     "name": "stdout",
     "output_type": "stream",
     "text": [
      "Epochs: 1 | Train Loss:  0.187                 | Train Accuracy:  0.804                 | Val Loss:  0.267                 | Val Accuracy:  0.684\n"
     ]
    },
    {
     "name": "stderr",
     "output_type": "stream",
     "text": [
      "100%|███████████████████████████████████████████████████████████████████████████████████| 74/74 [02:47<00:00,  2.27s/it]\n"
     ]
    },
    {
     "name": "stdout",
     "output_type": "stream",
     "text": [
      "Epochs: 2 | Train Loss:  0.075                 | Train Accuracy:  0.966                 | Val Loss:  0.187                 | Val Accuracy:  0.842\n"
     ]
    },
    {
     "name": "stderr",
     "output_type": "stream",
     "text": [
      "100%|███████████████████████████████████████████████████████████████████████████████████| 74/74 [02:50<00:00,  2.31s/it]\n"
     ]
    },
    {
     "name": "stdout",
     "output_type": "stream",
     "text": [
      "Epochs: 3 | Train Loss:  0.041                 | Train Accuracy:  0.973                 | Val Loss:  0.065                 | Val Accuracy:  0.947\n"
     ]
    },
    {
     "name": "stderr",
     "output_type": "stream",
     "text": [
      "100%|███████████████████████████████████████████████████████████████████████████████████| 74/74 [02:43<00:00,  2.22s/it]\n"
     ]
    },
    {
     "name": "stdout",
     "output_type": "stream",
     "text": [
      "Epochs: 4 | Train Loss:  0.014                 | Train Accuracy:  1.000                 | Val Loss:  0.001                 | Val Accuracy:  1.000\n"
     ]
    },
    {
     "name": "stderr",
     "output_type": "stream",
     "text": [
      "100%|███████████████████████████████████████████████████████████████████████████████████| 74/74 [02:50<00:00,  2.31s/it]\n"
     ]
    },
    {
     "name": "stdout",
     "output_type": "stream",
     "text": [
      "Epochs: 5 | Train Loss:  0.001                 | Train Accuracy:  1.000                 | Val Loss:  0.000                 | Val Accuracy:  1.000\n"
     ]
    },
    {
     "name": "stderr",
     "output_type": "stream",
     "text": [
      "100%|███████████████████████████████████████████████████████████████████████████████████| 74/74 [02:49<00:00,  2.29s/it]\n"
     ]
    },
    {
     "name": "stdout",
     "output_type": "stream",
     "text": [
      "Epochs: 6 | Train Loss:  0.000                 | Train Accuracy:  1.000                 | Val Loss:  0.000                 | Val Accuracy:  1.000\n"
     ]
    },
    {
     "name": "stderr",
     "output_type": "stream",
     "text": [
      "100%|███████████████████████████████████████████████████████████████████████████████████| 74/74 [02:50<00:00,  2.30s/it]\n"
     ]
    },
    {
     "name": "stdout",
     "output_type": "stream",
     "text": [
      "Epochs: 7 | Train Loss:  0.000                 | Train Accuracy:  1.000                 | Val Loss:  0.000                 | Val Accuracy:  1.000\n"
     ]
    },
    {
     "name": "stderr",
     "output_type": "stream",
     "text": [
      "100%|███████████████████████████████████████████████████████████████████████████████████| 74/74 [02:50<00:00,  2.31s/it]\n"
     ]
    },
    {
     "name": "stdout",
     "output_type": "stream",
     "text": [
      "Epochs: 8 | Train Loss:  0.000                 | Train Accuracy:  1.000                 | Val Loss:  0.000                 | Val Accuracy:  1.000\n"
     ]
    },
    {
     "name": "stderr",
     "output_type": "stream",
     "text": [
      "100%|███████████████████████████████████████████████████████████████████████████████████| 74/74 [02:48<00:00,  2.28s/it]\n"
     ]
    },
    {
     "name": "stdout",
     "output_type": "stream",
     "text": [
      "Epochs: 9 | Train Loss:  0.000                 | Train Accuracy:  1.000                 | Val Loss:  0.000                 | Val Accuracy:  1.000\n"
     ]
    },
    {
     "name": "stderr",
     "output_type": "stream",
     "text": [
      "100%|███████████████████████████████████████████████████████████████████████████████████| 74/74 [02:51<00:00,  2.32s/it]\n"
     ]
    },
    {
     "name": "stdout",
     "output_type": "stream",
     "text": [
      "Epochs: 10 | Train Loss:  0.000                 | Train Accuracy:  1.000                 | Val Loss:  0.000                 | Val Accuracy:  1.000\n"
     ]
    },
    {
     "name": "stderr",
     "output_type": "stream",
     "text": [
      "100%|███████████████████████████████████████████████████████████████████████████████████| 74/74 [02:47<00:00,  2.26s/it]\n"
     ]
    },
    {
     "name": "stdout",
     "output_type": "stream",
     "text": [
      "Epochs: 11 | Train Loss:  0.000                 | Train Accuracy:  1.000                 | Val Loss:  0.000                 | Val Accuracy:  1.000\n"
     ]
    },
    {
     "name": "stderr",
     "output_type": "stream",
     "text": [
      "100%|███████████████████████████████████████████████████████████████████████████████████| 74/74 [02:47<00:00,  2.26s/it]\n"
     ]
    },
    {
     "name": "stdout",
     "output_type": "stream",
     "text": [
      "Epochs: 12 | Train Loss:  0.000                 | Train Accuracy:  1.000                 | Val Loss:  0.000                 | Val Accuracy:  1.000\n"
     ]
    },
    {
     "name": "stderr",
     "output_type": "stream",
     "text": [
      "100%|███████████████████████████████████████████████████████████████████████████████████| 74/74 [02:47<00:00,  2.26s/it]\n"
     ]
    },
    {
     "name": "stdout",
     "output_type": "stream",
     "text": [
      "Epochs: 13 | Train Loss:  0.000                 | Train Accuracy:  1.000                 | Val Loss:  0.000                 | Val Accuracy:  1.000\n"
     ]
    }
   ],
   "source": [
    "from torch.optim import Adam\n",
    "from tqdm import tqdm\n",
    "import torch\n",
    "\n",
    "def train(model, train_data, val_data, learning_rate, epochs):\n",
    "    \n",
    "    #train_data = train_data.type(torch.LongTensor)\n",
    "\n",
    "    train, val = Dataset(train_data), Dataset(val_data)\n",
    "\n",
    "    train_dataloader = torch.utils.data.DataLoader(train, batch_size=2, shuffle=True)\n",
    "    val_dataloader = torch.utils.data.DataLoader(val, batch_size=2)\n",
    "\n",
    "    use_cuda = torch.cuda.is_available()\n",
    "    device = torch.device(\"cuda\" if use_cuda else \"cpu\")\n",
    "\n",
    "    criterion = nn.CrossEntropyLoss()\n",
    "    optimizer = Adam(model.parameters(), lr= learning_rate)\n",
    "\n",
    "    if use_cuda:\n",
    "\n",
    "            model = model.cuda()\n",
    "            criterion = criterion.cuda()\n",
    "\n",
    "    for epoch_num in range(epochs):\n",
    "\n",
    "            total_acc_train = 0\n",
    "            total_loss_train = 0\n",
    "\n",
    "            for train_input, train_label in tqdm(train_dataloader):\n",
    "\n",
    "                train_label = train_label.to(device)\n",
    "                mask = train_input['attention_mask'].to(device)\n",
    "                input_id = train_input['input_ids'].squeeze(1).to(device)\n",
    "\n",
    "                output = model(input_id, mask)\n",
    "                \n",
    "                batch_loss = criterion(output, train_label)\n",
    "                total_loss_train += batch_loss.item()\n",
    "                \n",
    "                acc = (output.argmax(dim=1) == train_label).sum().item()\n",
    "                total_acc_train += acc\n",
    "\n",
    "                model.zero_grad()\n",
    "                batch_loss.backward()\n",
    "                optimizer.step()\n",
    "            \n",
    "            total_acc_val = 0\n",
    "            total_loss_val = 0\n",
    "\n",
    "            with torch.no_grad():\n",
    "\n",
    "                for val_input, val_label in val_dataloader:\n",
    "\n",
    "                    val_label = val_label.to(device)\n",
    "                    mask = val_input['attention_mask'].to(device)\n",
    "                    input_id = val_input['input_ids'].squeeze(1).to(device)\n",
    "\n",
    "                    output = model(input_id, mask)\n",
    "\n",
    "                    batch_loss = criterion(output, val_label)\n",
    "                    total_loss_val += batch_loss.item()\n",
    "                    \n",
    "                    acc = (output.argmax(dim=1) == val_label).sum().item()\n",
    "                    total_acc_val += acc\n",
    "            \n",
    "            print(\n",
    "                f'Epochs: {epoch_num + 1} | Train Loss: {total_loss_train / len(train_data): .3f} \\\n",
    "                | Train Accuracy: {total_acc_train / len(train_data): .3f} \\\n",
    "                | Val Loss: {total_loss_val / len(val_data): .3f} \\\n",
    "                | Val Accuracy: {total_acc_val / len(val_data): .3f}')\n",
    "                  \n",
    "EPOCHS = 13\n",
    "model = BertClassifier()\n",
    "LR = 0.0001\n",
    "              \n",
    "train(model, df_train, df_val, LR, EPOCHS)\n",
    "\n"
   ]
  },
  {
   "cell_type": "code",
   "execution_count": 28,
   "id": "adf01cbe",
   "metadata": {},
   "outputs": [
    {
     "name": "stdout",
     "output_type": "stream",
     "text": [
      "Test Accuracy:  1.000\n",
      "Test F1 score:  1.000\n",
      "    label   label_note                                               text\n",
      "1       0  non-product                             Search a list of items\n",
      "52      0  non-product                                               (18)\n",
      "149     0  non-product                                Typical life 7 days\n",
      "130     0  non-product                                               (15)\n",
      "151     0  non-product                                               (10)\n",
      "103     0  non-product                                Typical life 7 days\n",
      "99      1      product                       Sainsbury's Oxtail Soup 400g\n",
      "116     1      product  New Covent Garden Lentil & Smoked Bacon Soup 560g\n",
      "87      1      product           Sainsbury's Carrot & Coriander Soup 400g\n",
      "74      0  non-product                                Typical life 7 days\n",
      "121     0  non-product                                Typical life 7 days\n",
      "185     0  non-product                                      Cookie Policy\n",
      "20      0  non-product                                                (8)\n",
      "71      0  non-product                                               (14)\n",
      "106     0  non-product                                Typical life 7 days\n",
      "14      0  non-product                                               (21)\n",
      "92      1      product   Sainsbury's Tomato Red Pepper & Lentil Soup 400g\n",
      "179     0  non-product                                   Cookies Details‎\n",
      "102     0  non-product                                               (14)\n"
     ]
    }
   ],
   "source": [
    "def evaluate(model, test_data):\n",
    "\n",
    "    test = Dataset(test_data)\n",
    "\n",
    "    test_dataloader = torch.utils.data.DataLoader(test, batch_size=2)\n",
    "\n",
    "    use_cuda = torch.cuda.is_available()\n",
    "    device = torch.device(\"cuda\" if use_cuda else \"cpu\")\n",
    "\n",
    "    if use_cuda:\n",
    "\n",
    "        model = model.cuda()\n",
    "\n",
    "    total_acc_test = 0\n",
    "    TP = 0\n",
    "    FP = 0\n",
    "    FN = 0\n",
    "    with torch.no_grad():\n",
    "\n",
    "        for test_input, test_label in test_dataloader:\n",
    "            \n",
    "            test_label = test_label.to(device)\n",
    "            mask = test_input['attention_mask'].to(device)\n",
    "            input_id = test_input['input_ids'].squeeze(1).to(device)\n",
    "\n",
    "            i = 0\n",
    "            output = model(input_id, mask)\n",
    "            for answer in test_label:\n",
    "                selected_output = output.argmax(dim=1)[i]\n",
    "                i += 1\n",
    "                if answer==selected_output and answer==torch.tensor(0):\n",
    "                    TP += 1\n",
    "                if selected_output==torch.tensor(1) and answer==torch.tensor(0):\n",
    "                    FP += 1\n",
    "                if selected_output==torch.tensor(0) and answer==torch.tensor(1):\n",
    "                    FN += 1\n",
    "                if answer!=selected_output:\n",
    "                    #print(test_input)\n",
    "                    pass\n",
    "\n",
    "            acc = (output.argmax(dim=1) == test_label).sum().item()\n",
    "            total_acc_test += acc\n",
    "            \n",
    "            #selected = (output.argmax(dim=1) == 1).sum().item()\n",
    "\n",
    "    \n",
    "    F1 = TP/(TP + 0.5*(FP+FN))\n",
    "    print(f'Test Accuracy: {total_acc_test / len(test_data): .3f}')\n",
    "    print(f'Test F1 score: {F1: .3f}')\n",
    "    return (total_acc_test / len(test_data), F1)\n",
    "    \n",
    "evaluate(model, df_test)\n",
    "print(df_test)"
   ]
  },
  {
   "cell_type": "code",
   "execution_count": 29,
   "id": "9df9adc5",
   "metadata": {},
   "outputs": [
    {
     "name": "stdout",
     "output_type": "stream",
     "text": [
      "    label   label_note                                               text\n",
      "0       0  non-product                                  Log in / Register\n",
      "1       0  non-product                             Search a list of items\n",
      "2       0  non-product                                         Favourites\n",
      "3       0  non-product                                             Nectar\n",
      "4       0  non-product                                             Offers\n",
      "5       0  non-product                                           Discover\n",
      "6       0  non-product                                            Recipes\n",
      "7       0  non-product                                      Delivery Pass\n",
      "8       0  non-product                                          Occasions\n",
      "9       0  non-product                                       Mother's Day\n",
      "10      0  non-product  Sainsbury's Sea Salt & Cider Vinegar Crisps, T...\n",
      "11      0  non-product  Sainsbury's Cheddar & Spring Onion Crisps, Tas...\n",
      "12      0  non-product                       Pringles Prawn Cocktail 200g\n",
      "13      0  non-product    Kettle Chips Lightly Salted Sharing Crisps 150g\n",
      "14      0  non-product                               Only £1.25: Save 75p\n",
      "15      0  non-product   Sensations Thai Sweet Chilli Sharing Crisps 150g\n",
      "16      0  non-product                               Only £1.25: Save 75p\n",
      "17      0  non-product  Kettle Chips Sea Salt & Balsamic Vinegar of Mo...\n",
      "18      0  non-product                               Only £1.25: Save 75p\n",
      "19      0  non-product  Kettle Chips Sea Salt & Crushed Black Pepperco...\n",
      "20      0  non-product                               Only £1.25: Save 75p\n",
      "21      0  non-product                      Pringles Original Crisps 200g\n",
      "22      0  non-product  Kettle Chips Mature Cheddar & Red Onion Sharin...\n",
      "23      0  non-product                               Only £1.25: Save 75p\n",
      "24      0  non-product  Kettle Chips Sweet Chilli & Sour Cream Sharing...\n",
      "25      0  non-product                               Only £1.25: Save 75p\n",
      "26      0  non-product  Doritos Cool Original Sharing Tortilla Chips C...\n",
      "27      0  non-product    Walkers Classic Variety Multipack Crisps 22x25g\n",
      "28      0  non-product     Jacob's Cracker Crisps Sour Cream & Chive 150g\n",
      "29      0  non-product                                        Price Lock*\n",
      "30      0  non-product  Sainsbury's Gourmet Sea Salt Crisps, Taste the...\n",
      "31      0  non-product  Doritos Chilli Heatwave Sharing Tortilla Chips...\n",
      "32      0  non-product                       Jacob's Twiglets Crisps 150g\n",
      "33      0  non-product                               Only £1.50: Save 50p\n",
      "34      0  non-product  Sensations Roast Chicken & Thyme Sharing Crisp...\n",
      "35      0  non-product                               Only £1.25: Save 75p\n",
      "36      0  non-product  Doritos Tangy Cheese Sharing Tortilla Chips Cr...\n",
      "37      0  non-product            Pringles Sour Cream & Onion Crisps 200g\n",
      "38      0  non-product  Doritos Lightly Salted Sharing Tortilla Chips ...\n",
      "39      0  non-product                             Only £1.25: Save £1.25\n",
      "40      0  non-product  Kettle Chips Sour Cream & Sweet Onion Sharing ...\n",
      "41      0  non-product                               Only £1.25: Save 75p\n",
      "42      0  non-product    Tyrrells Lightly Sea Salted Sharing Crisps 150g\n",
      "43      0  non-product  Sainsbury's Vegetable Crisps, Taste the Differ...\n",
      "44      0  non-product         Jacob's Cracker Crisps Salt & Vinegar 150g\n",
      "45      0  non-product                                        Price Lock*\n",
      "46      0  non-product                           Pringles BBQ Crisps 200g\n",
      "47      0  non-product  Sensations Balsamic Vinegar & Caramelised Onio...\n",
      "48      0  non-product                               Only £1.25: Save 75p\n",
      "49      0  non-product               Popchips Barbeque Sharing Crisps 85g\n",
      "50      0  non-product  Doritos Hint of Lime Sharing Tortilla Chips Cr...\n",
      "51      0  non-product                             Only £1.25: Save £1.25\n",
      "52      0  non-product             Sainsbury's Ready Salted Crisps 12x25g\n",
      "53      0  non-product  Sainsbury's Ridge Classic Variety Ridge Cut As...\n",
      "54      0  non-product             Popchips Barbeque Multipack Crisps 5pk\n",
      "55      0  non-product     Popchips Sea Salt & Vinegar Sharing Crisps 85g\n",
      "56      0  non-product                    Walkers Ready Salted Crisps 45g\n",
      "57      0  non-product                                Meal Deal for £3.50\n",
      "58      0  non-product  Tyrrells Cider Vinegar & Salt Sharing Crisps 150g\n",
      "59      0  non-product                  Walkers Salt & Vinegar Crisps 45g\n",
      "60      0  non-product                                Meal Deal for £3.50\n",
      "61      0  non-product                  Walkers Cheese & Onion Crisps 45g\n",
      "62      0  non-product                                Meal Deal for £3.50\n",
      "63      0  non-product  Tyrrells Mixed Root Vegetable Sharing Crisps 125g\n",
      "64      0  non-product    Pringles Sizzl'N Kickin' Sour Cream Crisps 180g\n",
      "65      0  non-product                               Only £1.65: Save 35p\n",
      "66      0  non-product  Pipers Burrow Hill Cider Vinegar & Sea Salt Sh...\n",
      "67      0  non-product  Tyrrells Sweet Chilli & Red Pepper Sharing Cri...\n",
      "68      0  non-product     Popchips Sour Cream & Onion Sharing Crisps 85g\n",
      "69      0  non-product  Pipers Lye Cross Cheddar & Onion Sharing Crisp...\n",
      "70      0  non-product  Sainsbury's Thai Sweet Chilli Crisps, Taste Th...\n",
      "71      0  non-product     Walkers Max Punchy Paprika Sharing Crisps 150g\n",
      "72      0  non-product       Pipers Anglesey Sea Salt Sharing Crisps 150g\n",
      "73      0  non-product  Tyrrells Cheddar Cheese & Chive Sharing Crisps...\n",
      "74      0  non-product     Pipers Great Berwick Longhorn Beef Crisps 150g\n",
      "75      0  non-product  Pringles Sizzl'N Extra Hot Cheese & Chilli Cri...\n",
      "76      0  non-product                               Only £1.65: Save 35p\n",
      "77      0  non-product  Walkers Max Strong Jalapeño & Cheese Sharing C...\n",
      "78      0  non-product         Popchips Original Chips Sharing Crisps 85g\n",
      "79      0  non-product  Walkers Max Strong Hot Chicken Wings Sharing C...\n",
      "80      0  non-product   Pipers Kirkby Malham Chorizo Sharing Crisps 150g\n",
      "81      0  non-product  Walkers Sensations BBQ Beef Teriyaki Sharing C...\n",
      "82      0  non-product                               Only £1.25: Save 75p\n",
      "83      0  non-product  Pipers Atlas Mountains Wild Thyme & Rosemary S...\n",
      "84      0  non-product                  Walkers Prawn Cocktail Crisps 45g\n",
      "85      0  non-product                                Meal Deal for £3.50\n",
      "86      0  non-product  Doritos Flamin' Hot Tangy Cheese Sharing Torti...\n",
      "87      0  non-product                   Walkers Roast Chicken Crisps 45g\n",
      "88      0  non-product                                Meal Deal for £3.50\n",
      "89      0  non-product   Popchips Sour Cream & Onion Multipack Crisps 5pk\n",
      "90      0  non-product  Tyrrells Lentil Sharing Crisps Sour Cream & On...\n",
      "91      0  non-product  Tyrrells Sea Salt & Black Pepper Sharing Crisp...\n",
      "92      0  non-product                                                  1\n",
      "93      0  non-product                                                  2\n",
      "94      0  non-product                                                  3\n",
      "95      0  non-product                                                  4\n",
      "96      0  non-product                                                  5\n",
      "97      0  non-product                                                  6\n",
      "98      0  non-product            Baileys Original Irish Cream Liqueur 1L\n",
      "99      0  non-product                       Pringles Cheese & Onion 200g\n",
      "100     0  non-product                                      Accessibility\n",
      "101     0  non-product                                      Cookie policy\n",
      "102     0  non-product                                     Privacy policy\n",
      "103     0  non-product                                     Manage Cookies\n",
      "104     0  non-product                                         Contact us\n",
      "105     0  non-product                                        Help centre\n",
      "106     0  non-product                                 Terms & Conditions\n",
      "107     0  non-product                                      Cookie Policy\n",
      "108     0  non-product                                   Cookies Details‎\n",
      "109     0  non-product                                   Cookies Details‎\n",
      "110     0  non-product                                   Cookies Details‎\n",
      "111     0  non-product                                   Cookies Details‎\n",
      "112     0  non-product                                    Back ButtonBack\n",
      "113     0  non-product                                        Filter Icon\n",
      "114     0  non-product                                      Clear Filters\n",
      "115     0  non-product                                View Privacy Notice\n",
      "116     0  non-product                                    Require Opt-Out\n",
      "117     0  non-product                                      Cookie Policy\n"
     ]
    },
    {
     "name": "stdout",
     "output_type": "stream",
     "text": [
      "Test Accuracy:  0.492\n",
      "Test F1 score:  0.659\n"
     ]
    }
   ],
   "source": [
    "'''evaluate on other category'''\n",
    "with open('data/html','rb') as html:\n",
    "    html_contents2 = pickle.load(html)\n",
    "import re\n",
    "html_contents_out = []\n",
    "for content in html_contents2:\n",
    "    if re.fullmatch('\\([0-9]+\\)', content) == None:\n",
    "        html_contents_out.append(content)\n",
    "        #print(content)\n",
    "with open(\"data/truth2\", \"rb\") as fp: # Unpickling\n",
    "    truth2 = pickle.load(fp)\n",
    "df2 = pd.DataFrame(columns=('label','label_note', 'text'))\n",
    "for content in html_contents_out:\n",
    "    entry = pd.DataFrame.from_dict({\"label\": [get_label(content, truth)],\"label_note\": [get_label_note(content, truth)],\"text\":  [content]})\n",
    "\n",
    "    df2 = pd.concat([df2, entry], ignore_index=True)\n",
    "print(df2)\n",
    "\n",
    "z\n",
    "df2.to_pickle('product_test_dataset.pkl')"
   ]
  },
  {
   "cell_type": "code",
   "execution_count": 30,
   "id": "34b1d7ed",
   "metadata": {},
   "outputs": [
    {
     "name": "stdout",
     "output_type": "stream",
     "text": [
      "TranslatedText: Happy potato chips\n",
      "SourceLanguageCode: zh\n",
      "TargetLanguageCode: en\n"
     ]
    }
   ],
   "source": [
    "'''translation'''\n",
    "import boto3\n",
    "\n",
    "translate = boto3.client(service_name='translate', region_name='eu-west-2', use_ssl=True)\n",
    "\n",
    "result = translate.translate_text(Text=\"乐事薯片\", \n",
    "            SourceLanguageCode=\"zh\", TargetLanguageCode=\"en\")\n",
    "print('TranslatedText: ' + result.get('TranslatedText'))\n",
    "print('SourceLanguageCode: ' + result.get('SourceLanguageCode'))\n",
    "print('TargetLanguageCode: ' + result.get('TargetLanguageCode'))"
   ]
  },
  {
   "cell_type": "code",
   "execution_count": 31,
   "id": "e0b88dca",
   "metadata": {},
   "outputs": [],
   "source": [
    "def translate(text):\n",
    "    result = \"\"\n",
    "    if len(text)>0:\n",
    "        translate = boto3.client(service_name='translate', region_name='eu-west-2', use_ssl=True)\n",
    "        result = translate.translate_text(Text=text, \n",
    "                SourceLanguageCode=\"zh\", TargetLanguageCode=\"en\")\n",
    "        return result.get('TranslatedText')\n",
    "    return result"
   ]
  },
  {
   "cell_type": "code",
   "execution_count": 33,
   "id": "832c3589",
   "metadata": {},
   "outputs": [
    {
     "name": "stdout",
     "output_type": "stream",
     "text": [
      "    label   label_note                                               text\n",
      "0       1      product  [Lone Cool Cucumber Flavor] Single Dog Food Po...\n",
      "1       1      product  [Italian Tomato Flavor] Single Dog Food Potato...\n",
      "2       1      product  [Buy one get one free] Happy Potato Chips Work...\n",
      "3       1      product     Top Good Potato Chips - Rich Cheese Flavor 60g\n",
      "4       1      product  [Buy one get one free] Happy Potato Chips Work...\n",
      "5       0  non-product                              Potato Chips Workshop\n",
      "6       0  non-product                             Potato chips are happy\n",
      "7       0  non-product                                      potato chips,\n",
      "8       0  non-product                        Potato chips, tomato flavor\n",
      "9       0  non-product                                 Potato chips green\n",
      "10      0  non-product                                                   \n",
      "11      0  non-product                              Show all 44 results →\n",
      "12      0  non-product                                    Skip to Content\n",
      "13      0  non-product                                       02380 650606\n",
      "14      0  non-product                            Online customer service\n",
      "15      0  non-product                                         Sina Weibo\n",
      "16      0  non-product                                     Public account\n",
      "17      0  non-product                                 Mobile phone store\n",
      "18      0  non-product                                             applet\n",
      "19      0  non-product                                                EUR\n",
      "20      0  non-product                                        User center\n",
      "21      0  non-product                                              logon\n",
      "22      0  non-product                                      My collection\n",
      "23      0  non-product                                              helps\n",
      "24      0  non-product                                                 CN\n",
      "25      0  non-product                                                 EN\n",
      "26      0  non-product                                                   \n",
      "27      0  non-product                                    Shopping cart 0\n",
      "28      0  non-product                                Postage concessions\n",
      "29      0  non-product                                           milk tea\n",
      "30      0  non-product                                           reagents\n",
      "31      0  non-product                                        ham sausage\n",
      "32      0  non-product                                        Konjac cool\n",
      "33      0  non-product                                        Lee Kum Kee\n",
      "34      0  non-product                                     Bubble noodles\n",
      "35      0  non-product                                               Yomi\n",
      "36      0  non-product                                  Good product shop\n",
      "37      0  non-product                                     Zhang Xiaoquan\n",
      "38      0  non-product                                  Full box specials\n",
      "39      0  non-product                                             fondue\n",
      "40      0  non-product                                           Xianfeng\n",
      "41      0  non-product                                       Snail powder\n",
      "42      0  non-product                                           Haidilao\n",
      "43      0  non-product                                          Lao Ganma\n",
      "44      0  non-product                                             Zongzi\n",
      "45      0  non-product                                               rice\n",
      "46      0  non-product                                       Genki Forest\n",
      "47      0  non-product                                         Ramen says\n",
      "48      0  non-product                               Buy one get one free\n",
      "49      0  non-product                                               Menu\n",
      "50      0  non-product                                                  >\n",
      "51      0  non-product                                    Youxi home page\n",
      "52      0  non-product                                                  >\n",
      "53      0  non-product                                         gastronomy\n",
      "54      0  non-product                                      Drink brewing\n",
      "55      0  non-product                                      Brew milk tea\n",
      "56      0  non-product                                       coffee drink\n",
      "57      0  non-product                                         Tea drinks\n",
      "58      0  non-product                                   Low sugar drinks\n",
      "59      0  non-product                                  Carbonated drinks\n",
      "60      0  non-product                                      Fruity drinks\n",
      "61      0  non-product                                             Snacks\n",
      "62      0  non-product                                        puffed food\n",
      "63      0  non-product                                  Nuts, melon seeds\n",
      "64      0  non-product                  Dried Tofu/Spicy Strip/Vegetarian\n",
      "65      0  non-product                                  Low-calorie foods\n",
      "66      0  non-product                             Dried meat, dried meat\n",
      "67      0  non-product                                Easy and quick food\n",
      "68      0  non-product                          Seasoned simmered noodles\n",
      "69      0  non-product                                       Snail powder\n",
      "70      0  non-product                                       Fan-friendly\n",
      "71      0  non-product                                     Face/wide face\n",
      "72      0  non-product                              Instant porridge/rice\n",
      "73      0  non-product                                Self-heating series\n",
      "74      0  non-product                                      biscuit bread\n",
      "75      0  non-product                                      cookie cookie\n",
      "76      0  non-product                                       bread pastry\n",
      "77      0  non-product                            Confectionery preserves\n",
      "78      0  non-product                                             sweets\n",
      "79      0  non-product                                         confection\n",
      "80      0  non-product                               Instant noodles zone\n",
      "81      0  non-product                                     bagged noodles\n",
      "82      0  non-product                         Cup noodles/bucket noodles\n",
      "83      0  non-product                                         Dried rice\n",
      "84      0  non-product                                       whole grains\n",
      "85      0  non-product                                        Rice series\n",
      "86      0  non-product                              North-South dry goods\n",
      "87      0  non-product                                       Flour/Starch\n",
      "88      0  non-product                                    Fans of noodles\n",
      "89      0  non-product                                    Fans of noodles\n",
      "90      0  non-product                                   Pickles for rice\n",
      "91      0  non-product                                  Kitchen seasoning\n",
      "92      0  non-product                                Soup base seasoning\n",
      "93      0  non-product                             Oil salt sauce vinegar\n",
      "94      0  non-product                              Halogen dipping sauce\n",
      "95      0  non-product                        Salt/Sugar/Seasoning Powder\n",
      "96      0  non-product                     Cooking Wine/Sesame Oil/Spices\n",
      "97      0  non-product                                      Sauce/packing\n",
      "98      0  non-product                                       Hot pot base\n",
      "99      0  non-product                                Fresh and delicious\n",
      "100     0  non-product                        Fresh vegetables and fruits\n",
      "101     0  non-product                                  Handmade pastries\n",
      "102     0  non-product                             Fresh lo-flavored food\n",
      "103     0  non-product                                      Freezing zone\n",
      "104     0  non-product                             Foam box shipping zone\n",
      "105     0  non-product                        Insulated bag delivery area\n",
      "106     0  non-product                                                  >\n",
      "107     0  non-product                                             living\n",
      "108     0  non-product                                    Healthcare area\n",
      "109     0  non-product                                   Medical supplies\n",
      "110     0  non-product                                        Health care\n",
      "111     0  non-product                                               mask\n",
      "112     0  non-product                                     Hand sanitizer\n",
      "113     0  non-product                                  Other protections\n",
      "114     0  non-product                         Household cleaning storage\n",
      "115     0  non-product                                            bedding\n",
      "116     0  non-product                                 household cleaning\n",
      "117     0  non-product                                   kitchen utensils\n",
      "118     0  non-product                                   Storage products\n",
      "119     0  non-product                                  Daily necessities\n",
      "120     0  non-product                           greeting card decoration\n",
      "121     0  non-product                                   hair accessories\n",
      "122     0  non-product                  Home appliances digital cool play\n",
      "123     0  non-product                               household appliances\n",
      "124     0  non-product                                   Digital products\n",
      "125     0  non-product                                        e-cigarette\n",
      "126     0  non-product                                    Boardgame gifts\n",
      "127     0  non-product                                                   \n",
      "128     0  non-product                                                  >\n",
      "129     0  non-product                                             beauty\n",
      "130     0  non-product                                 Exquisite skincare\n",
      "131     0  non-product                                          Mask Dafa\n",
      "132     0  non-product                            Cleanser/makeup remover\n",
      "133     0  non-product                Face cream essence/eye and lip care\n",
      "134     0  non-product                           Makeup and personal care\n",
      "135     0  non-product                                    Delicate makeup\n",
      "136     0  non-product                                      Personal care\n",
      "137     0  non-product                                       beauty tools\n",
      "138     0  non-product                                                  >\n",
      "139     0  non-product                                     Frozen chilled\n",
      "140     0  non-product                                                  >\n",
      "141     0  non-product                           Japanese and Korean food\n",
      "142     0  non-product                                                  >\n",
      "143     0  non-product                                           Hot sale\n",
      "144     0  non-product                                                  >\n",
      "145     0  non-product                          Low sugar and low calorie\n",
      "146     0  non-product                                                  >\n",
      "147     0  non-product                                  Temporary special\n",
      "148     0  non-product                                                  >\n",
      "149     0  non-product                                          Brand new\n",
      "150     0  non-product                                                  >\n",
      "151     0  non-product                                         Flash sale\n",
      "152     0  non-product                                                  >\n",
      "153     0  non-product                                  Found a good item\n",
      "154     0  non-product                                                  >\n",
      "155     0  non-product                                          notifying\n",
      "156     0  non-product                                              wares\n",
      "157     0  non-product                                            EN (38)\n",
      "158     0  non-product                                          List mode\n",
      "159     0  non-product                                         descending\n",
      "160     0  non-product                                                   \n",
      "161     1      product                      GO-TAN Thai Tapioca Chips 70g\n",
      "162     0  non-product                                         LEARN MORE\n",
      "163     0  non-product                                                   \n",
      "164     1      product              Nongshim Extra Crispy Fish Fillet 55g\n",
      "165     0  non-product                                         LEARN MORE\n",
      "166     0  non-product                                                   \n",
      "167     1      product  Natural Sweet Potato Chips Dried Sweet Potato ...\n",
      "168     0  non-product                                         LEARN MORE\n",
      "169     0  non-product                                                   \n",
      "170     1      product  Shanghaojia Pastoral Potato Chips Tomato Flavo...\n",
      "171     0  non-product                                         LEARN MORE\n",
      "172     0  non-product                                                   \n",
      "173     1      product  Happy Seaweed Flavored Natural Flavored Potato...\n",
      "174     0  non-product                                         LEARN MORE\n",
      "175     0  non-product                                                   \n",
      "176     1      product  Shanghaojia Pastoral Potato Chips Lime Sea Sal...\n",
      "177     0  non-product                                         LEARN MORE\n",
      "178     0  non-product                                                   \n",
      "179     1      product  Shanghaojia Fresh Salted Egg Yolk Flavored Pot...\n",
      "180     0  non-product                                         LEARN MORE\n",
      "181     0  non-product                                                   \n",
      "182     1      product  Shanghaojia Wavy Pastoral Potato Chips Hot Fla...\n",
      "183     0  non-product                                         LEARN MORE\n",
      "184     0  non-product                                                   \n",
      "185     1      product  Happy Big Wave Potato Chips Iron Plate Squid F...\n",
      "186     0  non-product                                         LEARN MORE\n",
      "187     0  non-product                                                   \n",
      "188     1      product     Top Good Potato Chips - Rich Cheese Flavor 60g\n",
      "189     0  non-product                                         LEARN MORE\n",
      "190     0  non-product                                                   \n",
      "191     1      product  [Lone Cool Cucumber Flavor] Single Dog Food Po...\n",
      "192     0  non-product                                         LEARN MORE\n",
      "193     0  non-product                                                   \n",
      "194     1      product  [Italian Tomato Flavor] Single Dog Food Potato...\n",
      "195     0  non-product                                         LEARN MORE\n",
      "196     0  non-product                                                   \n",
      "197     1      product       NO BRAND Gold Brand Purple Potato Chips 110g\n",
      "198     0  non-product                                         LEARN MORE\n",
      "199     0  non-product                                                   \n",
      "200     1      product               Oh, Liyou! Potato ketchup flavor 70g\n",
      "201     0  non-product                                         LEARN MORE\n",
      "202     0  non-product                                                   \n",
      "203     1      product        Happy Strong Beer Flavored Potato Chips 70g\n",
      "204     0  non-product                                         LEARN MORE\n",
      "205     0  non-product                                                   \n",
      "206     1      product  Happy Grilled Oyster Potato Chips with Garlic 70g\n",
      "207     0  non-product                                         LEARN MORE\n",
      "208     0  non-product                                                   \n",
      "209     1      product                      Le Shi cumin kebab flavor 70g\n",
      "210     0  non-product                                         LEARN MORE\n",
      "211     0  non-product                                                   \n",
      "212     1      product  Korea Kale B Haitai Honey Butter Potato Chips 60g\n",
      "213     0  non-product                                         LEARN MORE\n",
      "214     0  non-product                                                   \n",
      "215     1      product  Happy Golden Fried Crab Flavored Potato Chips 70g\n",
      "216     0  non-product                                         LEARN MORE\n",
      "217     0  non-product                                                   \n",
      "218     1      product  Le Shi Crispy Grilled Fish Flavored Potato Chi...\n",
      "219     0  non-product                                         LEARN MORE\n",
      "220     0  non-product                                                   \n",
      "221     1      product  Happy Rattan Pepper Bowl Chicken Flavored Pota...\n",
      "222     0  non-product                                         LEARN MORE\n",
      "223     0  non-product                                                   \n",
      "224     1      product  Le Shi Mellow Sea Salt Black Pepper Flavored O...\n",
      "225     0  non-product                                         LEARN MORE\n",
      "226     0  non-product                                                   \n",
      "227     1      product  Happy Refreshing Lime Flavored Original Cut Ta...\n",
      "228     0  non-product                                         LEARN MORE\n",
      "229     0  non-product                                                   \n",
      "230     1      product  Happy Big Wave Potato Chips Crispy Roasted Chi...\n",
      "231     0  non-product                                         LEARN MORE\n",
      "232     0  non-product                                                   \n",
      "233     1      product     Happy Spicy Crayfish Flavored Potato Chips 70g\n",
      "234     0  non-product                                         LEARN MORE\n",
      "235     0  non-product                                                   \n",
      "236     1      product          Le Shi Piaoxiang Spicy Hot Pot Flavor 70g\n",
      "237     0  non-product                                         LEARN MORE\n",
      "238     0  non-product                                                   \n",
      "239     1      product                             Rakshi Lime Flavor 70g\n",
      "240     0  non-product                                         LEARN MORE\n",
      "241     0  non-product                                                   \n",
      "242     1      product                Happy American Classic Original 70g\n",
      "243     0  non-product                                         LEARN MORE\n",
      "244     0  non-product                                                   \n",
      "245     1      product           Happy Cucumber Flavored Potato Chips 70g\n",
      "246     0  non-product                                         LEARN MORE\n",
      "247     0  non-product                                                   \n",
      "248     1      product  Goryeo Friendly and Friendly Korean Kimchi Fla...\n",
      "249     0  non-product                                         LEARN MORE\n",
      "250     0  non-product                                                   \n",
      "251     1      product  Oh, Liyou! Grilled Chicken Flavor with Potatoe...\n",
      "252     0  non-product                                         LEARN MORE\n",
      "253     0  non-product                                                   \n",
      "254     1      product    Goryeo Friendly Fun Caribbean Roasted Wings 83g\n",
      "255     0  non-product                                         LEARN MORE\n",
      "256     0  non-product                                                   \n",
      "257     1      product  Goryeo Friendly and Fun Juicy Steak Flavored P...\n",
      "258     0  non-product                                         LEARN MORE\n",
      "259     0  non-product                                                   \n",
      "260     1      product  [Buy one get one free] Kale B Haitai Butter Ch...\n",
      "261     0  non-product                                         LEARN MORE\n",
      "262     0  non-product                                                   \n",
      "263     1      product  [Buy one get one free] Happy Potato Chips Work...\n",
      "264     0  non-product                                         LEARN MORE\n",
      "265     0  non-product                                                   \n",
      "266     1      product  [Buy one get one free] Happy Potato Chips Work...\n",
      "267     0  non-product                                         LEARN MORE\n",
      "268     0  non-product                                                   \n",
      "269     1      product      Happy Tootu Potato Chips Original Flavor 104g\n",
      "270     0  non-product                                         LEARN MORE\n",
      "271     0  non-product                                                   \n",
      "272     1      product                 IRVINS Salted Egg Crispy Roll 120g\n",
      "273     0  non-product                                         LEARN MORE\n",
      "274     0  non-product                                          List mode\n",
      "275     0  non-product                                         descending\n",
      "276     0  non-product  YOOBOX Ltd, Unit C5 Deacon Trading Estate, Eas...\n",
      "277     0  non-product            02380 650606 (UK weekday: 8:30 - 17:00)\n",
      "278     0  non-product  ukcnshop002/ukcnshop003 (UK weekday: 02:30-14:...\n",
      "279     0  non-product                        911065743 Konishi in the UK\n",
      "280     0  non-product                     ukcnshop UK online supermarket\n",
      "281     0  non-product                               service@ukcnshop.com\n",
      "282     0  non-product                               Company introduction\n",
      "283     0  non-product                                       Service team\n",
      "284     0  non-product                         It's polite to post a list\n",
      "285     0  non-product                                   Shopping process\n",
      "286     0  non-product                                      Return policy\n",
      "287     0  non-product                                            Join us\n",
      "288     0  non-product                                               FAQs\n",
      "289     0  non-product                                 Logistics tracking\n",
      "290     0  non-product                                   Payment security\n",
      "291     0  non-product                                    Online payments\n",
      "292     0  non-product                                 Offline remittance\n",
      "293     0  non-product                                   Delivery service\n",
      "294     0  non-product                                                   \n",
      "295     0  non-product                                                   \n",
      "296     0  non-product                                                   \n",
      "297     0  non-product                                                   \n",
      "298     0  non-product                                                   \n",
      "299     0  non-product                                                   \n",
      "300     0  non-product                                                   \n",
      "301     0  non-product                                       UKCNSHOP.COM\n",
      "302     0  non-product                                         Flash Sale\n",
      "303     0  non-product                                          Brand New\n",
      "304     0  non-product                                        Hot selling\n",
      "305     0  non-product                                      beauty beauty\n",
      "306     0  non-product                                        Fresh Fresh\n",
      "307     0  non-product                                     Chilled Frozen\n",
      "308     0  non-product                        Epidemic Prevention Medical\n",
      "309     0  non-product                                            topping\n",
      "310     0  non-product                                      shopping cart\n",
      "311     0  non-product                              Collection Collection\n",
      "312     0  non-product                                            Message\n",
      "313     0  non-product                                                   \n",
      "314     0  non-product                                                   \n",
      "315     0  non-product                                             regard\n",
      "316     0  non-product                                            topping\n",
      "317     0  non-product                                            Chinese\n",
      "318     0  non-product                                            English\n",
      "319     0  non-product                                                   \n",
      "320     0  non-product                                  Create an account\n",
      "321     0  non-product                                                   \n",
      "322     0  non-product                              Forgot your password?\n"
     ]
    },
    {
     "name": "stdout",
     "output_type": "stream",
     "text": [
      "Test Accuracy:  0.988\n",
      "Test F1 score:  0.993\n"
     ]
    }
   ],
   "source": [
    "'''evaluate on ukcnshop'''\n",
    "import re\n",
    "\n",
    "with open('data/ukcnshop_html','rb') as html:\n",
    "    html_contents2 = pickle.load(html)\n",
    "\n",
    "\n",
    "html_contents_out = []\n",
    "for content in html_contents2:\n",
    "    if re.fullmatch('\\([0-9]+\\)', content) == None:\n",
    "        html_contents_out.append(content)\n",
    "        #print(content)\n",
    "\n",
    "with open('data/ukcnshop_crisps','rb') as product:\n",
    "    product_list = pickle.load(product)\n",
    "\n",
    "df2 = pd.DataFrame(columns=('label','label_note', 'text'))\n",
    "for content in html_contents_out:\n",
    "    #entry = pd.DataFrame.from_dict({\"category\": [get_label(content, product_list)],\"text\": [translate(content)]})\n",
    "    entry = pd.DataFrame.from_dict({\"label\": [get_label(content,   product_list)],\"label_note\": [get_label_note(content, product_list)],\"text\":  [translate(content)]})\n",
    "\n",
    "    df2 = pd.concat([df2, entry], ignore_index=True)\n",
    "print(df2)\n",
    "\n",
    "evaluate(model, df2)\n",
    "df2.to_pickle('product_test_dataset.pkl')"
   ]
  },
  {
   "cell_type": "code",
   "execution_count": 19,
   "id": "427d5def",
   "metadata": {},
   "outputs": [
    {
     "data": {
      "text/plain": [
       "'1.3.5'"
      ]
     },
     "execution_count": 19,
     "metadata": {},
     "output_type": "execute_result"
    }
   ],
   "source": [
    "pd.__version__"
   ]
  },
  {
   "cell_type": "code",
   "execution_count": 20,
   "id": "bb5eb9b7",
   "metadata": {},
   "outputs": [
    {
     "name": "stdout",
     "output_type": "stream",
     "text": [
      "    label   label_note                                               text\n",
      "0       1      product  [Lone Cool Cucumber Flavor] Single Dog Food Po...\n",
      "1       1      product  [Italian Tomato Flavor] Single Dog Food Potato...\n",
      "2       1      product  [Buy one get one free] Happy Potato Chips Work...\n",
      "3       1      product     Top Good Potato Chips - Rich Cheese Flavor 60g\n",
      "4       1      product  [Buy one get one free] Happy Potato Chips Work...\n",
      "5       0  non-product                              Potato Chips Workshop\n",
      "6       0  non-product                             Potato chips are happy\n",
      "7       0  non-product                                      potato chips,\n",
      "8       0  non-product                        Potato chips, tomato flavor\n",
      "9       0  non-product                                 Potato chips green\n",
      "10      0  non-product                                                   \n",
      "11      0  non-product                              Show all 44 results →\n",
      "12      0  non-product                                    Skip to Content\n",
      "13      0  non-product                                       02380 650606\n",
      "14      0  non-product                            Online customer service\n",
      "15      0  non-product                                         Sina Weibo\n",
      "16      0  non-product                                     Public account\n",
      "17      0  non-product                                 Mobile phone store\n",
      "18      0  non-product                                             applet\n",
      "19      0  non-product                                                EUR\n",
      "20      0  non-product                                        User center\n",
      "21      0  non-product                                              logon\n",
      "22      0  non-product                                      My collection\n",
      "23      0  non-product                                              helps\n",
      "24      0  non-product                                                 CN\n",
      "25      0  non-product                                                 EN\n",
      "26      0  non-product                                                   \n",
      "27      0  non-product                                    Shopping cart 0\n",
      "28      0  non-product                                Postage concessions\n",
      "29      0  non-product                                           milk tea\n",
      "30      0  non-product                                           reagents\n",
      "31      0  non-product                                        ham sausage\n",
      "32      0  non-product                                        Konjac cool\n",
      "33      0  non-product                                        Lee Kum Kee\n",
      "34      0  non-product                                     Bubble noodles\n",
      "35      0  non-product                                               Yomi\n",
      "36      0  non-product                                  Good product shop\n",
      "37      0  non-product                                     Zhang Xiaoquan\n",
      "38      0  non-product                                  Full box specials\n",
      "39      0  non-product                                             fondue\n",
      "40      0  non-product                                           Xianfeng\n",
      "41      0  non-product                                       Snail powder\n",
      "42      0  non-product                                           Haidilao\n",
      "43      0  non-product                                          Lao Ganma\n",
      "44      0  non-product                                             Zongzi\n",
      "45      0  non-product                                               rice\n",
      "46      0  non-product                                       Genki Forest\n",
      "47      0  non-product                                         Ramen says\n",
      "48      0  non-product                               Buy one get one free\n",
      "49      0  non-product                                               Menu\n",
      "50      0  non-product                                                  >\n",
      "51      0  non-product                                    Youxi home page\n",
      "52      0  non-product                                                  >\n",
      "53      0  non-product                                         gastronomy\n",
      "54      0  non-product                                      Drink brewing\n",
      "55      0  non-product                                      Brew milk tea\n",
      "56      0  non-product                                       coffee drink\n",
      "57      0  non-product                                         Tea drinks\n",
      "58      0  non-product                                   Low sugar drinks\n",
      "59      0  non-product                                  Carbonated drinks\n",
      "60      0  non-product                                      Fruity drinks\n",
      "61      0  non-product                                             Snacks\n",
      "62      0  non-product                                        puffed food\n",
      "63      0  non-product                                  Nuts, melon seeds\n",
      "64      0  non-product                  Dried Tofu/Spicy Strip/Vegetarian\n",
      "65      0  non-product                                  Low-calorie foods\n",
      "66      0  non-product                             Dried meat, dried meat\n",
      "67      0  non-product                                Easy and quick food\n",
      "68      0  non-product                          Seasoned simmered noodles\n",
      "69      0  non-product                                       Snail powder\n",
      "70      0  non-product                                       Fan-friendly\n",
      "71      0  non-product                                     Face/wide face\n",
      "72      0  non-product                              Instant porridge/rice\n",
      "73      0  non-product                                Self-heating series\n",
      "74      0  non-product                                      biscuit bread\n",
      "75      0  non-product                                      cookie cookie\n",
      "76      0  non-product                                       bread pastry\n",
      "77      0  non-product                            Confectionery preserves\n",
      "78      0  non-product                                             sweets\n",
      "79      0  non-product                                         confection\n",
      "80      0  non-product                               Instant noodles zone\n",
      "81      0  non-product                                     bagged noodles\n",
      "82      0  non-product                         Cup noodles/bucket noodles\n",
      "83      0  non-product                                         Dried rice\n",
      "84      0  non-product                                       whole grains\n",
      "85      0  non-product                                        Rice series\n",
      "86      0  non-product                              North-South dry goods\n",
      "87      0  non-product                                       Flour/Starch\n",
      "88      0  non-product                                    Fans of noodles\n",
      "89      0  non-product                                    Fans of noodles\n",
      "90      0  non-product                                   Pickles for rice\n",
      "91      0  non-product                                  Kitchen seasoning\n",
      "92      0  non-product                                Soup base seasoning\n",
      "93      0  non-product                             Oil salt sauce vinegar\n",
      "94      0  non-product                              Halogen dipping sauce\n",
      "95      0  non-product                        Salt/Sugar/Seasoning Powder\n",
      "96      0  non-product                     Cooking Wine/Sesame Oil/Spices\n",
      "97      0  non-product                                      Sauce/packing\n",
      "98      0  non-product                                       Hot pot base\n",
      "99      0  non-product                                Fresh and delicious\n",
      "100     0  non-product                        Fresh vegetables and fruits\n",
      "101     0  non-product                                  Handmade pastries\n",
      "102     0  non-product                             Fresh lo-flavored food\n",
      "103     0  non-product                                      Freezing zone\n",
      "104     0  non-product                             Foam box shipping zone\n",
      "105     0  non-product                        Insulated bag delivery area\n",
      "106     0  non-product                                                  >\n",
      "107     0  non-product                                             living\n",
      "108     0  non-product                                    Healthcare area\n",
      "109     0  non-product                                   Medical supplies\n",
      "110     0  non-product                                        Health care\n",
      "111     0  non-product                                               mask\n",
      "112     0  non-product                                     Hand sanitizer\n",
      "113     0  non-product                                  Other protections\n",
      "114     0  non-product                         Household cleaning storage\n",
      "115     0  non-product                                            bedding\n",
      "116     0  non-product                                 household cleaning\n",
      "117     0  non-product                                   kitchen utensils\n",
      "118     0  non-product                                   Storage products\n",
      "119     0  non-product                                  Daily necessities\n",
      "120     0  non-product                           greeting card decoration\n",
      "121     0  non-product                                   hair accessories\n",
      "122     0  non-product                  Home appliances digital cool play\n",
      "123     0  non-product                               household appliances\n",
      "124     0  non-product                                   Digital products\n",
      "125     0  non-product                                        e-cigarette\n",
      "126     0  non-product                                    Boardgame gifts\n",
      "127     0  non-product                                                   \n",
      "128     0  non-product                                                  >\n",
      "129     0  non-product                                             beauty\n",
      "130     0  non-product                                 Exquisite skincare\n",
      "131     0  non-product                                          Mask Dafa\n",
      "132     0  non-product                            Cleanser/makeup remover\n",
      "133     0  non-product                Face cream essence/eye and lip care\n",
      "134     0  non-product                           Makeup and personal care\n",
      "135     0  non-product                                    Delicate makeup\n",
      "136     0  non-product                                      Personal care\n",
      "137     0  non-product                                       beauty tools\n",
      "138     0  non-product                                                  >\n",
      "139     0  non-product                                     Frozen chilled\n",
      "140     0  non-product                                                  >\n",
      "141     0  non-product                           Japanese and Korean food\n",
      "142     0  non-product                                                  >\n",
      "143     0  non-product                                           Hot sale\n",
      "144     0  non-product                                                  >\n",
      "145     0  non-product                          Low sugar and low calorie\n",
      "146     0  non-product                                                  >\n",
      "147     0  non-product                                  Temporary special\n",
      "148     0  non-product                                                  >\n",
      "149     0  non-product                                          Brand new\n",
      "150     0  non-product                                                  >\n",
      "151     0  non-product                                         Flash sale\n",
      "152     0  non-product                                                  >\n",
      "153     0  non-product                                  Found a good item\n",
      "154     0  non-product                                                  >\n",
      "155     0  non-product                                          notifying\n",
      "156     0  non-product                                              wares\n",
      "157     0  non-product                                            EN (38)\n",
      "158     0  non-product                                          List mode\n",
      "159     0  non-product                                         descending\n",
      "160     0  non-product                                                   \n",
      "161     1      product                      GO-TAN Thai Tapioca Chips 70g\n",
      "162     0  non-product                                         LEARN MORE\n",
      "163     0  non-product                                                   \n",
      "164     1      product              Nongshim Extra Crispy Fish Fillet 55g\n",
      "165     0  non-product                                         LEARN MORE\n",
      "166     0  non-product                                                   \n",
      "167     1      product  Natural Sweet Potato Chips Dried Sweet Potato ...\n",
      "168     0  non-product                                         LEARN MORE\n",
      "169     0  non-product                                                   \n",
      "170     1      product  Shanghaojia Pastoral Potato Chips Tomato Flavo...\n",
      "171     0  non-product                                         LEARN MORE\n",
      "172     0  non-product                                                   \n",
      "173     1      product  Happy Seaweed Flavored Natural Flavored Potato...\n",
      "174     0  non-product                                         LEARN MORE\n",
      "175     0  non-product                                                   \n",
      "176     1      product  Shanghaojia Pastoral Potato Chips Lime Sea Sal...\n",
      "177     0  non-product                                         LEARN MORE\n",
      "178     0  non-product                                                   \n",
      "179     1      product  Shanghaojia Fresh Salted Egg Yolk Flavored Pot...\n",
      "180     0  non-product                                         LEARN MORE\n",
      "181     0  non-product                                                   \n",
      "182     1      product  Shanghaojia Wavy Pastoral Potato Chips Hot Fla...\n",
      "183     0  non-product                                         LEARN MORE\n",
      "184     0  non-product                                                   \n",
      "185     1      product  Happy Big Wave Potato Chips Iron Plate Squid F...\n",
      "186     0  non-product                                         LEARN MORE\n",
      "187     0  non-product                                                   \n",
      "188     1      product     Top Good Potato Chips - Rich Cheese Flavor 60g\n",
      "189     0  non-product                                         LEARN MORE\n",
      "190     0  non-product                                                   \n",
      "191     1      product  [Lone Cool Cucumber Flavor] Single Dog Food Po...\n",
      "192     0  non-product                                         LEARN MORE\n",
      "193     0  non-product                                                   \n",
      "194     1      product  [Italian Tomato Flavor] Single Dog Food Potato...\n",
      "195     0  non-product                                         LEARN MORE\n",
      "196     0  non-product                                                   \n",
      "197     1      product       NO BRAND Gold Brand Purple Potato Chips 110g\n",
      "198     0  non-product                                         LEARN MORE\n",
      "199     0  non-product                                                   \n",
      "200     1      product               Oh, Liyou! Potato ketchup flavor 70g\n",
      "201     0  non-product                                         LEARN MORE\n",
      "202     0  non-product                                                   \n",
      "203     1      product        Happy Strong Beer Flavored Potato Chips 70g\n",
      "204     0  non-product                                         LEARN MORE\n",
      "205     0  non-product                                                   \n",
      "206     1      product  Happy Grilled Oyster Potato Chips with Garlic 70g\n",
      "207     0  non-product                                         LEARN MORE\n",
      "208     0  non-product                                                   \n",
      "209     1      product                      Le Shi cumin kebab flavor 70g\n",
      "210     0  non-product                                         LEARN MORE\n",
      "211     0  non-product                                                   \n",
      "212     1      product  Korea Kale B Haitai Honey Butter Potato Chips 60g\n",
      "213     0  non-product                                         LEARN MORE\n",
      "214     0  non-product                                                   \n",
      "215     1      product  Happy Golden Fried Crab Flavored Potato Chips 70g\n",
      "216     0  non-product                                         LEARN MORE\n",
      "217     0  non-product                                                   \n",
      "218     1      product  Le Shi Crispy Grilled Fish Flavored Potato Chi...\n",
      "219     0  non-product                                         LEARN MORE\n",
      "220     0  non-product                                                   \n",
      "221     1      product  Happy Rattan Pepper Bowl Chicken Flavored Pota...\n",
      "222     0  non-product                                         LEARN MORE\n",
      "223     0  non-product                                                   \n",
      "224     1      product  Le Shi Mellow Sea Salt Black Pepper Flavored O...\n",
      "225     0  non-product                                         LEARN MORE\n",
      "226     0  non-product                                                   \n",
      "227     1      product  Happy Refreshing Lime Flavored Original Cut Ta...\n",
      "228     0  non-product                                         LEARN MORE\n",
      "229     0  non-product                                                   \n",
      "230     1      product  Happy Big Wave Potato Chips Crispy Roasted Chi...\n",
      "231     0  non-product                                         LEARN MORE\n",
      "232     0  non-product                                                   \n",
      "233     1      product     Happy Spicy Crayfish Flavored Potato Chips 70g\n",
      "234     0  non-product                                         LEARN MORE\n",
      "235     0  non-product                                                   \n",
      "236     1      product          Le Shi Piaoxiang Spicy Hot Pot Flavor 70g\n",
      "237     0  non-product                                         LEARN MORE\n",
      "238     0  non-product                                                   \n",
      "239     1      product                             Rakshi Lime Flavor 70g\n",
      "240     0  non-product                                         LEARN MORE\n",
      "241     0  non-product                                                   \n",
      "242     1      product                Happy American Classic Original 70g\n",
      "243     0  non-product                                         LEARN MORE\n",
      "244     0  non-product                                                   \n",
      "245     1      product           Happy Cucumber Flavored Potato Chips 70g\n",
      "246     0  non-product                                         LEARN MORE\n",
      "247     0  non-product                                                   \n",
      "248     1      product  Goryeo Friendly and Friendly Korean Kimchi Fla...\n",
      "249     0  non-product                                         LEARN MORE\n",
      "250     0  non-product                                                   \n",
      "251     1      product  Oh, Liyou! Grilled Chicken Flavor with Potatoe...\n",
      "252     0  non-product                                         LEARN MORE\n",
      "253     0  non-product                                                   \n",
      "254     1      product    Goryeo Friendly Fun Caribbean Roasted Wings 83g\n",
      "255     0  non-product                                         LEARN MORE\n",
      "256     0  non-product                                                   \n",
      "257     1      product  Goryeo Friendly and Fun Juicy Steak Flavored P...\n",
      "258     0  non-product                                         LEARN MORE\n",
      "259     0  non-product                                                   \n",
      "260     1      product  [Buy one get one free] Kale B Haitai Butter Ch...\n",
      "261     0  non-product                                         LEARN MORE\n",
      "262     0  non-product                                                   \n",
      "263     1      product  [Buy one get one free] Happy Potato Chips Work...\n",
      "264     0  non-product                                         LEARN MORE\n",
      "265     0  non-product                                                   \n",
      "266     1      product  [Buy one get one free] Happy Potato Chips Work...\n",
      "267     0  non-product                                         LEARN MORE\n",
      "268     0  non-product                                                   \n",
      "269     1      product      Happy Tootu Potato Chips Original Flavor 104g\n",
      "270     0  non-product                                         LEARN MORE\n",
      "271     0  non-product                                                   \n",
      "272     1      product                 IRVINS Salted Egg Crispy Roll 120g\n",
      "273     0  non-product                                         LEARN MORE\n",
      "274     0  non-product                                          List mode\n",
      "275     0  non-product                                         descending\n",
      "276     0  non-product  YOOBOX Ltd, Unit C5 Deacon Trading Estate, Eas...\n",
      "277     0  non-product            02380 650606 (UK weekday: 8:30 - 17:00)\n",
      "278     0  non-product  ukcnshop002/ukcnshop003 (UK weekday: 02:30-14:...\n",
      "279     0  non-product                        911065743 Konishi in the UK\n",
      "280     0  non-product                     ukcnshop UK online supermarket\n",
      "281     0  non-product                               service@ukcnshop.com\n",
      "282     0  non-product                               Company introduction\n",
      "283     0  non-product                                       Service team\n",
      "284     0  non-product                         It's polite to post a list\n",
      "285     0  non-product                                   Shopping process\n",
      "286     0  non-product                                      Return policy\n",
      "287     0  non-product                                            Join us\n",
      "288     0  non-product                                               FAQs\n",
      "289     0  non-product                                 Logistics tracking\n",
      "290     0  non-product                                   Payment security\n",
      "291     0  non-product                                    Online payments\n",
      "292     0  non-product                                 Offline remittance\n",
      "293     0  non-product                                   Delivery service\n",
      "294     0  non-product                                                   \n",
      "295     0  non-product                                                   \n",
      "296     0  non-product                                                   \n",
      "297     0  non-product                                                   \n",
      "298     0  non-product                                                   \n",
      "299     0  non-product                                                   \n",
      "300     0  non-product                                                   \n",
      "301     0  non-product                                       UKCNSHOP.COM\n",
      "302     0  non-product                                         Flash Sale\n",
      "303     0  non-product                                          Brand New\n",
      "304     0  non-product                                        Hot selling\n",
      "305     0  non-product                                      beauty beauty\n",
      "306     0  non-product                                        Fresh Fresh\n",
      "307     0  non-product                                     Chilled Frozen\n",
      "308     0  non-product                        Epidemic Prevention Medical\n",
      "309     0  non-product                                            topping\n",
      "310     0  non-product                                      shopping cart\n",
      "311     0  non-product                              Collection Collection\n",
      "312     0  non-product                                            Message\n",
      "313     0  non-product                                                   \n",
      "314     0  non-product                                                   \n",
      "315     0  non-product                                             regard\n",
      "316     0  non-product                                            topping\n",
      "317     0  non-product                                            Chinese\n",
      "318     0  non-product                                            English\n",
      "319     0  non-product                                                   \n",
      "320     0  non-product                                  Create an account\n",
      "321     0  non-product                                                   \n",
      "322     0  non-product                              Forgot your password?\n"
     ]
    }
   ],
   "source": [
    "train_df = df\n",
    "test_df = df2\n",
    "print(test_df)"
   ]
  },
  {
   "cell_type": "code",
   "execution_count": 24,
   "id": "9471f39e",
   "metadata": {},
   "outputs": [],
   "source": [
    "    from csv import writer\n",
    "    EPOCHS = 5\n",
    "    LR = 1e-6\n",
    "    DROPOUT=0.5\n",
    "    acc=0\n",
    "    f1=0\n",
    "    \n",
    "    list_data = [EPOCHS,LR,DROPOUT,acc,f1]\n",
    "    with open('data/training.csv','a', newline='') as f_object:\n",
    "        writer_object = writer(f_object)\n",
    "        writer_object.writerow(list_data)\n",
    "        f_object.close()"
   ]
  },
  {
   "cell_type": "code",
   "execution_count": 26,
   "id": "9c032c43",
   "metadata": {},
   "outputs": [
    {
     "name": "stdout",
     "output_type": "stream",
     "text": [
      "148 19 19\n"
     ]
    },
    {
     "name": "stderr",
     "output_type": "stream",
     "text": [
      "Some weights of the model checkpoint at bert-base-cased were not used when initializing BertModel: ['cls.predictions.transform.dense.bias', 'cls.predictions.decoder.weight', 'cls.predictions.transform.dense.weight', 'cls.seq_relationship.weight', 'cls.predictions.bias', 'cls.seq_relationship.bias', 'cls.predictions.transform.LayerNorm.weight', 'cls.predictions.transform.LayerNorm.bias']\n",
      "- This IS expected if you are initializing BertModel from the checkpoint of a model trained on another task or with another architecture (e.g. initializing a BertForSequenceClassification model from a BertForPreTraining model).\n",
      "- This IS NOT expected if you are initializing BertModel from the checkpoint of a model that you expect to be exactly identical (initializing a BertForSequenceClassification model from a BertForSequenceClassification model).\n",
      "100%|███████████████████████████████████████████████████████████████████████████████████| 74/74 [02:43<00:00,  2.21s/it]\n"
     ]
    },
    {
     "name": "stdout",
     "output_type": "stream",
     "text": [
      "Epochs: 1 | Train Loss:  0.390                 | Train Accuracy:  0.378                 | Val Loss:  0.474                 | Val Accuracy:  0.158\n"
     ]
    },
    {
     "name": "stderr",
     "output_type": "stream",
     "text": [
      "100%|███████████████████████████████████████████████████████████████████████████████████| 74/74 [02:43<00:00,  2.21s/it]\n"
     ]
    },
    {
     "name": "stdout",
     "output_type": "stream",
     "text": [
      "Epochs: 2 | Train Loss:  0.380                 | Train Accuracy:  0.459                 | Val Loss:  0.458                 | Val Accuracy:  0.211\n"
     ]
    },
    {
     "name": "stderr",
     "output_type": "stream",
     "text": [
      "100%|███████████████████████████████████████████████████████████████████████████████████| 74/74 [02:45<00:00,  2.23s/it]\n"
     ]
    },
    {
     "name": "stdout",
     "output_type": "stream",
     "text": [
      "Epochs: 3 | Train Loss:  0.399                 | Train Accuracy:  0.372                 | Val Loss:  0.415                 | Val Accuracy:  0.368\n"
     ]
    },
    {
     "name": "stderr",
     "output_type": "stream",
     "text": [
      "100%|███████████████████████████████████████████████████████████████████████████████████| 74/74 [02:48<00:00,  2.27s/it]\n"
     ]
    },
    {
     "name": "stdout",
     "output_type": "stream",
     "text": [
      "Epochs: 4 | Train Loss:  0.390                 | Train Accuracy:  0.378                 | Val Loss:  0.436                 | Val Accuracy:  0.368\n"
     ]
    },
    {
     "name": "stderr",
     "output_type": "stream",
     "text": [
      "100%|███████████████████████████████████████████████████████████████████████████████████| 74/74 [02:47<00:00,  2.26s/it]\n"
     ]
    },
    {
     "name": "stdout",
     "output_type": "stream",
     "text": [
      "Epochs: 5 | Train Loss:  0.378                 | Train Accuracy:  0.365                 | Val Loss:  0.454                 | Val Accuracy:  0.263\n"
     ]
    },
    {
     "name": "stderr",
     "output_type": "stream",
     "text": [
      "100%|███████████████████████████████████████████████████████████████████████████████████| 74/74 [02:47<00:00,  2.26s/it]\n"
     ]
    },
    {
     "name": "stdout",
     "output_type": "stream",
     "text": [
      "Epochs: 6 | Train Loss:  0.384                 | Train Accuracy:  0.385                 | Val Loss:  0.448                 | Val Accuracy:  0.263\n"
     ]
    },
    {
     "name": "stderr",
     "output_type": "stream",
     "text": [
      "100%|███████████████████████████████████████████████████████████████████████████████████| 74/74 [02:47<00:00,  2.27s/it]\n"
     ]
    },
    {
     "name": "stdout",
     "output_type": "stream",
     "text": [
      "Epochs: 7 | Train Loss:  0.384                 | Train Accuracy:  0.392                 | Val Loss:  0.451                 | Val Accuracy:  0.263\n"
     ]
    },
    {
     "name": "stderr",
     "output_type": "stream",
     "text": [
      "100%|███████████████████████████████████████████████████████████████████████████████████| 74/74 [02:47<00:00,  2.26s/it]\n"
     ]
    },
    {
     "name": "stdout",
     "output_type": "stream",
     "text": [
      "Epochs: 8 | Train Loss:  0.393                 | Train Accuracy:  0.385                 | Val Loss:  0.462                 | Val Accuracy:  0.211\n"
     ]
    },
    {
     "name": "stderr",
     "output_type": "stream",
     "text": [
      "100%|███████████████████████████████████████████████████████████████████████████████████| 74/74 [02:48<00:00,  2.27s/it]\n"
     ]
    },
    {
     "name": "stdout",
     "output_type": "stream",
     "text": [
      "Epochs: 9 | Train Loss:  0.382                 | Train Accuracy:  0.365                 | Val Loss:  0.443                 | Val Accuracy:  0.211\n"
     ]
    },
    {
     "name": "stderr",
     "output_type": "stream",
     "text": [
      "100%|███████████████████████████████████████████████████████████████████████████████████| 74/74 [02:42<00:00,  2.19s/it]\n"
     ]
    },
    {
     "name": "stdout",
     "output_type": "stream",
     "text": [
      "Epochs: 10 | Train Loss:  0.372                 | Train Accuracy:  0.439                 | Val Loss:  0.473                 | Val Accuracy:  0.263\n",
      "Test Accuracy:  0.235\n",
      "Test F1 score:  0.240\n",
      "EPOCHS: 10 | LR:5e-09 | DROPOUT:0.30000000000000004\n"
     ]
    },
    {
     "name": "stderr",
     "output_type": "stream",
     "text": [
      "Some weights of the model checkpoint at bert-base-cased were not used when initializing BertModel: ['cls.predictions.transform.dense.bias', 'cls.predictions.decoder.weight', 'cls.predictions.transform.dense.weight', 'cls.seq_relationship.weight', 'cls.predictions.bias', 'cls.seq_relationship.bias', 'cls.predictions.transform.LayerNorm.weight', 'cls.predictions.transform.LayerNorm.bias']\n",
      "- This IS expected if you are initializing BertModel from the checkpoint of a model trained on another task or with another architecture (e.g. initializing a BertForSequenceClassification model from a BertForPreTraining model).\n",
      "- This IS NOT expected if you are initializing BertModel from the checkpoint of a model that you expect to be exactly identical (initializing a BertForSequenceClassification model from a BertForSequenceClassification model).\n",
      "100%|███████████████████████████████████████████████████████████████████████████████████| 74/74 [02:48<00:00,  2.27s/it]\n"
     ]
    },
    {
     "name": "stdout",
     "output_type": "stream",
     "text": [
      "Epochs: 1 | Train Loss:  0.420                 | Train Accuracy:  0.615                 | Val Loss:  0.365                 | Val Accuracy:  0.842\n"
     ]
    },
    {
     "name": "stderr",
     "output_type": "stream",
     "text": [
      "100%|███████████████████████████████████████████████████████████████████████████████████| 74/74 [02:50<00:00,  2.31s/it]\n"
     ]
    },
    {
     "name": "stdout",
     "output_type": "stream",
     "text": [
      "Epochs: 2 | Train Loss:  0.347                 | Train Accuracy:  0.628                 | Val Loss:  0.365                 | Val Accuracy:  0.842\n"
     ]
    },
    {
     "name": "stderr",
     "output_type": "stream",
     "text": [
      "100%|███████████████████████████████████████████████████████████████████████████████████| 74/74 [02:53<00:00,  2.35s/it]\n"
     ]
    },
    {
     "name": "stdout",
     "output_type": "stream",
     "text": [
      "Epochs: 3 | Train Loss:  0.347                 | Train Accuracy:  0.628                 | Val Loss:  0.365                 | Val Accuracy:  0.842\n"
     ]
    },
    {
     "name": "stderr",
     "output_type": "stream",
     "text": [
      "100%|███████████████████████████████████████████████████████████████████████████████████| 74/74 [02:52<00:00,  2.33s/it]\n"
     ]
    },
    {
     "name": "stdout",
     "output_type": "stream",
     "text": [
      "Epochs: 4 | Train Loss:  0.347                 | Train Accuracy:  0.628                 | Val Loss:  0.365                 | Val Accuracy:  0.842\n"
     ]
    },
    {
     "name": "stderr",
     "output_type": "stream",
     "text": [
      "100%|███████████████████████████████████████████████████████████████████████████████████| 74/74 [02:50<00:00,  2.30s/it]\n"
     ]
    },
    {
     "name": "stdout",
     "output_type": "stream",
     "text": [
      "Epochs: 5 | Train Loss:  0.347                 | Train Accuracy:  0.628                 | Val Loss:  0.365                 | Val Accuracy:  0.842\n"
     ]
    },
    {
     "name": "stderr",
     "output_type": "stream",
     "text": [
      "100%|███████████████████████████████████████████████████████████████████████████████████| 74/74 [02:49<00:00,  2.28s/it]\n"
     ]
    },
    {
     "name": "stdout",
     "output_type": "stream",
     "text": [
      "Epochs: 6 | Train Loss:  0.347                 | Train Accuracy:  0.628                 | Val Loss:  0.365                 | Val Accuracy:  0.842\n"
     ]
    },
    {
     "name": "stderr",
     "output_type": "stream",
     "text": [
      "100%|███████████████████████████████████████████████████████████████████████████████████| 74/74 [02:52<00:00,  2.33s/it]\n"
     ]
    },
    {
     "name": "stdout",
     "output_type": "stream",
     "text": [
      "Epochs: 7 | Train Loss:  0.347                 | Train Accuracy:  0.628                 | Val Loss:  0.365                 | Val Accuracy:  0.842\n"
     ]
    },
    {
     "name": "stderr",
     "output_type": "stream",
     "text": [
      "100%|███████████████████████████████████████████████████████████████████████████████████| 74/74 [02:52<00:00,  2.33s/it]\n"
     ]
    },
    {
     "name": "stdout",
     "output_type": "stream",
     "text": [
      "Epochs: 8 | Train Loss:  0.347                 | Train Accuracy:  0.628                 | Val Loss:  0.365                 | Val Accuracy:  0.842\n"
     ]
    },
    {
     "name": "stderr",
     "output_type": "stream",
     "text": [
      "100%|███████████████████████████████████████████████████████████████████████████████████| 74/74 [02:54<00:00,  2.36s/it]\n"
     ]
    },
    {
     "name": "stdout",
     "output_type": "stream",
     "text": [
      "Epochs: 9 | Train Loss:  0.347                 | Train Accuracy:  0.628                 | Val Loss:  0.365                 | Val Accuracy:  0.842\n"
     ]
    },
    {
     "name": "stderr",
     "output_type": "stream",
     "text": [
      "100%|███████████████████████████████████████████████████████████████████████████████████| 74/74 [02:59<00:00,  2.42s/it]\n"
     ]
    },
    {
     "name": "stdout",
     "output_type": "stream",
     "text": [
      "Epochs: 10 | Train Loss:  0.347                 | Train Accuracy:  0.628                 | Val Loss:  0.365                 | Val Accuracy:  0.842\n",
      "Test Accuracy:  0.867\n",
      "Test F1 score:  0.929\n",
      "EPOCHS: 10 | LR:0.005 | DROPOUT:0.8\n"
     ]
    },
    {
     "name": "stderr",
     "output_type": "stream",
     "text": [
      "Some weights of the model checkpoint at bert-base-cased were not used when initializing BertModel: ['cls.predictions.transform.dense.bias', 'cls.predictions.decoder.weight', 'cls.predictions.transform.dense.weight', 'cls.seq_relationship.weight', 'cls.predictions.bias', 'cls.seq_relationship.bias', 'cls.predictions.transform.LayerNorm.weight', 'cls.predictions.transform.LayerNorm.bias']\n",
      "- This IS expected if you are initializing BertModel from the checkpoint of a model trained on another task or with another architecture (e.g. initializing a BertForSequenceClassification model from a BertForPreTraining model).\n",
      "- This IS NOT expected if you are initializing BertModel from the checkpoint of a model that you expect to be exactly identical (initializing a BertForSequenceClassification model from a BertForSequenceClassification model).\n",
      "100%|███████████████████████████████████████████████████████████████████████████████████| 74/74 [02:47<00:00,  2.26s/it]\n"
     ]
    },
    {
     "name": "stdout",
     "output_type": "stream",
     "text": [
      "Epochs: 1 | Train Loss:  0.134                 | Train Accuracy:  0.845                 | Val Loss:  0.040                 | Val Accuracy:  0.947\n"
     ]
    },
    {
     "name": "stderr",
     "output_type": "stream",
     "text": [
      "100%|███████████████████████████████████████████████████████████████████████████████████| 74/74 [02:46<00:00,  2.25s/it]\n"
     ]
    },
    {
     "name": "stdout",
     "output_type": "stream",
     "text": [
      "Epochs: 2 | Train Loss:  0.004                 | Train Accuracy:  1.000                 | Val Loss:  0.001                 | Val Accuracy:  1.000\n"
     ]
    },
    {
     "name": "stderr",
     "output_type": "stream",
     "text": [
      "100%|███████████████████████████████████████████████████████████████████████████████████| 74/74 [02:51<00:00,  2.31s/it]\n"
     ]
    },
    {
     "name": "stdout",
     "output_type": "stream",
     "text": [
      "Epochs: 3 | Train Loss:  0.001                 | Train Accuracy:  1.000                 | Val Loss:  0.001                 | Val Accuracy:  1.000\n"
     ]
    },
    {
     "name": "stderr",
     "output_type": "stream",
     "text": [
      "100%|███████████████████████████████████████████████████████████████████████████████████| 74/74 [02:47<00:00,  2.27s/it]\n"
     ]
    },
    {
     "name": "stdout",
     "output_type": "stream",
     "text": [
      "Epochs: 4 | Train Loss:  0.001                 | Train Accuracy:  1.000                 | Val Loss:  0.001                 | Val Accuracy:  1.000\n"
     ]
    },
    {
     "name": "stderr",
     "output_type": "stream",
     "text": [
      "100%|███████████████████████████████████████████████████████████████████████████████████| 74/74 [02:48<00:00,  2.27s/it]\n"
     ]
    },
    {
     "name": "stdout",
     "output_type": "stream",
     "text": [
      "Epochs: 5 | Train Loss:  0.000                 | Train Accuracy:  1.000                 | Val Loss:  0.001                 | Val Accuracy:  1.000\n"
     ]
    },
    {
     "name": "stderr",
     "output_type": "stream",
     "text": [
      "100%|███████████████████████████████████████████████████████████████████████████████████| 74/74 [02:46<00:00,  2.25s/it]\n"
     ]
    },
    {
     "name": "stdout",
     "output_type": "stream",
     "text": [
      "Epochs: 6 | Train Loss:  0.000                 | Train Accuracy:  1.000                 | Val Loss:  0.001                 | Val Accuracy:  1.000\n"
     ]
    },
    {
     "name": "stderr",
     "output_type": "stream",
     "text": [
      "100%|███████████████████████████████████████████████████████████████████████████████████| 74/74 [02:45<00:00,  2.24s/it]\n"
     ]
    },
    {
     "name": "stdout",
     "output_type": "stream",
     "text": [
      "Epochs: 7 | Train Loss:  0.000                 | Train Accuracy:  1.000                 | Val Loss:  0.001                 | Val Accuracy:  1.000\n"
     ]
    },
    {
     "name": "stderr",
     "output_type": "stream",
     "text": [
      "100%|███████████████████████████████████████████████████████████████████████████████████| 74/74 [02:50<00:00,  2.30s/it]\n"
     ]
    },
    {
     "name": "stdout",
     "output_type": "stream",
     "text": [
      "Epochs: 8 | Train Loss:  0.000                 | Train Accuracy:  1.000                 | Val Loss:  0.002                 | Val Accuracy:  1.000\n"
     ]
    },
    {
     "name": "stderr",
     "output_type": "stream",
     "text": [
      "100%|███████████████████████████████████████████████████████████████████████████████████| 74/74 [02:48<00:00,  2.28s/it]\n"
     ]
    },
    {
     "name": "stdout",
     "output_type": "stream",
     "text": [
      "Epochs: 9 | Train Loss:  0.000                 | Train Accuracy:  1.000                 | Val Loss:  0.001                 | Val Accuracy:  1.000\n"
     ]
    },
    {
     "name": "stderr",
     "output_type": "stream",
     "text": [
      "100%|███████████████████████████████████████████████████████████████████████████████████| 74/74 [02:45<00:00,  2.24s/it]\n"
     ]
    },
    {
     "name": "stdout",
     "output_type": "stream",
     "text": [
      "Epochs: 10 | Train Loss:  0.000                 | Train Accuracy:  1.000                 | Val Loss:  0.002                 | Val Accuracy:  1.000\n"
     ]
    },
    {
     "name": "stderr",
     "output_type": "stream",
     "text": [
      "100%|███████████████████████████████████████████████████████████████████████████████████| 74/74 [02:46<00:00,  2.25s/it]\n"
     ]
    },
    {
     "name": "stdout",
     "output_type": "stream",
     "text": [
      "Epochs: 11 | Train Loss:  0.000                 | Train Accuracy:  1.000                 | Val Loss:  0.001                 | Val Accuracy:  1.000\n"
     ]
    },
    {
     "name": "stderr",
     "output_type": "stream",
     "text": [
      "100%|███████████████████████████████████████████████████████████████████████████████████| 74/74 [02:47<00:00,  2.26s/it]\n"
     ]
    },
    {
     "name": "stdout",
     "output_type": "stream",
     "text": [
      "Epochs: 12 | Train Loss:  0.000                 | Train Accuracy:  1.000                 | Val Loss:  0.001                 | Val Accuracy:  1.000\n"
     ]
    },
    {
     "name": "stderr",
     "output_type": "stream",
     "text": [
      "100%|███████████████████████████████████████████████████████████████████████████████████| 74/74 [02:48<00:00,  2.27s/it]\n"
     ]
    },
    {
     "name": "stdout",
     "output_type": "stream",
     "text": [
      "Epochs: 13 | Train Loss:  0.000                 | Train Accuracy:  1.000                 | Val Loss:  0.001                 | Val Accuracy:  1.000\n",
      "Test Accuracy:  0.978\n",
      "Test F1 score:  0.987\n",
      "EPOCHS: 13 | LR:0.0001 | DROPOUT:0.6000000000000001\n"
     ]
    },
    {
     "name": "stderr",
     "output_type": "stream",
     "text": [
      "Some weights of the model checkpoint at bert-base-cased were not used when initializing BertModel: ['cls.predictions.transform.dense.bias', 'cls.predictions.decoder.weight', 'cls.predictions.transform.dense.weight', 'cls.seq_relationship.weight', 'cls.predictions.bias', 'cls.seq_relationship.bias', 'cls.predictions.transform.LayerNorm.weight', 'cls.predictions.transform.LayerNorm.bias']\n",
      "- This IS expected if you are initializing BertModel from the checkpoint of a model trained on another task or with another architecture (e.g. initializing a BertForSequenceClassification model from a BertForPreTraining model).\n",
      "- This IS NOT expected if you are initializing BertModel from the checkpoint of a model that you expect to be exactly identical (initializing a BertForSequenceClassification model from a BertForSequenceClassification model).\n",
      "100%|███████████████████████████████████████████████████████████████████████████████████| 74/74 [02:48<00:00,  2.28s/it]\n"
     ]
    },
    {
     "name": "stdout",
     "output_type": "stream",
     "text": [
      "Epochs: 1 | Train Loss:  0.351                 | Train Accuracy:  0.574                 | Val Loss:  0.376                 | Val Accuracy:  0.684\n"
     ]
    },
    {
     "name": "stderr",
     "output_type": "stream",
     "text": [
      "100%|███████████████████████████████████████████████████████████████████████████████████| 74/74 [02:45<00:00,  2.24s/it]\n"
     ]
    },
    {
     "name": "stdout",
     "output_type": "stream",
     "text": [
      "Epochs: 2 | Train Loss:  0.338                 | Train Accuracy:  0.595                 | Val Loss:  0.357                 | Val Accuracy:  0.789\n"
     ]
    },
    {
     "name": "stderr",
     "output_type": "stream",
     "text": [
      "100%|███████████████████████████████████████████████████████████████████████████████████| 74/74 [02:47<00:00,  2.26s/it]\n"
     ]
    },
    {
     "name": "stdout",
     "output_type": "stream",
     "text": [
      "Epochs: 3 | Train Loss:  0.342                 | Train Accuracy:  0.608                 | Val Loss:  0.361                 | Val Accuracy:  0.737\n"
     ]
    },
    {
     "name": "stderr",
     "output_type": "stream",
     "text": [
      "100%|███████████████████████████████████████████████████████████████████████████████████| 74/74 [02:45<00:00,  2.23s/it]\n"
     ]
    },
    {
     "name": "stdout",
     "output_type": "stream",
     "text": [
      "Epochs: 4 | Train Loss:  0.321                 | Train Accuracy:  0.662                 | Val Loss:  0.339                 | Val Accuracy:  0.789\n"
     ]
    },
    {
     "name": "stderr",
     "output_type": "stream",
     "text": [
      "100%|███████████████████████████████████████████████████████████████████████████████████| 74/74 [02:45<00:00,  2.24s/it]\n"
     ]
    },
    {
     "name": "stdout",
     "output_type": "stream",
     "text": [
      "Epochs: 5 | Train Loss:  0.308                 | Train Accuracy:  0.669                 | Val Loss:  0.304                 | Val Accuracy:  0.895\n"
     ]
    },
    {
     "name": "stderr",
     "output_type": "stream",
     "text": [
      "100%|███████████████████████████████████████████████████████████████████████████████████| 74/74 [02:47<00:00,  2.26s/it]\n"
     ]
    },
    {
     "name": "stdout",
     "output_type": "stream",
     "text": [
      "Epochs: 6 | Train Loss:  0.288                 | Train Accuracy:  0.676                 | Val Loss:  0.302                 | Val Accuracy:  0.842\n"
     ]
    },
    {
     "name": "stderr",
     "output_type": "stream",
     "text": [
      "100%|███████████████████████████████████████████████████████████████████████████████████| 74/74 [02:50<00:00,  2.31s/it]\n"
     ]
    },
    {
     "name": "stdout",
     "output_type": "stream",
     "text": [
      "Epochs: 7 | Train Loss:  0.273                 | Train Accuracy:  0.730                 | Val Loss:  0.259                 | Val Accuracy:  0.842\n"
     ]
    },
    {
     "name": "stderr",
     "output_type": "stream",
     "text": [
      "100%|███████████████████████████████████████████████████████████████████████████████████| 74/74 [02:45<00:00,  2.24s/it]\n"
     ]
    },
    {
     "name": "stdout",
     "output_type": "stream",
     "text": [
      "Epochs: 8 | Train Loss:  0.246                 | Train Accuracy:  0.777                 | Val Loss:  0.244                 | Val Accuracy:  0.842\n"
     ]
    },
    {
     "name": "stderr",
     "output_type": "stream",
     "text": [
      "100%|███████████████████████████████████████████████████████████████████████████████████| 74/74 [02:43<00:00,  2.20s/it]\n"
     ]
    },
    {
     "name": "stdout",
     "output_type": "stream",
     "text": [
      "Epochs: 9 | Train Loss:  0.219                 | Train Accuracy:  0.865                 | Val Loss:  0.225                 | Val Accuracy:  1.000\n"
     ]
    },
    {
     "name": "stderr",
     "output_type": "stream",
     "text": [
      "100%|███████████████████████████████████████████████████████████████████████████████████| 74/74 [02:49<00:00,  2.29s/it]\n"
     ]
    },
    {
     "name": "stdout",
     "output_type": "stream",
     "text": [
      "Epochs: 10 | Train Loss:  0.186                 | Train Accuracy:  0.872                 | Val Loss:  0.181                 | Val Accuracy:  1.000\n",
      "Test Accuracy:  0.892\n",
      "Test F1 score:  0.935\n",
      "EPOCHS: 10 | LR:5e-07 | DROPOUT:0.5\n"
     ]
    },
    {
     "name": "stderr",
     "output_type": "stream",
     "text": [
      "Some weights of the model checkpoint at bert-base-cased were not used when initializing BertModel: ['cls.predictions.transform.dense.bias', 'cls.predictions.decoder.weight', 'cls.predictions.transform.dense.weight', 'cls.seq_relationship.weight', 'cls.predictions.bias', 'cls.seq_relationship.bias', 'cls.predictions.transform.LayerNorm.weight', 'cls.predictions.transform.LayerNorm.bias']\n",
      "- This IS expected if you are initializing BertModel from the checkpoint of a model trained on another task or with another architecture (e.g. initializing a BertForSequenceClassification model from a BertForPreTraining model).\n",
      "- This IS NOT expected if you are initializing BertModel from the checkpoint of a model that you expect to be exactly identical (initializing a BertForSequenceClassification model from a BertForSequenceClassification model).\n",
      "100%|███████████████████████████████████████████████████████████████████████████████████| 74/74 [02:44<00:00,  2.22s/it]\n"
     ]
    },
    {
     "name": "stdout",
     "output_type": "stream",
     "text": [
      "Epochs: 1 | Train Loss:  0.336                 | Train Accuracy:  0.622                 | Val Loss:  0.337                 | Val Accuracy:  0.789\n"
     ]
    },
    {
     "name": "stderr",
     "output_type": "stream",
     "text": [
      "100%|███████████████████████████████████████████████████████████████████████████████████| 74/74 [02:49<00:00,  2.29s/it]\n"
     ]
    },
    {
     "name": "stdout",
     "output_type": "stream",
     "text": [
      "Epochs: 2 | Train Loss:  0.335                 | Train Accuracy:  0.628                 | Val Loss:  0.271                 | Val Accuracy:  0.842\n"
     ]
    },
    {
     "name": "stderr",
     "output_type": "stream",
     "text": [
      "100%|███████████████████████████████████████████████████████████████████████████████████| 74/74 [02:45<00:00,  2.24s/it]\n"
     ]
    },
    {
     "name": "stdout",
     "output_type": "stream",
     "text": [
      "Epochs: 3 | Train Loss:  0.342                 | Train Accuracy:  0.628                 | Val Loss:  0.308                 | Val Accuracy:  0.842\n"
     ]
    },
    {
     "name": "stderr",
     "output_type": "stream",
     "text": [
      "100%|███████████████████████████████████████████████████████████████████████████████████| 74/74 [02:42<00:00,  2.20s/it]\n"
     ]
    },
    {
     "name": "stdout",
     "output_type": "stream",
     "text": [
      "Epochs: 4 | Train Loss:  0.337                 | Train Accuracy:  0.622                 | Val Loss:  0.307                 | Val Accuracy:  0.842\n"
     ]
    },
    {
     "name": "stderr",
     "output_type": "stream",
     "text": [
      "100%|███████████████████████████████████████████████████████████████████████████████████| 74/74 [02:49<00:00,  2.28s/it]\n"
     ]
    },
    {
     "name": "stdout",
     "output_type": "stream",
     "text": [
      "Epochs: 5 | Train Loss:  0.345                 | Train Accuracy:  0.615                 | Val Loss:  0.284                 | Val Accuracy:  0.842\n"
     ]
    },
    {
     "name": "stderr",
     "output_type": "stream",
     "text": [
      "100%|███████████████████████████████████████████████████████████████████████████████████| 74/74 [02:46<00:00,  2.25s/it]\n"
     ]
    },
    {
     "name": "stdout",
     "output_type": "stream",
     "text": [
      "Epochs: 6 | Train Loss:  0.316                 | Train Accuracy:  0.628                 | Val Loss:  0.292                 | Val Accuracy:  0.842\n"
     ]
    },
    {
     "name": "stderr",
     "output_type": "stream",
     "text": [
      "100%|███████████████████████████████████████████████████████████████████████████████████| 74/74 [02:45<00:00,  2.24s/it]\n"
     ]
    },
    {
     "name": "stdout",
     "output_type": "stream",
     "text": [
      "Epochs: 7 | Train Loss:  0.324                 | Train Accuracy:  0.628                 | Val Loss:  0.283                 | Val Accuracy:  0.842\n"
     ]
    },
    {
     "name": "stderr",
     "output_type": "stream",
     "text": [
      "100%|███████████████████████████████████████████████████████████████████████████████████| 74/74 [02:47<00:00,  2.26s/it]\n"
     ]
    },
    {
     "name": "stdout",
     "output_type": "stream",
     "text": [
      "Epochs: 8 | Train Loss:  0.317                 | Train Accuracy:  0.642                 | Val Loss:  0.284                 | Val Accuracy:  0.842\n"
     ]
    },
    {
     "name": "stderr",
     "output_type": "stream",
     "text": [
      "100%|███████████████████████████████████████████████████████████████████████████████████| 74/74 [02:46<00:00,  2.26s/it]\n"
     ]
    },
    {
     "name": "stdout",
     "output_type": "stream",
     "text": [
      "Epochs: 9 | Train Loss:  0.303                 | Train Accuracy:  0.655                 | Val Loss:  0.294                 | Val Accuracy:  0.895\n"
     ]
    },
    {
     "name": "stderr",
     "output_type": "stream",
     "text": [
      "100%|███████████████████████████████████████████████████████████████████████████████████| 74/74 [02:46<00:00,  2.24s/it]\n"
     ]
    },
    {
     "name": "stdout",
     "output_type": "stream",
     "text": [
      "Epochs: 10 | Train Loss:  0.305                 | Train Accuracy:  0.635                 | Val Loss:  0.290                 | Val Accuracy:  0.842\n",
      "Test Accuracy:  0.861\n",
      "Test F1 score:  0.925\n",
      "EPOCHS: 10 | LR:5e-08 | DROPOUT:0.5\n"
     ]
    },
    {
     "name": "stderr",
     "output_type": "stream",
     "text": [
      "Some weights of the model checkpoint at bert-base-cased were not used when initializing BertModel: ['cls.predictions.transform.dense.bias', 'cls.predictions.decoder.weight', 'cls.predictions.transform.dense.weight', 'cls.seq_relationship.weight', 'cls.predictions.bias', 'cls.seq_relationship.bias', 'cls.predictions.transform.LayerNorm.weight', 'cls.predictions.transform.LayerNorm.bias']\n",
      "- This IS expected if you are initializing BertModel from the checkpoint of a model trained on another task or with another architecture (e.g. initializing a BertForSequenceClassification model from a BertForPreTraining model).\n",
      "- This IS NOT expected if you are initializing BertModel from the checkpoint of a model that you expect to be exactly identical (initializing a BertForSequenceClassification model from a BertForSequenceClassification model).\n",
      "100%|███████████████████████████████████████████████████████████████████████████████████| 74/74 [02:48<00:00,  2.27s/it]\n"
     ]
    },
    {
     "name": "stdout",
     "output_type": "stream",
     "text": [
      "Epochs: 1 | Train Loss:  0.477                 | Train Accuracy:  0.493                 | Val Loss:  0.650                 | Val Accuracy:  0.526\n"
     ]
    },
    {
     "name": "stderr",
     "output_type": "stream",
     "text": [
      "100%|███████████████████████████████████████████████████████████████████████████████████| 74/74 [02:45<00:00,  2.23s/it]\n"
     ]
    },
    {
     "name": "stdout",
     "output_type": "stream",
     "text": [
      "Epochs: 2 | Train Loss:  0.381                 | Train Accuracy:  0.635                 | Val Loss:  0.382                 | Val Accuracy:  0.789\n"
     ]
    },
    {
     "name": "stderr",
     "output_type": "stream",
     "text": [
      "100%|███████████████████████████████████████████████████████████████████████████████████| 74/74 [02:47<00:00,  2.26s/it]\n"
     ]
    },
    {
     "name": "stdout",
     "output_type": "stream",
     "text": [
      "Epochs: 3 | Train Loss:  0.382                 | Train Accuracy:  0.581                 | Val Loss:  0.341                 | Val Accuracy:  0.947\n"
     ]
    },
    {
     "name": "stderr",
     "output_type": "stream",
     "text": [
      "100%|███████████████████████████████████████████████████████████████████████████████████| 74/74 [02:48<00:00,  2.27s/it]\n"
     ]
    },
    {
     "name": "stdout",
     "output_type": "stream",
     "text": [
      "Epochs: 4 | Train Loss:  0.361                 | Train Accuracy:  0.628                 | Val Loss:  0.348                 | Val Accuracy:  0.789\n"
     ]
    },
    {
     "name": "stderr",
     "output_type": "stream",
     "text": [
      "100%|███████████████████████████████████████████████████████████████████████████████████| 74/74 [02:48<00:00,  2.28s/it]\n"
     ]
    },
    {
     "name": "stdout",
     "output_type": "stream",
     "text": [
      "Epochs: 5 | Train Loss:  0.362                 | Train Accuracy:  0.615                 | Val Loss:  0.363                 | Val Accuracy:  0.842\n"
     ]
    },
    {
     "name": "stderr",
     "output_type": "stream",
     "text": [
      "100%|███████████████████████████████████████████████████████████████████████████████████| 74/74 [02:48<00:00,  2.27s/it]\n"
     ]
    },
    {
     "name": "stdout",
     "output_type": "stream",
     "text": [
      "Epochs: 6 | Train Loss:  0.348                 | Train Accuracy:  0.635                 | Val Loss:  0.356                 | Val Accuracy:  0.895\n"
     ]
    },
    {
     "name": "stderr",
     "output_type": "stream",
     "text": [
      "100%|███████████████████████████████████████████████████████████████████████████████████| 74/74 [02:44<00:00,  2.22s/it]\n"
     ]
    },
    {
     "name": "stdout",
     "output_type": "stream",
     "text": [
      "Epochs: 7 | Train Loss:  0.344                 | Train Accuracy:  0.635                 | Val Loss:  0.365                 | Val Accuracy:  0.842\n"
     ]
    },
    {
     "name": "stderr",
     "output_type": "stream",
     "text": [
      "100%|███████████████████████████████████████████████████████████████████████████████████| 74/74 [02:50<00:00,  2.31s/it]\n"
     ]
    },
    {
     "name": "stdout",
     "output_type": "stream",
     "text": [
      "Epochs: 8 | Train Loss:  0.347                 | Train Accuracy:  0.628                 | Val Loss:  0.365                 | Val Accuracy:  0.842\n"
     ]
    },
    {
     "name": "stderr",
     "output_type": "stream",
     "text": [
      "100%|███████████████████████████████████████████████████████████████████████████████████| 74/74 [02:50<00:00,  2.30s/it]\n"
     ]
    },
    {
     "name": "stdout",
     "output_type": "stream",
     "text": [
      "Epochs: 9 | Train Loss:  0.347                 | Train Accuracy:  0.628                 | Val Loss:  0.365                 | Val Accuracy:  0.842\n"
     ]
    },
    {
     "name": "stderr",
     "output_type": "stream",
     "text": [
      "100%|███████████████████████████████████████████████████████████████████████████████████| 74/74 [02:50<00:00,  2.30s/it]\n"
     ]
    },
    {
     "name": "stdout",
     "output_type": "stream",
     "text": [
      "Epochs: 10 | Train Loss:  0.346                 | Train Accuracy:  0.622                 | Val Loss:  0.365                 | Val Accuracy:  0.842\n"
     ]
    },
    {
     "name": "stderr",
     "output_type": "stream",
     "text": [
      "100%|███████████████████████████████████████████████████████████████████████████████████| 74/74 [02:48<00:00,  2.28s/it]\n"
     ]
    },
    {
     "name": "stdout",
     "output_type": "stream",
     "text": [
      "Epochs: 11 | Train Loss:  0.350                 | Train Accuracy:  0.628                 | Val Loss:  0.365                 | Val Accuracy:  0.842\n"
     ]
    },
    {
     "name": "stderr",
     "output_type": "stream",
     "text": [
      "100%|███████████████████████████████████████████████████████████████████████████████████| 74/74 [02:45<00:00,  2.24s/it]\n"
     ]
    },
    {
     "name": "stdout",
     "output_type": "stream",
     "text": [
      "Epochs: 12 | Train Loss:  0.347                 | Train Accuracy:  0.628                 | Val Loss:  0.365                 | Val Accuracy:  0.842\n"
     ]
    },
    {
     "name": "stderr",
     "output_type": "stream",
     "text": [
      "100%|███████████████████████████████████████████████████████████████████████████████████| 74/74 [02:46<00:00,  2.24s/it]\n"
     ]
    },
    {
     "name": "stdout",
     "output_type": "stream",
     "text": [
      "Epochs: 13 | Train Loss:  0.347                 | Train Accuracy:  0.628                 | Val Loss:  0.365                 | Val Accuracy:  0.842\n"
     ]
    },
    {
     "name": "stderr",
     "output_type": "stream",
     "text": [
      "100%|███████████████████████████████████████████████████████████████████████████████████| 74/74 [02:46<00:00,  2.26s/it]\n"
     ]
    },
    {
     "name": "stdout",
     "output_type": "stream",
     "text": [
      "Epochs: 14 | Train Loss:  0.348                 | Train Accuracy:  0.622                 | Val Loss:  0.365                 | Val Accuracy:  0.842\n",
      "Test Accuracy:  0.864\n",
      "Test F1 score:  0.927\n",
      "EPOCHS: 14 | LR:0.0005 | DROPOUT:0.9\n"
     ]
    },
    {
     "name": "stderr",
     "output_type": "stream",
     "text": [
      "Some weights of the model checkpoint at bert-base-cased were not used when initializing BertModel: ['cls.predictions.transform.dense.bias', 'cls.predictions.decoder.weight', 'cls.predictions.transform.dense.weight', 'cls.seq_relationship.weight', 'cls.predictions.bias', 'cls.seq_relationship.bias', 'cls.predictions.transform.LayerNorm.weight', 'cls.predictions.transform.LayerNorm.bias']\n",
      "- This IS expected if you are initializing BertModel from the checkpoint of a model trained on another task or with another architecture (e.g. initializing a BertForSequenceClassification model from a BertForPreTraining model).\n",
      "- This IS NOT expected if you are initializing BertModel from the checkpoint of a model that you expect to be exactly identical (initializing a BertForSequenceClassification model from a BertForSequenceClassification model).\n",
      "100%|███████████████████████████████████████████████████████████████████████████████████| 74/74 [02:45<00:00,  2.24s/it]\n"
     ]
    },
    {
     "name": "stdout",
     "output_type": "stream",
     "text": [
      "Epochs: 1 | Train Loss:  0.365                 | Train Accuracy:  0.405                 | Val Loss:  0.383                 | Val Accuracy:  0.368\n"
     ]
    },
    {
     "name": "stderr",
     "output_type": "stream",
     "text": [
      "100%|███████████████████████████████████████████████████████████████████████████████████| 74/74 [02:46<00:00,  2.24s/it]\n"
     ]
    },
    {
     "name": "stdout",
     "output_type": "stream",
     "text": [
      "Epochs: 2 | Train Loss:  0.355                 | Train Accuracy:  0.446                 | Val Loss:  0.390                 | Val Accuracy:  0.316\n",
      "Test Accuracy:  0.495\n",
      "Test F1 score:  0.635\n",
      "EPOCHS: 2 | LR:5e-08 | DROPOUT:0.1\n"
     ]
    },
    {
     "name": "stderr",
     "output_type": "stream",
     "text": [
      "Some weights of the model checkpoint at bert-base-cased were not used when initializing BertModel: ['cls.predictions.transform.dense.bias', 'cls.predictions.decoder.weight', 'cls.predictions.transform.dense.weight', 'cls.seq_relationship.weight', 'cls.predictions.bias', 'cls.seq_relationship.bias', 'cls.predictions.transform.LayerNorm.weight', 'cls.predictions.transform.LayerNorm.bias']\n",
      "- This IS expected if you are initializing BertModel from the checkpoint of a model trained on another task or with another architecture (e.g. initializing a BertForSequenceClassification model from a BertForPreTraining model).\n",
      "- This IS NOT expected if you are initializing BertModel from the checkpoint of a model that you expect to be exactly identical (initializing a BertForSequenceClassification model from a BertForSequenceClassification model).\n",
      "100%|███████████████████████████████████████████████████████████████████████████████████| 74/74 [02:48<00:00,  2.27s/it]\n"
     ]
    },
    {
     "name": "stdout",
     "output_type": "stream",
     "text": [
      "Epochs: 1 | Train Loss:  0.379                 | Train Accuracy:  0.473                 | Val Loss:  0.440                 | Val Accuracy:  0.316\n"
     ]
    },
    {
     "name": "stderr",
     "output_type": "stream",
     "text": [
      "100%|███████████████████████████████████████████████████████████████████████████████████| 74/74 [02:38<00:00,  2.14s/it]\n"
     ]
    },
    {
     "name": "stdout",
     "output_type": "stream",
     "text": [
      "Epochs: 2 | Train Loss:  0.376                 | Train Accuracy:  0.473                 | Val Loss:  0.412                 | Val Accuracy:  0.316\n"
     ]
    },
    {
     "name": "stderr",
     "output_type": "stream",
     "text": [
      "100%|███████████████████████████████████████████████████████████████████████████████████| 74/74 [02:44<00:00,  2.22s/it]\n"
     ]
    },
    {
     "name": "stdout",
     "output_type": "stream",
     "text": [
      "Epochs: 3 | Train Loss:  0.361                 | Train Accuracy:  0.527                 | Val Loss:  0.443                 | Val Accuracy:  0.316\n"
     ]
    },
    {
     "name": "stderr",
     "output_type": "stream",
     "text": [
      "100%|███████████████████████████████████████████████████████████████████████████████████| 74/74 [02:48<00:00,  2.27s/it]\n"
     ]
    },
    {
     "name": "stdout",
     "output_type": "stream",
     "text": [
      "Epochs: 4 | Train Loss:  0.367                 | Train Accuracy:  0.507                 | Val Loss:  0.461                 | Val Accuracy:  0.263\n"
     ]
    },
    {
     "name": "stderr",
     "output_type": "stream",
     "text": [
      "100%|███████████████████████████████████████████████████████████████████████████████████| 74/74 [02:45<00:00,  2.24s/it]\n"
     ]
    },
    {
     "name": "stdout",
     "output_type": "stream",
     "text": [
      "Epochs: 5 | Train Loss:  0.349                 | Train Accuracy:  0.561                 | Val Loss:  0.397                 | Val Accuracy:  0.474\n"
     ]
    },
    {
     "name": "stderr",
     "output_type": "stream",
     "text": [
      "100%|███████████████████████████████████████████████████████████████████████████████████| 74/74 [02:49<00:00,  2.29s/it]\n"
     ]
    },
    {
     "name": "stdout",
     "output_type": "stream",
     "text": [
      "Epochs: 6 | Train Loss:  0.336                 | Train Accuracy:  0.601                 | Val Loss:  0.396                 | Val Accuracy:  0.526\n"
     ]
    },
    {
     "name": "stderr",
     "output_type": "stream",
     "text": [
      "100%|███████████████████████████████████████████████████████████████████████████████████| 74/74 [02:46<00:00,  2.24s/it]\n"
     ]
    },
    {
     "name": "stdout",
     "output_type": "stream",
     "text": [
      "Epochs: 7 | Train Loss:  0.339                 | Train Accuracy:  0.608                 | Val Loss:  0.433                 | Val Accuracy:  0.421\n"
     ]
    },
    {
     "name": "stderr",
     "output_type": "stream",
     "text": [
      "100%|███████████████████████████████████████████████████████████████████████████████████| 74/74 [02:49<00:00,  2.29s/it]\n"
     ]
    },
    {
     "name": "stdout",
     "output_type": "stream",
     "text": [
      "Epochs: 8 | Train Loss:  0.337                 | Train Accuracy:  0.642                 | Val Loss:  0.419                 | Val Accuracy:  0.368\n"
     ]
    },
    {
     "name": "stderr",
     "output_type": "stream",
     "text": [
      "100%|███████████████████████████████████████████████████████████████████████████████████| 74/74 [02:45<00:00,  2.24s/it]\n"
     ]
    },
    {
     "name": "stdout",
     "output_type": "stream",
     "text": [
      "Epochs: 9 | Train Loss:  0.326                 | Train Accuracy:  0.662                 | Val Loss:  0.397                 | Val Accuracy:  0.421\n"
     ]
    },
    {
     "name": "stderr",
     "output_type": "stream",
     "text": [
      "100%|███████████████████████████████████████████████████████████████████████████████████| 74/74 [02:47<00:00,  2.27s/it]\n"
     ]
    },
    {
     "name": "stdout",
     "output_type": "stream",
     "text": [
      "Epochs: 10 | Train Loss:  0.346                 | Train Accuracy:  0.581                 | Val Loss:  0.402                 | Val Accuracy:  0.368\n"
     ]
    },
    {
     "name": "stderr",
     "output_type": "stream",
     "text": [
      "100%|███████████████████████████████████████████████████████████████████████████████████| 74/74 [02:39<00:00,  2.16s/it]\n"
     ]
    },
    {
     "name": "stdout",
     "output_type": "stream",
     "text": [
      "Epochs: 11 | Train Loss:  0.325                 | Train Accuracy:  0.655                 | Val Loss:  0.415                 | Val Accuracy:  0.421\n"
     ]
    },
    {
     "name": "stderr",
     "output_type": "stream",
     "text": [
      "100%|███████████████████████████████████████████████████████████████████████████████████| 74/74 [02:44<00:00,  2.22s/it]\n"
     ]
    },
    {
     "name": "stdout",
     "output_type": "stream",
     "text": [
      "Epochs: 12 | Train Loss:  0.326                 | Train Accuracy:  0.635                 | Val Loss:  0.405                 | Val Accuracy:  0.474\n"
     ]
    },
    {
     "name": "stderr",
     "output_type": "stream",
     "text": [
      "100%|███████████████████████████████████████████████████████████████████████████████████| 74/74 [02:50<00:00,  2.30s/it]\n"
     ]
    },
    {
     "name": "stdout",
     "output_type": "stream",
     "text": [
      "Epochs: 13 | Train Loss:  0.311                 | Train Accuracy:  0.730                 | Val Loss:  0.376                 | Val Accuracy:  0.474\n"
     ]
    },
    {
     "name": "stderr",
     "output_type": "stream",
     "text": [
      "100%|███████████████████████████████████████████████████████████████████████████████████| 74/74 [02:46<00:00,  2.24s/it]\n"
     ]
    },
    {
     "name": "stdout",
     "output_type": "stream",
     "text": [
      "Epochs: 14 | Train Loss:  0.308                 | Train Accuracy:  0.723                 | Val Loss:  0.338                 | Val Accuracy:  0.737\n",
      "Test Accuracy:  0.272\n",
      "Test F1 score:  0.286\n",
      "EPOCHS: 14 | LR:5e-08 | DROPOUT:0.30000000000000004\n"
     ]
    },
    {
     "name": "stderr",
     "output_type": "stream",
     "text": [
      "Some weights of the model checkpoint at bert-base-cased were not used when initializing BertModel: ['cls.predictions.transform.dense.bias', 'cls.predictions.decoder.weight', 'cls.predictions.transform.dense.weight', 'cls.seq_relationship.weight', 'cls.predictions.bias', 'cls.seq_relationship.bias', 'cls.predictions.transform.LayerNorm.weight', 'cls.predictions.transform.LayerNorm.bias']\n",
      "- This IS expected if you are initializing BertModel from the checkpoint of a model trained on another task or with another architecture (e.g. initializing a BertForSequenceClassification model from a BertForPreTraining model).\n",
      "- This IS NOT expected if you are initializing BertModel from the checkpoint of a model that you expect to be exactly identical (initializing a BertForSequenceClassification model from a BertForSequenceClassification model).\n",
      "100%|███████████████████████████████████████████████████████████████████████████████████| 74/74 [02:52<00:00,  2.33s/it]\n"
     ]
    },
    {
     "name": "stdout",
     "output_type": "stream",
     "text": [
      "Epochs: 1 | Train Loss:  0.333                 | Train Accuracy:  0.628                 | Val Loss:  0.311                 | Val Accuracy:  0.842\n"
     ]
    },
    {
     "name": "stderr",
     "output_type": "stream",
     "text": [
      "100%|███████████████████████████████████████████████████████████████████████████████████| 74/74 [02:48<00:00,  2.27s/it]\n"
     ]
    },
    {
     "name": "stdout",
     "output_type": "stream",
     "text": [
      "Epochs: 2 | Train Loss:  0.335                 | Train Accuracy:  0.628                 | Val Loss:  0.274                 | Val Accuracy:  0.842\n",
      "Test Accuracy:  0.864\n",
      "Test F1 score:  0.927\n",
      "EPOCHS: 2 | LR:1e-10 | DROPOUT:0.30000000000000004\n"
     ]
    },
    {
     "name": "stderr",
     "output_type": "stream",
     "text": [
      "Some weights of the model checkpoint at bert-base-cased were not used when initializing BertModel: ['cls.predictions.transform.dense.bias', 'cls.predictions.decoder.weight', 'cls.predictions.transform.dense.weight', 'cls.seq_relationship.weight', 'cls.predictions.bias', 'cls.seq_relationship.bias', 'cls.predictions.transform.LayerNorm.weight', 'cls.predictions.transform.LayerNorm.bias']\n",
      "- This IS expected if you are initializing BertModel from the checkpoint of a model trained on another task or with another architecture (e.g. initializing a BertForSequenceClassification model from a BertForPreTraining model).\n",
      "- This IS NOT expected if you are initializing BertModel from the checkpoint of a model that you expect to be exactly identical (initializing a BertForSequenceClassification model from a BertForSequenceClassification model).\n",
      "100%|███████████████████████████████████████████████████████████████████████████████████| 74/74 [02:50<00:00,  2.30s/it]\n"
     ]
    },
    {
     "name": "stdout",
     "output_type": "stream",
     "text": [
      "Epochs: 1 | Train Loss:  0.363                 | Train Accuracy:  0.622                 | Val Loss:  0.365                 | Val Accuracy:  0.842\n"
     ]
    },
    {
     "name": "stderr",
     "output_type": "stream",
     "text": [
      "100%|███████████████████████████████████████████████████████████████████████████████████| 74/74 [02:46<00:00,  2.25s/it]\n"
     ]
    },
    {
     "name": "stdout",
     "output_type": "stream",
     "text": [
      "Epochs: 2 | Train Loss:  0.347                 | Train Accuracy:  0.628                 | Val Loss:  0.365                 | Val Accuracy:  0.842\n"
     ]
    },
    {
     "name": "stderr",
     "output_type": "stream",
     "text": [
      "100%|███████████████████████████████████████████████████████████████████████████████████| 74/74 [02:48<00:00,  2.28s/it]\n"
     ]
    },
    {
     "name": "stdout",
     "output_type": "stream",
     "text": [
      "Epochs: 3 | Train Loss:  0.347                 | Train Accuracy:  0.628                 | Val Loss:  0.365                 | Val Accuracy:  0.842\n"
     ]
    },
    {
     "name": "stderr",
     "output_type": "stream",
     "text": [
      "100%|███████████████████████████████████████████████████████████████████████████████████| 74/74 [02:47<00:00,  2.27s/it]\n"
     ]
    },
    {
     "name": "stdout",
     "output_type": "stream",
     "text": [
      "Epochs: 4 | Train Loss:  0.347                 | Train Accuracy:  0.628                 | Val Loss:  0.365                 | Val Accuracy:  0.842\n",
      "Test Accuracy:  0.867\n",
      "Test F1 score:  0.929\n",
      "EPOCHS: 4 | LR:0.001 | DROPOUT:0.7000000000000001\n"
     ]
    },
    {
     "name": "stderr",
     "output_type": "stream",
     "text": [
      "Some weights of the model checkpoint at bert-base-cased were not used when initializing BertModel: ['cls.predictions.transform.dense.bias', 'cls.predictions.decoder.weight', 'cls.predictions.transform.dense.weight', 'cls.seq_relationship.weight', 'cls.predictions.bias', 'cls.seq_relationship.bias', 'cls.predictions.transform.LayerNorm.weight', 'cls.predictions.transform.LayerNorm.bias']\n",
      "- This IS expected if you are initializing BertModel from the checkpoint of a model trained on another task or with another architecture (e.g. initializing a BertForSequenceClassification model from a BertForPreTraining model).\n",
      "- This IS NOT expected if you are initializing BertModel from the checkpoint of a model that you expect to be exactly identical (initializing a BertForSequenceClassification model from a BertForSequenceClassification model).\n",
      "100%|███████████████████████████████████████████████████████████████████████████████████| 74/74 [02:45<00:00,  2.23s/it]\n"
     ]
    },
    {
     "name": "stdout",
     "output_type": "stream",
     "text": [
      "Epochs: 1 | Train Loss:  0.333                 | Train Accuracy:  0.608                 | Val Loss:  0.359                 | Val Accuracy:  0.579\n"
     ]
    },
    {
     "name": "stderr",
     "output_type": "stream",
     "text": [
      "100%|███████████████████████████████████████████████████████████████████████████████████| 74/74 [02:41<00:00,  2.18s/it]\n"
     ]
    },
    {
     "name": "stdout",
     "output_type": "stream",
     "text": [
      "Epochs: 2 | Train Loss:  0.309                 | Train Accuracy:  0.764                 | Val Loss:  0.350                 | Val Accuracy:  0.684\n"
     ]
    },
    {
     "name": "stderr",
     "output_type": "stream",
     "text": [
      "100%|███████████████████████████████████████████████████████████████████████████████████| 74/74 [02:46<00:00,  2.25s/it]\n"
     ]
    },
    {
     "name": "stdout",
     "output_type": "stream",
     "text": [
      "Epochs: 3 | Train Loss:  0.281                 | Train Accuracy:  0.824                 | Val Loss:  0.292                 | Val Accuracy:  0.789\n"
     ]
    },
    {
     "name": "stderr",
     "output_type": "stream",
     "text": [
      "100%|███████████████████████████████████████████████████████████████████████████████████| 74/74 [02:44<00:00,  2.22s/it]\n"
     ]
    },
    {
     "name": "stdout",
     "output_type": "stream",
     "text": [
      "Epochs: 4 | Train Loss:  0.252                 | Train Accuracy:  0.885                 | Val Loss:  0.286                 | Val Accuracy:  0.842\n"
     ]
    },
    {
     "name": "stderr",
     "output_type": "stream",
     "text": [
      "100%|███████████████████████████████████████████████████████████████████████████████████| 74/74 [02:47<00:00,  2.26s/it]\n"
     ]
    },
    {
     "name": "stdout",
     "output_type": "stream",
     "text": [
      "Epochs: 5 | Train Loss:  0.216                 | Train Accuracy:  0.905                 | Val Loss:  0.283                 | Val Accuracy:  0.737\n",
      "Test Accuracy:  0.523\n",
      "Test F1 score:  0.628\n",
      "EPOCHS: 5 | LR:5e-07 | DROPOUT:0.4\n"
     ]
    },
    {
     "name": "stderr",
     "output_type": "stream",
     "text": [
      "Some weights of the model checkpoint at bert-base-cased were not used when initializing BertModel: ['cls.predictions.transform.dense.bias', 'cls.predictions.decoder.weight', 'cls.predictions.transform.dense.weight', 'cls.seq_relationship.weight', 'cls.predictions.bias', 'cls.seq_relationship.bias', 'cls.predictions.transform.LayerNorm.weight', 'cls.predictions.transform.LayerNorm.bias']\n",
      "- This IS expected if you are initializing BertModel from the checkpoint of a model trained on another task or with another architecture (e.g. initializing a BertForSequenceClassification model from a BertForPreTraining model).\n",
      "- This IS NOT expected if you are initializing BertModel from the checkpoint of a model that you expect to be exactly identical (initializing a BertForSequenceClassification model from a BertForSequenceClassification model).\n",
      "100%|███████████████████████████████████████████████████████████████████████████████████| 74/74 [02:48<00:00,  2.28s/it]\n"
     ]
    },
    {
     "name": "stdout",
     "output_type": "stream",
     "text": [
      "Epochs: 1 | Train Loss:  0.360                 | Train Accuracy:  0.412                 | Val Loss:  0.398                 | Val Accuracy:  0.211\n"
     ]
    },
    {
     "name": "stderr",
     "output_type": "stream",
     "text": [
      "100%|███████████████████████████████████████████████████████████████████████████████████| 74/74 [02:48<00:00,  2.28s/it]\n"
     ]
    },
    {
     "name": "stdout",
     "output_type": "stream",
     "text": [
      "Epochs: 2 | Train Loss:  0.357                 | Train Accuracy:  0.419                 | Val Loss:  0.392                 | Val Accuracy:  0.263\n"
     ]
    },
    {
     "name": "stderr",
     "output_type": "stream",
     "text": [
      "100%|███████████████████████████████████████████████████████████████████████████████████| 74/74 [02:47<00:00,  2.26s/it]\n"
     ]
    },
    {
     "name": "stdout",
     "output_type": "stream",
     "text": [
      "Epochs: 3 | Train Loss:  0.351                 | Train Accuracy:  0.493                 | Val Loss:  0.378                 | Val Accuracy:  0.474\n"
     ]
    },
    {
     "name": "stderr",
     "output_type": "stream",
     "text": [
      "100%|███████████████████████████████████████████████████████████████████████████████████| 74/74 [02:46<00:00,  2.25s/it]\n"
     ]
    },
    {
     "name": "stdout",
     "output_type": "stream",
     "text": [
      "Epochs: 4 | Train Loss:  0.351                 | Train Accuracy:  0.486                 | Val Loss:  0.397                 | Val Accuracy:  0.316\n"
     ]
    },
    {
     "name": "stderr",
     "output_type": "stream",
     "text": [
      "100%|███████████████████████████████████████████████████████████████████████████████████| 74/74 [02:46<00:00,  2.25s/it]\n"
     ]
    },
    {
     "name": "stdout",
     "output_type": "stream",
     "text": [
      "Epochs: 5 | Train Loss:  0.345                 | Train Accuracy:  0.534                 | Val Loss:  0.387                 | Val Accuracy:  0.211\n"
     ]
    },
    {
     "name": "stderr",
     "output_type": "stream",
     "text": [
      "100%|███████████████████████████████████████████████████████████████████████████████████| 74/74 [02:47<00:00,  2.26s/it]\n"
     ]
    },
    {
     "name": "stdout",
     "output_type": "stream",
     "text": [
      "Epochs: 6 | Train Loss:  0.343                 | Train Accuracy:  0.622                 | Val Loss:  0.383                 | Val Accuracy:  0.316\n"
     ]
    },
    {
     "name": "stderr",
     "output_type": "stream",
     "text": [
      "100%|███████████████████████████████████████████████████████████████████████████████████| 74/74 [02:45<00:00,  2.23s/it]\n"
     ]
    },
    {
     "name": "stdout",
     "output_type": "stream",
     "text": [
      "Epochs: 7 | Train Loss:  0.342                 | Train Accuracy:  0.615                 | Val Loss:  0.386                 | Val Accuracy:  0.526\n"
     ]
    },
    {
     "name": "stderr",
     "output_type": "stream",
     "text": [
      "100%|███████████████████████████████████████████████████████████████████████████████████| 74/74 [02:44<00:00,  2.22s/it]\n"
     ]
    },
    {
     "name": "stdout",
     "output_type": "stream",
     "text": [
      "Epochs: 8 | Train Loss:  0.342                 | Train Accuracy:  0.642                 | Val Loss:  0.379                 | Val Accuracy:  0.474\n"
     ]
    },
    {
     "name": "stderr",
     "output_type": "stream",
     "text": [
      "100%|███████████████████████████████████████████████████████████████████████████████████| 74/74 [02:47<00:00,  2.26s/it]\n"
     ]
    },
    {
     "name": "stdout",
     "output_type": "stream",
     "text": [
      "Epochs: 9 | Train Loss:  0.338                 | Train Accuracy:  0.615                 | Val Loss:  0.380                 | Val Accuracy:  0.526\n"
     ]
    },
    {
     "name": "stderr",
     "output_type": "stream",
     "text": [
      "100%|███████████████████████████████████████████████████████████████████████████████████| 74/74 [02:45<00:00,  2.24s/it]\n"
     ]
    },
    {
     "name": "stdout",
     "output_type": "stream",
     "text": [
      "Epochs: 10 | Train Loss:  0.337                 | Train Accuracy:  0.655                 | Val Loss:  0.372                 | Val Accuracy:  0.579\n"
     ]
    },
    {
     "name": "stderr",
     "output_type": "stream",
     "text": [
      "100%|███████████████████████████████████████████████████████████████████████████████████| 74/74 [02:45<00:00,  2.23s/it]\n"
     ]
    },
    {
     "name": "stdout",
     "output_type": "stream",
     "text": [
      "Epochs: 11 | Train Loss:  0.341                 | Train Accuracy:  0.628                 | Val Loss:  0.384                 | Val Accuracy:  0.526\n"
     ]
    },
    {
     "name": "stderr",
     "output_type": "stream",
     "text": [
      "100%|███████████████████████████████████████████████████████████████████████████████████| 74/74 [02:43<00:00,  2.21s/it]\n"
     ]
    },
    {
     "name": "stdout",
     "output_type": "stream",
     "text": [
      "Epochs: 12 | Train Loss:  0.336                 | Train Accuracy:  0.709                 | Val Loss:  0.378                 | Val Accuracy:  0.526\n",
      "Test Accuracy:  0.300\n",
      "Test F1 score:  0.335\n",
      "EPOCHS: 12 | LR:5e-08 | DROPOUT:0.1\n"
     ]
    },
    {
     "name": "stderr",
     "output_type": "stream",
     "text": [
      "Some weights of the model checkpoint at bert-base-cased were not used when initializing BertModel: ['cls.predictions.transform.dense.bias', 'cls.predictions.decoder.weight', 'cls.predictions.transform.dense.weight', 'cls.seq_relationship.weight', 'cls.predictions.bias', 'cls.seq_relationship.bias', 'cls.predictions.transform.LayerNorm.weight', 'cls.predictions.transform.LayerNorm.bias']\n",
      "- This IS expected if you are initializing BertModel from the checkpoint of a model trained on another task or with another architecture (e.g. initializing a BertForSequenceClassification model from a BertForPreTraining model).\n",
      "- This IS NOT expected if you are initializing BertModel from the checkpoint of a model that you expect to be exactly identical (initializing a BertForSequenceClassification model from a BertForSequenceClassification model).\n",
      "100%|███████████████████████████████████████████████████████████████████████████████████| 74/74 [02:47<00:00,  2.26s/it]\n"
     ]
    },
    {
     "name": "stdout",
     "output_type": "stream",
     "text": [
      "Epochs: 1 | Train Loss:  0.101                 | Train Accuracy:  0.939                 | Val Loss:  0.003                 | Val Accuracy:  1.000\n"
     ]
    },
    {
     "name": "stderr",
     "output_type": "stream",
     "text": [
      "100%|███████████████████████████████████████████████████████████████████████████████████| 74/74 [02:52<00:00,  2.33s/it]\n"
     ]
    },
    {
     "name": "stdout",
     "output_type": "stream",
     "text": [
      "Epochs: 2 | Train Loss:  0.001                 | Train Accuracy:  1.000                 | Val Loss:  0.001                 | Val Accuracy:  1.000\n"
     ]
    },
    {
     "name": "stderr",
     "output_type": "stream",
     "text": [
      "100%|███████████████████████████████████████████████████████████████████████████████████| 74/74 [02:46<00:00,  2.25s/it]\n"
     ]
    },
    {
     "name": "stdout",
     "output_type": "stream",
     "text": [
      "Epochs: 3 | Train Loss:  0.001                 | Train Accuracy:  1.000                 | Val Loss:  0.001                 | Val Accuracy:  1.000\n"
     ]
    },
    {
     "name": "stderr",
     "output_type": "stream",
     "text": [
      "100%|███████████████████████████████████████████████████████████████████████████████████| 74/74 [02:43<00:00,  2.21s/it]\n"
     ]
    },
    {
     "name": "stdout",
     "output_type": "stream",
     "text": [
      "Epochs: 4 | Train Loss:  0.000                 | Train Accuracy:  1.000                 | Val Loss:  0.000                 | Val Accuracy:  1.000\n"
     ]
    },
    {
     "name": "stderr",
     "output_type": "stream",
     "text": [
      "100%|███████████████████████████████████████████████████████████████████████████████████| 74/74 [02:46<00:00,  2.26s/it]\n"
     ]
    },
    {
     "name": "stdout",
     "output_type": "stream",
     "text": [
      "Epochs: 5 | Train Loss:  0.000                 | Train Accuracy:  1.000                 | Val Loss:  0.000                 | Val Accuracy:  1.000\n"
     ]
    },
    {
     "name": "stderr",
     "output_type": "stream",
     "text": [
      "100%|███████████████████████████████████████████████████████████████████████████████████| 74/74 [02:49<00:00,  2.30s/it]\n"
     ]
    },
    {
     "name": "stdout",
     "output_type": "stream",
     "text": [
      "Epochs: 6 | Train Loss:  0.000                 | Train Accuracy:  1.000                 | Val Loss:  0.000                 | Val Accuracy:  1.000\n"
     ]
    },
    {
     "name": "stderr",
     "output_type": "stream",
     "text": [
      "100%|███████████████████████████████████████████████████████████████████████████████████| 74/74 [02:48<00:00,  2.28s/it]\n"
     ]
    },
    {
     "name": "stdout",
     "output_type": "stream",
     "text": [
      "Epochs: 7 | Train Loss:  0.000                 | Train Accuracy:  1.000                 | Val Loss:  0.000                 | Val Accuracy:  1.000\n"
     ]
    },
    {
     "name": "stderr",
     "output_type": "stream",
     "text": [
      "100%|███████████████████████████████████████████████████████████████████████████████████| 74/74 [02:50<00:00,  2.31s/it]\n"
     ]
    },
    {
     "name": "stdout",
     "output_type": "stream",
     "text": [
      "Epochs: 8 | Train Loss:  0.000                 | Train Accuracy:  1.000                 | Val Loss:  0.000                 | Val Accuracy:  1.000\n"
     ]
    },
    {
     "name": "stderr",
     "output_type": "stream",
     "text": [
      "100%|███████████████████████████████████████████████████████████████████████████████████| 74/74 [02:46<00:00,  2.26s/it]\n"
     ]
    },
    {
     "name": "stdout",
     "output_type": "stream",
     "text": [
      "Epochs: 9 | Train Loss:  0.000                 | Train Accuracy:  1.000                 | Val Loss:  0.000                 | Val Accuracy:  1.000\n"
     ]
    },
    {
     "name": "stderr",
     "output_type": "stream",
     "text": [
      "100%|███████████████████████████████████████████████████████████████████████████████████| 74/74 [02:45<00:00,  2.24s/it]\n"
     ]
    },
    {
     "name": "stdout",
     "output_type": "stream",
     "text": [
      "Epochs: 10 | Train Loss:  0.000                 | Train Accuracy:  1.000                 | Val Loss:  0.000                 | Val Accuracy:  1.000\n"
     ]
    },
    {
     "name": "stderr",
     "output_type": "stream",
     "text": [
      "100%|███████████████████████████████████████████████████████████████████████████████████| 74/74 [02:47<00:00,  2.26s/it]\n"
     ]
    },
    {
     "name": "stdout",
     "output_type": "stream",
     "text": [
      "Epochs: 11 | Train Loss:  0.000                 | Train Accuracy:  1.000                 | Val Loss:  0.000                 | Val Accuracy:  1.000\n"
     ]
    },
    {
     "name": "stderr",
     "output_type": "stream",
     "text": [
      "100%|███████████████████████████████████████████████████████████████████████████████████| 74/74 [02:47<00:00,  2.27s/it]\n"
     ]
    },
    {
     "name": "stdout",
     "output_type": "stream",
     "text": [
      "Epochs: 12 | Train Loss:  0.000                 | Train Accuracy:  1.000                 | Val Loss:  0.000                 | Val Accuracy:  1.000\n"
     ]
    },
    {
     "name": "stderr",
     "output_type": "stream",
     "text": [
      "100%|███████████████████████████████████████████████████████████████████████████████████| 74/74 [02:49<00:00,  2.28s/it]\n"
     ]
    },
    {
     "name": "stdout",
     "output_type": "stream",
     "text": [
      "Epochs: 13 | Train Loss:  0.000                 | Train Accuracy:  1.000                 | Val Loss:  0.000                 | Val Accuracy:  1.000\n",
      "Test Accuracy:  0.985\n",
      "Test F1 score:  0.991\n",
      "EPOCHS: 13 | LR:0.0001 | DROPOUT:0.5\n"
     ]
    },
    {
     "name": "stderr",
     "output_type": "stream",
     "text": [
      "Some weights of the model checkpoint at bert-base-cased were not used when initializing BertModel: ['cls.predictions.transform.dense.bias', 'cls.predictions.decoder.weight', 'cls.predictions.transform.dense.weight', 'cls.seq_relationship.weight', 'cls.predictions.bias', 'cls.seq_relationship.bias', 'cls.predictions.transform.LayerNorm.weight', 'cls.predictions.transform.LayerNorm.bias']\n",
      "- This IS expected if you are initializing BertModel from the checkpoint of a model trained on another task or with another architecture (e.g. initializing a BertForSequenceClassification model from a BertForPreTraining model).\n",
      "- This IS NOT expected if you are initializing BertModel from the checkpoint of a model that you expect to be exactly identical (initializing a BertForSequenceClassification model from a BertForSequenceClassification model).\n",
      "100%|███████████████████████████████████████████████████████████████████████████████████| 74/74 [02:43<00:00,  2.21s/it]\n"
     ]
    },
    {
     "name": "stdout",
     "output_type": "stream",
     "text": [
      "Epochs: 1 | Train Loss:  0.199                 | Train Accuracy:  0.736                 | Val Loss:  0.012                 | Val Accuracy:  1.000\n"
     ]
    },
    {
     "name": "stderr",
     "output_type": "stream",
     "text": [
      "100%|███████████████████████████████████████████████████████████████████████████████████| 74/74 [02:45<00:00,  2.23s/it]\n"
     ]
    },
    {
     "name": "stdout",
     "output_type": "stream",
     "text": [
      "Epochs: 2 | Train Loss:  0.006                 | Train Accuracy:  1.000                 | Val Loss:  0.001                 | Val Accuracy:  1.000\n"
     ]
    },
    {
     "name": "stderr",
     "output_type": "stream",
     "text": [
      "100%|███████████████████████████████████████████████████████████████████████████████████| 74/74 [02:49<00:00,  2.29s/it]\n"
     ]
    },
    {
     "name": "stdout",
     "output_type": "stream",
     "text": [
      "Epochs: 3 | Train Loss:  0.001                 | Train Accuracy:  1.000                 | Val Loss:  0.001                 | Val Accuracy:  1.000\n"
     ]
    },
    {
     "name": "stderr",
     "output_type": "stream",
     "text": [
      "100%|███████████████████████████████████████████████████████████████████████████████████| 74/74 [02:47<00:00,  2.26s/it]\n"
     ]
    },
    {
     "name": "stdout",
     "output_type": "stream",
     "text": [
      "Epochs: 4 | Train Loss:  0.001                 | Train Accuracy:  1.000                 | Val Loss:  0.001                 | Val Accuracy:  1.000\n"
     ]
    },
    {
     "name": "stderr",
     "output_type": "stream",
     "text": [
      "100%|███████████████████████████████████████████████████████████████████████████████████| 74/74 [02:46<00:00,  2.25s/it]\n"
     ]
    },
    {
     "name": "stdout",
     "output_type": "stream",
     "text": [
      "Epochs: 5 | Train Loss:  0.001                 | Train Accuracy:  1.000                 | Val Loss:  0.000                 | Val Accuracy:  1.000\n"
     ]
    },
    {
     "name": "stderr",
     "output_type": "stream",
     "text": [
      "100%|███████████████████████████████████████████████████████████████████████████████████| 74/74 [02:47<00:00,  2.26s/it]\n"
     ]
    },
    {
     "name": "stdout",
     "output_type": "stream",
     "text": [
      "Epochs: 6 | Train Loss:  0.000                 | Train Accuracy:  1.000                 | Val Loss:  0.000                 | Val Accuracy:  1.000\n"
     ]
    },
    {
     "name": "stderr",
     "output_type": "stream",
     "text": [
      "100%|███████████████████████████████████████████████████████████████████████████████████| 74/74 [02:45<00:00,  2.23s/it]\n"
     ]
    },
    {
     "name": "stdout",
     "output_type": "stream",
     "text": [
      "Epochs: 7 | Train Loss:  0.000                 | Train Accuracy:  1.000                 | Val Loss:  0.000                 | Val Accuracy:  1.000\n"
     ]
    },
    {
     "name": "stderr",
     "output_type": "stream",
     "text": [
      "100%|███████████████████████████████████████████████████████████████████████████████████| 74/74 [02:45<00:00,  2.23s/it]\n"
     ]
    },
    {
     "name": "stdout",
     "output_type": "stream",
     "text": [
      "Epochs: 8 | Train Loss:  0.000                 | Train Accuracy:  1.000                 | Val Loss:  0.000                 | Val Accuracy:  1.000\n"
     ]
    },
    {
     "name": "stderr",
     "output_type": "stream",
     "text": [
      "100%|███████████████████████████████████████████████████████████████████████████████████| 74/74 [02:47<00:00,  2.26s/it]\n"
     ]
    },
    {
     "name": "stdout",
     "output_type": "stream",
     "text": [
      "Epochs: 9 | Train Loss:  0.000                 | Train Accuracy:  1.000                 | Val Loss:  0.000                 | Val Accuracy:  1.000\n"
     ]
    },
    {
     "name": "stderr",
     "output_type": "stream",
     "text": [
      "100%|███████████████████████████████████████████████████████████████████████████████████| 74/74 [02:43<00:00,  2.21s/it]\n"
     ]
    },
    {
     "name": "stdout",
     "output_type": "stream",
     "text": [
      "Epochs: 10 | Train Loss:  0.000                 | Train Accuracy:  1.000                 | Val Loss:  0.000                 | Val Accuracy:  1.000\n"
     ]
    },
    {
     "name": "stderr",
     "output_type": "stream",
     "text": [
      "100%|███████████████████████████████████████████████████████████████████████████████████| 74/74 [02:43<00:00,  2.21s/it]\n"
     ]
    },
    {
     "name": "stdout",
     "output_type": "stream",
     "text": [
      "Epochs: 11 | Train Loss:  0.000                 | Train Accuracy:  1.000                 | Val Loss:  0.000                 | Val Accuracy:  1.000\n"
     ]
    },
    {
     "name": "stderr",
     "output_type": "stream",
     "text": [
      "100%|███████████████████████████████████████████████████████████████████████████████████| 74/74 [02:46<00:00,  2.24s/it]\n"
     ]
    },
    {
     "name": "stdout",
     "output_type": "stream",
     "text": [
      "Epochs: 12 | Train Loss:  0.000                 | Train Accuracy:  1.000                 | Val Loss:  0.000                 | Val Accuracy:  1.000\n"
     ]
    },
    {
     "name": "stderr",
     "output_type": "stream",
     "text": [
      "100%|███████████████████████████████████████████████████████████████████████████████████| 74/74 [02:45<00:00,  2.23s/it]\n"
     ]
    },
    {
     "name": "stdout",
     "output_type": "stream",
     "text": [
      "Epochs: 13 | Train Loss:  0.000                 | Train Accuracy:  1.000                 | Val Loss:  0.000                 | Val Accuracy:  1.000\n"
     ]
    },
    {
     "name": "stderr",
     "output_type": "stream",
     "text": [
      "100%|███████████████████████████████████████████████████████████████████████████████████| 74/74 [02:47<00:00,  2.26s/it]\n"
     ]
    },
    {
     "name": "stdout",
     "output_type": "stream",
     "text": [
      "Epochs: 14 | Train Loss:  0.000                 | Train Accuracy:  1.000                 | Val Loss:  0.000                 | Val Accuracy:  1.000\n",
      "Test Accuracy:  0.985\n",
      "Test F1 score:  0.991\n",
      "EPOCHS: 14 | LR:5e-05 | DROPOUT:0.6000000000000001\n"
     ]
    },
    {
     "name": "stderr",
     "output_type": "stream",
     "text": [
      "Some weights of the model checkpoint at bert-base-cased were not used when initializing BertModel: ['cls.predictions.transform.dense.bias', 'cls.predictions.decoder.weight', 'cls.predictions.transform.dense.weight', 'cls.seq_relationship.weight', 'cls.predictions.bias', 'cls.seq_relationship.bias', 'cls.predictions.transform.LayerNorm.weight', 'cls.predictions.transform.LayerNorm.bias']\n",
      "- This IS expected if you are initializing BertModel from the checkpoint of a model trained on another task or with another architecture (e.g. initializing a BertForSequenceClassification model from a BertForPreTraining model).\n",
      "- This IS NOT expected if you are initializing BertModel from the checkpoint of a model that you expect to be exactly identical (initializing a BertForSequenceClassification model from a BertForSequenceClassification model).\n",
      "100%|███████████████████████████████████████████████████████████████████████████████████| 74/74 [02:39<00:00,  2.15s/it]\n"
     ]
    },
    {
     "name": "stdout",
     "output_type": "stream",
     "text": [
      "Epochs: 1 | Train Loss:  0.328                 | Train Accuracy:  0.635                 | Val Loss:  0.279                 | Val Accuracy:  0.789\n"
     ]
    },
    {
     "name": "stderr",
     "output_type": "stream",
     "text": [
      "100%|███████████████████████████████████████████████████████████████████████████████████| 74/74 [02:44<00:00,  2.23s/it]\n"
     ]
    },
    {
     "name": "stdout",
     "output_type": "stream",
     "text": [
      "Epochs: 2 | Train Loss:  0.341                 | Train Accuracy:  0.608                 | Val Loss:  0.283                 | Val Accuracy:  0.789\n"
     ]
    },
    {
     "name": "stderr",
     "output_type": "stream",
     "text": [
      "100%|███████████████████████████████████████████████████████████████████████████████████| 74/74 [02:44<00:00,  2.22s/it]\n"
     ]
    },
    {
     "name": "stdout",
     "output_type": "stream",
     "text": [
      "Epochs: 3 | Train Loss:  0.336                 | Train Accuracy:  0.608                 | Val Loss:  0.278                 | Val Accuracy:  0.789\n"
     ]
    },
    {
     "name": "stderr",
     "output_type": "stream",
     "text": [
      "100%|███████████████████████████████████████████████████████████████████████████████████| 74/74 [02:42<00:00,  2.20s/it]\n"
     ]
    },
    {
     "name": "stdout",
     "output_type": "stream",
     "text": [
      "Epochs: 4 | Train Loss:  0.328                 | Train Accuracy:  0.608                 | Val Loss:  0.306                 | Val Accuracy:  0.737\n"
     ]
    },
    {
     "name": "stderr",
     "output_type": "stream",
     "text": [
      "100%|███████████████████████████████████████████████████████████████████████████████████| 74/74 [02:48<00:00,  2.28s/it]\n"
     ]
    },
    {
     "name": "stdout",
     "output_type": "stream",
     "text": [
      "Epochs: 5 | Train Loss:  0.332                 | Train Accuracy:  0.608                 | Val Loss:  0.261                 | Val Accuracy:  0.842\n"
     ]
    },
    {
     "name": "stderr",
     "output_type": "stream",
     "text": [
      "100%|███████████████████████████████████████████████████████████████████████████████████| 74/74 [02:45<00:00,  2.24s/it]\n"
     ]
    },
    {
     "name": "stdout",
     "output_type": "stream",
     "text": [
      "Epochs: 6 | Train Loss:  0.330                 | Train Accuracy:  0.588                 | Val Loss:  0.275                 | Val Accuracy:  0.789\n"
     ]
    },
    {
     "name": "stderr",
     "output_type": "stream",
     "text": [
      "100%|███████████████████████████████████████████████████████████████████████████████████| 74/74 [02:49<00:00,  2.28s/it]\n"
     ]
    },
    {
     "name": "stdout",
     "output_type": "stream",
     "text": [
      "Epochs: 7 | Train Loss:  0.319                 | Train Accuracy:  0.622                 | Val Loss:  0.270                 | Val Accuracy:  0.842\n"
     ]
    },
    {
     "name": "stderr",
     "output_type": "stream",
     "text": [
      "100%|███████████████████████████████████████████████████████████████████████████████████| 74/74 [02:49<00:00,  2.29s/it]\n"
     ]
    },
    {
     "name": "stdout",
     "output_type": "stream",
     "text": [
      "Epochs: 8 | Train Loss:  0.326                 | Train Accuracy:  0.608                 | Val Loss:  0.271                 | Val Accuracy:  0.789\n"
     ]
    },
    {
     "name": "stderr",
     "output_type": "stream",
     "text": [
      "100%|███████████████████████████████████████████████████████████████████████████████████| 74/74 [02:48<00:00,  2.28s/it]\n"
     ]
    },
    {
     "name": "stdout",
     "output_type": "stream",
     "text": [
      "Epochs: 9 | Train Loss:  0.325                 | Train Accuracy:  0.628                 | Val Loss:  0.326                 | Val Accuracy:  0.737\n"
     ]
    },
    {
     "name": "stderr",
     "output_type": "stream",
     "text": [
      "100%|███████████████████████████████████████████████████████████████████████████████████| 74/74 [02:45<00:00,  2.24s/it]\n"
     ]
    },
    {
     "name": "stdout",
     "output_type": "stream",
     "text": [
      "Epochs: 10 | Train Loss:  0.337                 | Train Accuracy:  0.622                 | Val Loss:  0.295                 | Val Accuracy:  0.737\n"
     ]
    },
    {
     "name": "stderr",
     "output_type": "stream",
     "text": [
      "100%|███████████████████████████████████████████████████████████████████████████████████| 74/74 [02:47<00:00,  2.27s/it]\n"
     ]
    },
    {
     "name": "stdout",
     "output_type": "stream",
     "text": [
      "Epochs: 11 | Train Loss:  0.328                 | Train Accuracy:  0.588                 | Val Loss:  0.316                 | Val Accuracy:  0.842\n"
     ]
    },
    {
     "name": "stderr",
     "output_type": "stream",
     "text": [
      "100%|███████████████████████████████████████████████████████████████████████████████████| 74/74 [02:47<00:00,  2.27s/it]\n"
     ]
    },
    {
     "name": "stdout",
     "output_type": "stream",
     "text": [
      "Epochs: 12 | Train Loss:  0.337                 | Train Accuracy:  0.622                 | Val Loss:  0.282                 | Val Accuracy:  0.842\n"
     ]
    },
    {
     "name": "stderr",
     "output_type": "stream",
     "text": [
      "100%|███████████████████████████████████████████████████████████████████████████████████| 74/74 [02:47<00:00,  2.27s/it]\n"
     ]
    },
    {
     "name": "stdout",
     "output_type": "stream",
     "text": [
      "Epochs: 13 | Train Loss:  0.347                 | Train Accuracy:  0.601                 | Val Loss:  0.255                 | Val Accuracy:  0.842\n"
     ]
    },
    {
     "name": "stderr",
     "output_type": "stream",
     "text": [
      "100%|███████████████████████████████████████████████████████████████████████████████████| 74/74 [02:47<00:00,  2.26s/it]\n"
     ]
    },
    {
     "name": "stdout",
     "output_type": "stream",
     "text": [
      "Epochs: 14 | Train Loss:  0.324                 | Train Accuracy:  0.601                 | Val Loss:  0.317                 | Val Accuracy:  0.789\n",
      "Test Accuracy:  0.786\n",
      "Test F1 score:  0.878\n",
      "EPOCHS: 14 | LR:1e-09 | DROPOUT:0.4\n"
     ]
    },
    {
     "name": "stderr",
     "output_type": "stream",
     "text": [
      "Some weights of the model checkpoint at bert-base-cased were not used when initializing BertModel: ['cls.predictions.transform.dense.bias', 'cls.predictions.decoder.weight', 'cls.predictions.transform.dense.weight', 'cls.seq_relationship.weight', 'cls.predictions.bias', 'cls.seq_relationship.bias', 'cls.predictions.transform.LayerNorm.weight', 'cls.predictions.transform.LayerNorm.bias']\n",
      "- This IS expected if you are initializing BertModel from the checkpoint of a model trained on another task or with another architecture (e.g. initializing a BertForSequenceClassification model from a BertForPreTraining model).\n",
      "- This IS NOT expected if you are initializing BertModel from the checkpoint of a model that you expect to be exactly identical (initializing a BertForSequenceClassification model from a BertForSequenceClassification model).\n",
      "100%|███████████████████████████████████████████████████████████████████████████████████| 74/74 [03:02<00:00,  2.47s/it]\n"
     ]
    },
    {
     "name": "stdout",
     "output_type": "stream",
     "text": [
      "Epochs: 1 | Train Loss:  0.452                 | Train Accuracy:  0.622                 | Val Loss:  0.365                 | Val Accuracy:  0.842\n"
     ]
    },
    {
     "name": "stderr",
     "output_type": "stream",
     "text": [
      "100%|███████████████████████████████████████████████████████████████████████████████████| 74/74 [03:02<00:00,  2.47s/it]\n"
     ]
    },
    {
     "name": "stdout",
     "output_type": "stream",
     "text": [
      "Epochs: 2 | Train Loss:  0.347                 | Train Accuracy:  0.628                 | Val Loss:  0.365                 | Val Accuracy:  0.842\n"
     ]
    },
    {
     "name": "stderr",
     "output_type": "stream",
     "text": [
      "100%|███████████████████████████████████████████████████████████████████████████████████| 74/74 [03:03<00:00,  2.48s/it]\n"
     ]
    },
    {
     "name": "stdout",
     "output_type": "stream",
     "text": [
      "Epochs: 3 | Train Loss:  0.347                 | Train Accuracy:  0.628                 | Val Loss:  0.365                 | Val Accuracy:  0.842\n",
      "Test Accuracy:  0.867\n",
      "Test F1 score:  0.929\n",
      "EPOCHS: 3 | LR:0.05 | DROPOUT:0.8\n"
     ]
    },
    {
     "name": "stderr",
     "output_type": "stream",
     "text": [
      "Some weights of the model checkpoint at bert-base-cased were not used when initializing BertModel: ['cls.predictions.transform.dense.bias', 'cls.predictions.decoder.weight', 'cls.predictions.transform.dense.weight', 'cls.seq_relationship.weight', 'cls.predictions.bias', 'cls.seq_relationship.bias', 'cls.predictions.transform.LayerNorm.weight', 'cls.predictions.transform.LayerNorm.bias']\n",
      "- This IS expected if you are initializing BertModel from the checkpoint of a model trained on another task or with another architecture (e.g. initializing a BertForSequenceClassification model from a BertForPreTraining model).\n",
      "- This IS NOT expected if you are initializing BertModel from the checkpoint of a model that you expect to be exactly identical (initializing a BertForSequenceClassification model from a BertForSequenceClassification model).\n",
      "100%|███████████████████████████████████████████████████████████████████████████████████| 74/74 [02:51<00:00,  2.32s/it]\n"
     ]
    },
    {
     "name": "stdout",
     "output_type": "stream",
     "text": [
      "Epochs: 1 | Train Loss:  0.432                 | Train Accuracy:  0.527                 | Val Loss:  0.358                 | Val Accuracy:  0.737\n"
     ]
    },
    {
     "name": "stderr",
     "output_type": "stream",
     "text": [
      "100%|███████████████████████████████████████████████████████████████████████████████████| 74/74 [02:50<00:00,  2.31s/it]\n"
     ]
    },
    {
     "name": "stdout",
     "output_type": "stream",
     "text": [
      "Epochs: 2 | Train Loss:  0.406                 | Train Accuracy:  0.574                 | Val Loss:  0.427                 | Val Accuracy:  0.684\n"
     ]
    },
    {
     "name": "stderr",
     "output_type": "stream",
     "text": [
      "100%|███████████████████████████████████████████████████████████████████████████████████| 74/74 [02:52<00:00,  2.32s/it]\n"
     ]
    },
    {
     "name": "stdout",
     "output_type": "stream",
     "text": [
      "Epochs: 3 | Train Loss:  0.406                 | Train Accuracy:  0.581                 | Val Loss:  0.438                 | Val Accuracy:  0.632\n"
     ]
    },
    {
     "name": "stderr",
     "output_type": "stream",
     "text": [
      "100%|███████████████████████████████████████████████████████████████████████████████████| 74/74 [02:51<00:00,  2.32s/it]\n"
     ]
    },
    {
     "name": "stdout",
     "output_type": "stream",
     "text": [
      "Epochs: 4 | Train Loss:  0.411                 | Train Accuracy:  0.581                 | Val Loss:  0.384                 | Val Accuracy:  0.632\n"
     ]
    },
    {
     "name": "stderr",
     "output_type": "stream",
     "text": [
      "100%|███████████████████████████████████████████████████████████████████████████████████| 74/74 [02:53<00:00,  2.34s/it]\n"
     ]
    },
    {
     "name": "stdout",
     "output_type": "stream",
     "text": [
      "Epochs: 5 | Train Loss:  0.375                 | Train Accuracy:  0.628                 | Val Loss:  0.374                 | Val Accuracy:  0.737\n"
     ]
    },
    {
     "name": "stderr",
     "output_type": "stream",
     "text": [
      "100%|███████████████████████████████████████████████████████████████████████████████████| 74/74 [02:50<00:00,  2.31s/it]\n"
     ]
    },
    {
     "name": "stdout",
     "output_type": "stream",
     "text": [
      "Epochs: 6 | Train Loss:  0.389                 | Train Accuracy:  0.561                 | Val Loss:  0.503                 | Val Accuracy:  0.632\n"
     ]
    },
    {
     "name": "stderr",
     "output_type": "stream",
     "text": [
      "100%|███████████████████████████████████████████████████████████████████████████████████| 74/74 [02:51<00:00,  2.32s/it]\n"
     ]
    },
    {
     "name": "stdout",
     "output_type": "stream",
     "text": [
      "Epochs: 7 | Train Loss:  0.379                 | Train Accuracy:  0.574                 | Val Loss:  0.361                 | Val Accuracy:  0.632\n"
     ]
    },
    {
     "name": "stderr",
     "output_type": "stream",
     "text": [
      "100%|███████████████████████████████████████████████████████████████████████████████████| 74/74 [02:52<00:00,  2.33s/it]\n"
     ]
    },
    {
     "name": "stdout",
     "output_type": "stream",
     "text": [
      "Epochs: 8 | Train Loss:  0.351                 | Train Accuracy:  0.628                 | Val Loss:  0.367                 | Val Accuracy:  0.737\n",
      "Test Accuracy:  0.663\n",
      "Test F1 score:  0.786\n",
      "EPOCHS: 8 | LR:1e-07 | DROPOUT:0.9\n"
     ]
    },
    {
     "name": "stderr",
     "output_type": "stream",
     "text": [
      "Some weights of the model checkpoint at bert-base-cased were not used when initializing BertModel: ['cls.predictions.transform.dense.bias', 'cls.predictions.decoder.weight', 'cls.predictions.transform.dense.weight', 'cls.seq_relationship.weight', 'cls.predictions.bias', 'cls.seq_relationship.bias', 'cls.predictions.transform.LayerNorm.weight', 'cls.predictions.transform.LayerNorm.bias']\n",
      "- This IS expected if you are initializing BertModel from the checkpoint of a model trained on another task or with another architecture (e.g. initializing a BertForSequenceClassification model from a BertForPreTraining model).\n",
      "- This IS NOT expected if you are initializing BertModel from the checkpoint of a model that you expect to be exactly identical (initializing a BertForSequenceClassification model from a BertForSequenceClassification model).\n",
      "100%|███████████████████████████████████████████████████████████████████████████████████| 74/74 [02:47<00:00,  2.27s/it]\n"
     ]
    },
    {
     "name": "stdout",
     "output_type": "stream",
     "text": [
      "Epochs: 1 | Train Loss:  0.294                 | Train Accuracy:  0.730                 | Val Loss:  0.286                 | Val Accuracy:  0.895\n"
     ]
    },
    {
     "name": "stderr",
     "output_type": "stream",
     "text": [
      "100%|███████████████████████████████████████████████████████████████████████████████████| 74/74 [02:53<00:00,  2.34s/it]\n"
     ]
    },
    {
     "name": "stdout",
     "output_type": "stream",
     "text": [
      "Epochs: 2 | Train Loss:  0.133                 | Train Accuracy:  0.986                 | Val Loss:  0.085                 | Val Accuracy:  1.000\n"
     ]
    },
    {
     "name": "stderr",
     "output_type": "stream",
     "text": [
      "100%|███████████████████████████████████████████████████████████████████████████████████| 74/74 [02:51<00:00,  2.32s/it]\n"
     ]
    },
    {
     "name": "stdout",
     "output_type": "stream",
     "text": [
      "Epochs: 3 | Train Loss:  0.036                 | Train Accuracy:  1.000                 | Val Loss:  0.030                 | Val Accuracy:  1.000\n"
     ]
    },
    {
     "name": "stderr",
     "output_type": "stream",
     "text": [
      "100%|███████████████████████████████████████████████████████████████████████████████████| 74/74 [02:50<00:00,  2.31s/it]\n"
     ]
    },
    {
     "name": "stdout",
     "output_type": "stream",
     "text": [
      "Epochs: 4 | Train Loss:  0.017                 | Train Accuracy:  1.000                 | Val Loss:  0.014                 | Val Accuracy:  1.000\n"
     ]
    },
    {
     "name": "stderr",
     "output_type": "stream",
     "text": [
      "100%|███████████████████████████████████████████████████████████████████████████████████| 74/74 [02:52<00:00,  2.32s/it]\n"
     ]
    },
    {
     "name": "stdout",
     "output_type": "stream",
     "text": [
      "Epochs: 5 | Train Loss:  0.009                 | Train Accuracy:  1.000                 | Val Loss:  0.010                 | Val Accuracy:  1.000\n"
     ]
    },
    {
     "name": "stderr",
     "output_type": "stream",
     "text": [
      "100%|███████████████████████████████████████████████████████████████████████████████████| 74/74 [02:50<00:00,  2.31s/it]\n"
     ]
    },
    {
     "name": "stdout",
     "output_type": "stream",
     "text": [
      "Epochs: 6 | Train Loss:  0.006                 | Train Accuracy:  1.000                 | Val Loss:  0.006                 | Val Accuracy:  1.000\n",
      "Test Accuracy:  0.966\n",
      "Test F1 score:  0.980\n",
      "EPOCHS: 6 | LR:5e-06 | DROPOUT:0.30000000000000004\n"
     ]
    },
    {
     "name": "stderr",
     "output_type": "stream",
     "text": [
      "Some weights of the model checkpoint at bert-base-cased were not used when initializing BertModel: ['cls.predictions.transform.dense.bias', 'cls.predictions.decoder.weight', 'cls.predictions.transform.dense.weight', 'cls.seq_relationship.weight', 'cls.predictions.bias', 'cls.seq_relationship.bias', 'cls.predictions.transform.LayerNorm.weight', 'cls.predictions.transform.LayerNorm.bias']\n",
      "- This IS expected if you are initializing BertModel from the checkpoint of a model trained on another task or with another architecture (e.g. initializing a BertForSequenceClassification model from a BertForPreTraining model).\n",
      "- This IS NOT expected if you are initializing BertModel from the checkpoint of a model that you expect to be exactly identical (initializing a BertForSequenceClassification model from a BertForSequenceClassification model).\n",
      "100%|███████████████████████████████████████████████████████████████████████████████████| 74/74 [02:53<00:00,  2.34s/it]\n"
     ]
    },
    {
     "name": "stdout",
     "output_type": "stream",
     "text": [
      "Epochs: 1 | Train Loss:  0.378                 | Train Accuracy:  0.615                 | Val Loss:  0.339                 | Val Accuracy:  0.842\n"
     ]
    },
    {
     "name": "stderr",
     "output_type": "stream",
     "text": [
      "100%|███████████████████████████████████████████████████████████████████████████████████| 74/74 [02:50<00:00,  2.30s/it]\n"
     ]
    },
    {
     "name": "stdout",
     "output_type": "stream",
     "text": [
      "Epochs: 2 | Train Loss:  0.353                 | Train Accuracy:  0.635                 | Val Loss:  0.341                 | Val Accuracy:  0.842\n"
     ]
    },
    {
     "name": "stderr",
     "output_type": "stream",
     "text": [
      "100%|███████████████████████████████████████████████████████████████████████████████████| 74/74 [02:50<00:00,  2.31s/it]\n"
     ]
    },
    {
     "name": "stdout",
     "output_type": "stream",
     "text": [
      "Epochs: 3 | Train Loss:  0.358                 | Train Accuracy:  0.615                 | Val Loss:  0.359                 | Val Accuracy:  0.842\n"
     ]
    },
    {
     "name": "stderr",
     "output_type": "stream",
     "text": [
      "100%|███████████████████████████████████████████████████████████████████████████████████| 74/74 [02:49<00:00,  2.29s/it]\n"
     ]
    },
    {
     "name": "stdout",
     "output_type": "stream",
     "text": [
      "Epochs: 4 | Train Loss:  0.347                 | Train Accuracy:  0.628                 | Val Loss:  0.365                 | Val Accuracy:  0.842\n"
     ]
    },
    {
     "name": "stderr",
     "output_type": "stream",
     "text": [
      "100%|███████████████████████████████████████████████████████████████████████████████████| 74/74 [02:47<00:00,  2.27s/it]\n"
     ]
    },
    {
     "name": "stdout",
     "output_type": "stream",
     "text": [
      "Epochs: 5 | Train Loss:  0.344                 | Train Accuracy:  0.628                 | Val Loss:  0.429                 | Val Accuracy:  0.842\n"
     ]
    },
    {
     "name": "stderr",
     "output_type": "stream",
     "text": [
      "100%|███████████████████████████████████████████████████████████████████████████████████| 74/74 [02:50<00:00,  2.31s/it]\n"
     ]
    },
    {
     "name": "stdout",
     "output_type": "stream",
     "text": [
      "Epochs: 6 | Train Loss:  0.351                 | Train Accuracy:  0.628                 | Val Loss:  0.365                 | Val Accuracy:  0.842\n"
     ]
    },
    {
     "name": "stderr",
     "output_type": "stream",
     "text": [
      "100%|███████████████████████████████████████████████████████████████████████████████████| 74/74 [02:50<00:00,  2.30s/it]\n"
     ]
    },
    {
     "name": "stdout",
     "output_type": "stream",
     "text": [
      "Epochs: 7 | Train Loss:  0.347                 | Train Accuracy:  0.628                 | Val Loss:  0.365                 | Val Accuracy:  0.842\n"
     ]
    },
    {
     "name": "stderr",
     "output_type": "stream",
     "text": [
      "100%|███████████████████████████████████████████████████████████████████████████████████| 74/74 [02:47<00:00,  2.27s/it]\n"
     ]
    },
    {
     "name": "stdout",
     "output_type": "stream",
     "text": [
      "Epochs: 8 | Train Loss:  0.347                 | Train Accuracy:  0.628                 | Val Loss:  0.365                 | Val Accuracy:  0.842\n"
     ]
    },
    {
     "name": "stderr",
     "output_type": "stream",
     "text": [
      "100%|███████████████████████████████████████████████████████████████████████████████████| 74/74 [02:53<00:00,  2.34s/it]\n"
     ]
    },
    {
     "name": "stdout",
     "output_type": "stream",
     "text": [
      "Epochs: 9 | Train Loss:  0.347                 | Train Accuracy:  0.628                 | Val Loss:  0.365                 | Val Accuracy:  0.842\n"
     ]
    },
    {
     "name": "stderr",
     "output_type": "stream",
     "text": [
      "100%|███████████████████████████████████████████████████████████████████████████████████| 74/74 [02:50<00:00,  2.30s/it]\n"
     ]
    },
    {
     "name": "stdout",
     "output_type": "stream",
     "text": [
      "Epochs: 10 | Train Loss:  0.347                 | Train Accuracy:  0.628                 | Val Loss:  0.365                 | Val Accuracy:  0.842\n"
     ]
    },
    {
     "name": "stderr",
     "output_type": "stream",
     "text": [
      "100%|███████████████████████████████████████████████████████████████████████████████████| 74/74 [02:52<00:00,  2.33s/it]\n"
     ]
    },
    {
     "name": "stdout",
     "output_type": "stream",
     "text": [
      "Epochs: 11 | Train Loss:  0.347                 | Train Accuracy:  0.628                 | Val Loss:  0.365                 | Val Accuracy:  0.842\n"
     ]
    },
    {
     "name": "stderr",
     "output_type": "stream",
     "text": [
      "100%|███████████████████████████████████████████████████████████████████████████████████| 74/74 [02:57<00:00,  2.39s/it]\n"
     ]
    },
    {
     "name": "stdout",
     "output_type": "stream",
     "text": [
      "Epochs: 12 | Train Loss:  0.347                 | Train Accuracy:  0.628                 | Val Loss:  0.365                 | Val Accuracy:  0.842\n",
      "Test Accuracy:  0.867\n",
      "Test F1 score:  0.929\n",
      "EPOCHS: 12 | LR:0.001 | DROPOUT:0.8\n"
     ]
    },
    {
     "name": "stderr",
     "output_type": "stream",
     "text": [
      "Some weights of the model checkpoint at bert-base-cased were not used when initializing BertModel: ['cls.predictions.transform.dense.bias', 'cls.predictions.decoder.weight', 'cls.predictions.transform.dense.weight', 'cls.seq_relationship.weight', 'cls.predictions.bias', 'cls.seq_relationship.bias', 'cls.predictions.transform.LayerNorm.weight', 'cls.predictions.transform.LayerNorm.bias']\n",
      "- This IS expected if you are initializing BertModel from the checkpoint of a model trained on another task or with another architecture (e.g. initializing a BertForSequenceClassification model from a BertForPreTraining model).\n",
      "- This IS NOT expected if you are initializing BertModel from the checkpoint of a model that you expect to be exactly identical (initializing a BertForSequenceClassification model from a BertForSequenceClassification model).\n",
      "100%|███████████████████████████████████████████████████████████████████████████████████| 74/74 [02:49<00:00,  2.29s/it]\n"
     ]
    },
    {
     "name": "stdout",
     "output_type": "stream",
     "text": [
      "Epochs: 1 | Train Loss:  0.383                 | Train Accuracy:  0.534                 | Val Loss:  0.415                 | Val Accuracy:  0.474\n"
     ]
    },
    {
     "name": "stderr",
     "output_type": "stream",
     "text": [
      "100%|███████████████████████████████████████████████████████████████████████████████████| 74/74 [02:51<00:00,  2.31s/it]\n"
     ]
    },
    {
     "name": "stdout",
     "output_type": "stream",
     "text": [
      "Epochs: 2 | Train Loss:  0.384                 | Train Accuracy:  0.541                 | Val Loss:  0.429                 | Val Accuracy:  0.526\n"
     ]
    },
    {
     "name": "stderr",
     "output_type": "stream",
     "text": [
      "100%|███████████████████████████████████████████████████████████████████████████████████| 74/74 [02:50<00:00,  2.30s/it]\n"
     ]
    },
    {
     "name": "stdout",
     "output_type": "stream",
     "text": [
      "Epochs: 3 | Train Loss:  0.380                 | Train Accuracy:  0.514                 | Val Loss:  0.431                 | Val Accuracy:  0.684\n"
     ]
    },
    {
     "name": "stderr",
     "output_type": "stream",
     "text": [
      "100%|███████████████████████████████████████████████████████████████████████████████████| 74/74 [02:52<00:00,  2.33s/it]\n"
     ]
    },
    {
     "name": "stdout",
     "output_type": "stream",
     "text": [
      "Epochs: 4 | Train Loss:  0.369                 | Train Accuracy:  0.554                 | Val Loss:  0.422                 | Val Accuracy:  0.579\n"
     ]
    },
    {
     "name": "stderr",
     "output_type": "stream",
     "text": [
      "100%|███████████████████████████████████████████████████████████████████████████████████| 74/74 [02:51<00:00,  2.32s/it]\n"
     ]
    },
    {
     "name": "stdout",
     "output_type": "stream",
     "text": [
      "Epochs: 5 | Train Loss:  0.367                 | Train Accuracy:  0.561                 | Val Loss:  0.541                 | Val Accuracy:  0.316\n"
     ]
    },
    {
     "name": "stderr",
     "output_type": "stream",
     "text": [
      "100%|███████████████████████████████████████████████████████████████████████████████████| 74/74 [02:51<00:00,  2.32s/it]\n"
     ]
    },
    {
     "name": "stdout",
     "output_type": "stream",
     "text": [
      "Epochs: 6 | Train Loss:  0.359                 | Train Accuracy:  0.547                 | Val Loss:  0.465                 | Val Accuracy:  0.474\n"
     ]
    },
    {
     "name": "stderr",
     "output_type": "stream",
     "text": [
      "100%|███████████████████████████████████████████████████████████████████████████████████| 74/74 [02:51<00:00,  2.32s/it]\n"
     ]
    },
    {
     "name": "stdout",
     "output_type": "stream",
     "text": [
      "Epochs: 7 | Train Loss:  0.361                 | Train Accuracy:  0.547                 | Val Loss:  0.406                 | Val Accuracy:  0.579\n"
     ]
    },
    {
     "name": "stderr",
     "output_type": "stream",
     "text": [
      "100%|███████████████████████████████████████████████████████████████████████████████████| 74/74 [02:50<00:00,  2.31s/it]\n"
     ]
    },
    {
     "name": "stdout",
     "output_type": "stream",
     "text": [
      "Epochs: 8 | Train Loss:  0.383                 | Train Accuracy:  0.547                 | Val Loss:  0.448                 | Val Accuracy:  0.579\n",
      "Test Accuracy:  0.536\n",
      "Test F1 score:  0.672\n",
      "EPOCHS: 8 | LR:5e-09 | DROPOUT:0.8\n"
     ]
    },
    {
     "name": "stderr",
     "output_type": "stream",
     "text": [
      "Some weights of the model checkpoint at bert-base-cased were not used when initializing BertModel: ['cls.predictions.transform.dense.bias', 'cls.predictions.decoder.weight', 'cls.predictions.transform.dense.weight', 'cls.seq_relationship.weight', 'cls.predictions.bias', 'cls.seq_relationship.bias', 'cls.predictions.transform.LayerNorm.weight', 'cls.predictions.transform.LayerNorm.bias']\n",
      "- This IS expected if you are initializing BertModel from the checkpoint of a model trained on another task or with another architecture (e.g. initializing a BertForSequenceClassification model from a BertForPreTraining model).\n",
      "- This IS NOT expected if you are initializing BertModel from the checkpoint of a model that you expect to be exactly identical (initializing a BertForSequenceClassification model from a BertForSequenceClassification model).\n",
      "100%|███████████████████████████████████████████████████████████████████████████████████| 74/74 [02:58<00:00,  2.41s/it]\n"
     ]
    },
    {
     "name": "stdout",
     "output_type": "stream",
     "text": [
      "Epochs: 1 | Train Loss:  0.468                 | Train Accuracy:  0.615                 | Val Loss:  0.365                 | Val Accuracy:  0.842\n"
     ]
    },
    {
     "name": "stderr",
     "output_type": "stream",
     "text": [
      "100%|███████████████████████████████████████████████████████████████████████████████████| 74/74 [02:55<00:00,  2.37s/it]\n"
     ]
    },
    {
     "name": "stdout",
     "output_type": "stream",
     "text": [
      "Epochs: 2 | Train Loss:  0.347                 | Train Accuracy:  0.628                 | Val Loss:  0.365                 | Val Accuracy:  0.842\n",
      "Test Accuracy:  0.867\n",
      "Test F1 score:  0.929\n",
      "EPOCHS: 2 | LR:0.1 | DROPOUT:0.7000000000000001\n"
     ]
    },
    {
     "name": "stderr",
     "output_type": "stream",
     "text": [
      "Some weights of the model checkpoint at bert-base-cased were not used when initializing BertModel: ['cls.predictions.transform.dense.bias', 'cls.predictions.decoder.weight', 'cls.predictions.transform.dense.weight', 'cls.seq_relationship.weight', 'cls.predictions.bias', 'cls.seq_relationship.bias', 'cls.predictions.transform.LayerNorm.weight', 'cls.predictions.transform.LayerNorm.bias']\n",
      "- This IS expected if you are initializing BertModel from the checkpoint of a model trained on another task or with another architecture (e.g. initializing a BertForSequenceClassification model from a BertForPreTraining model).\n",
      "- This IS NOT expected if you are initializing BertModel from the checkpoint of a model that you expect to be exactly identical (initializing a BertForSequenceClassification model from a BertForSequenceClassification model).\n",
      "100%|███████████████████████████████████████████████████████████████████████████████████| 74/74 [02:50<00:00,  2.30s/it]\n"
     ]
    },
    {
     "name": "stdout",
     "output_type": "stream",
     "text": [
      "Epochs: 1 | Train Loss:  0.365                 | Train Accuracy:  0.568                 | Val Loss:  0.320                 | Val Accuracy:  0.684\n"
     ]
    },
    {
     "name": "stderr",
     "output_type": "stream",
     "text": [
      "100%|███████████████████████████████████████████████████████████████████████████████████| 74/74 [02:42<00:00,  2.20s/it]\n"
     ]
    },
    {
     "name": "stdout",
     "output_type": "stream",
     "text": [
      "Epochs: 2 | Train Loss:  0.391                 | Train Accuracy:  0.473                 | Val Loss:  0.301                 | Val Accuracy:  0.789\n"
     ]
    },
    {
     "name": "stderr",
     "output_type": "stream",
     "text": [
      "100%|███████████████████████████████████████████████████████████████████████████████████| 74/74 [02:50<00:00,  2.30s/it]\n"
     ]
    },
    {
     "name": "stdout",
     "output_type": "stream",
     "text": [
      "Epochs: 3 | Train Loss:  0.389                 | Train Accuracy:  0.446                 | Val Loss:  0.229                 | Val Accuracy:  0.895\n"
     ]
    },
    {
     "name": "stderr",
     "output_type": "stream",
     "text": [
      "100%|███████████████████████████████████████████████████████████████████████████████████| 74/74 [02:47<00:00,  2.26s/it]\n"
     ]
    },
    {
     "name": "stdout",
     "output_type": "stream",
     "text": [
      "Epochs: 4 | Train Loss:  0.320                 | Train Accuracy:  0.676                 | Val Loss:  0.407                 | Val Accuracy:  0.579\n"
     ]
    },
    {
     "name": "stderr",
     "output_type": "stream",
     "text": [
      "100%|███████████████████████████████████████████████████████████████████████████████████| 74/74 [02:48<00:00,  2.28s/it]\n"
     ]
    },
    {
     "name": "stdout",
     "output_type": "stream",
     "text": [
      "Epochs: 5 | Train Loss:  0.305                 | Train Accuracy:  0.642                 | Val Loss:  0.421                 | Val Accuracy:  0.526\n"
     ]
    },
    {
     "name": "stderr",
     "output_type": "stream",
     "text": [
      "100%|███████████████████████████████████████████████████████████████████████████████████| 74/74 [02:44<00:00,  2.23s/it]\n"
     ]
    },
    {
     "name": "stdout",
     "output_type": "stream",
     "text": [
      "Epochs: 6 | Train Loss:  0.288                 | Train Accuracy:  0.716                 | Val Loss:  0.334                 | Val Accuracy:  0.684\n",
      "Test Accuracy:  0.638\n",
      "Test F1 score:  0.759\n",
      "EPOCHS: 6 | LR:5e-07 | DROPOUT:0.8\n"
     ]
    },
    {
     "name": "stderr",
     "output_type": "stream",
     "text": [
      "Some weights of the model checkpoint at bert-base-cased were not used when initializing BertModel: ['cls.predictions.transform.dense.bias', 'cls.predictions.decoder.weight', 'cls.predictions.transform.dense.weight', 'cls.seq_relationship.weight', 'cls.predictions.bias', 'cls.seq_relationship.bias', 'cls.predictions.transform.LayerNorm.weight', 'cls.predictions.transform.LayerNorm.bias']\n",
      "- This IS expected if you are initializing BertModel from the checkpoint of a model trained on another task or with another architecture (e.g. initializing a BertForSequenceClassification model from a BertForPreTraining model).\n",
      "- This IS NOT expected if you are initializing BertModel from the checkpoint of a model that you expect to be exactly identical (initializing a BertForSequenceClassification model from a BertForSequenceClassification model).\n",
      "100%|███████████████████████████████████████████████████████████████████████████████████| 74/74 [02:47<00:00,  2.27s/it]\n"
     ]
    },
    {
     "name": "stdout",
     "output_type": "stream",
     "text": [
      "Epochs: 1 | Train Loss:  0.307                 | Train Accuracy:  0.649                 | Val Loss:  0.261                 | Val Accuracy:  0.842\n"
     ]
    },
    {
     "name": "stderr",
     "output_type": "stream",
     "text": [
      "100%|███████████████████████████████████████████████████████████████████████████████████| 74/74 [02:51<00:00,  2.32s/it]\n"
     ]
    },
    {
     "name": "stdout",
     "output_type": "stream",
     "text": [
      "Epochs: 2 | Train Loss:  0.239                 | Train Accuracy:  0.824                 | Val Loss:  0.212                 | Val Accuracy:  0.895\n"
     ]
    },
    {
     "name": "stderr",
     "output_type": "stream",
     "text": [
      "100%|███████████████████████████████████████████████████████████████████████████████████| 74/74 [02:50<00:00,  2.30s/it]\n"
     ]
    },
    {
     "name": "stdout",
     "output_type": "stream",
     "text": [
      "Epochs: 3 | Train Loss:  0.176                 | Train Accuracy:  0.973                 | Val Loss:  0.177                 | Val Accuracy:  1.000\n"
     ]
    },
    {
     "name": "stderr",
     "output_type": "stream",
     "text": [
      "100%|███████████████████████████████████████████████████████████████████████████████████| 74/74 [02:51<00:00,  2.32s/it]\n"
     ]
    },
    {
     "name": "stdout",
     "output_type": "stream",
     "text": [
      "Epochs: 4 | Train Loss:  0.122                 | Train Accuracy:  1.000                 | Val Loss:  0.131                 | Val Accuracy:  1.000\n",
      "Test Accuracy:  0.873\n",
      "Test F1 score:  0.922\n",
      "EPOCHS: 4 | LR:1e-06 | DROPOUT:0.2\n"
     ]
    },
    {
     "name": "stderr",
     "output_type": "stream",
     "text": [
      "Some weights of the model checkpoint at bert-base-cased were not used when initializing BertModel: ['cls.predictions.transform.dense.bias', 'cls.predictions.decoder.weight', 'cls.predictions.transform.dense.weight', 'cls.seq_relationship.weight', 'cls.predictions.bias', 'cls.seq_relationship.bias', 'cls.predictions.transform.LayerNorm.weight', 'cls.predictions.transform.LayerNorm.bias']\n",
      "- This IS expected if you are initializing BertModel from the checkpoint of a model trained on another task or with another architecture (e.g. initializing a BertForSequenceClassification model from a BertForPreTraining model).\n",
      "- This IS NOT expected if you are initializing BertModel from the checkpoint of a model that you expect to be exactly identical (initializing a BertForSequenceClassification model from a BertForSequenceClassification model).\n",
      "100%|███████████████████████████████████████████████████████████████████████████████████| 74/74 [02:51<00:00,  2.31s/it]\n"
     ]
    },
    {
     "name": "stdout",
     "output_type": "stream",
     "text": [
      "Epochs: 1 | Train Loss:  0.376                 | Train Accuracy:  0.628                 | Val Loss:  0.365                 | Val Accuracy:  0.842\n"
     ]
    },
    {
     "name": "stderr",
     "output_type": "stream",
     "text": [
      "100%|███████████████████████████████████████████████████████████████████████████████████| 74/74 [02:54<00:00,  2.36s/it]\n"
     ]
    },
    {
     "name": "stdout",
     "output_type": "stream",
     "text": [
      "Epochs: 2 | Train Loss:  0.347                 | Train Accuracy:  0.628                 | Val Loss:  0.365                 | Val Accuracy:  0.842\n"
     ]
    },
    {
     "name": "stderr",
     "output_type": "stream",
     "text": [
      "100%|███████████████████████████████████████████████████████████████████████████████████| 74/74 [02:53<00:00,  2.34s/it]\n"
     ]
    },
    {
     "name": "stdout",
     "output_type": "stream",
     "text": [
      "Epochs: 3 | Train Loss:  0.347                 | Train Accuracy:  0.628                 | Val Loss:  0.365                 | Val Accuracy:  0.842\n"
     ]
    },
    {
     "name": "stderr",
     "output_type": "stream",
     "text": [
      "100%|███████████████████████████████████████████████████████████████████████████████████| 74/74 [02:52<00:00,  2.34s/it]\n"
     ]
    },
    {
     "name": "stdout",
     "output_type": "stream",
     "text": [
      "Epochs: 4 | Train Loss:  0.347                 | Train Accuracy:  0.628                 | Val Loss:  0.365                 | Val Accuracy:  0.842\n"
     ]
    },
    {
     "name": "stderr",
     "output_type": "stream",
     "text": [
      "100%|███████████████████████████████████████████████████████████████████████████████████| 74/74 [02:53<00:00,  2.35s/it]\n"
     ]
    },
    {
     "name": "stdout",
     "output_type": "stream",
     "text": [
      "Epochs: 5 | Train Loss:  0.347                 | Train Accuracy:  0.628                 | Val Loss:  0.365                 | Val Accuracy:  0.842\n"
     ]
    },
    {
     "name": "stderr",
     "output_type": "stream",
     "text": [
      "100%|███████████████████████████████████████████████████████████████████████████████████| 74/74 [02:53<00:00,  2.35s/it]\n"
     ]
    },
    {
     "name": "stdout",
     "output_type": "stream",
     "text": [
      "Epochs: 6 | Train Loss:  0.347                 | Train Accuracy:  0.628                 | Val Loss:  0.365                 | Val Accuracy:  0.842\n"
     ]
    },
    {
     "name": "stderr",
     "output_type": "stream",
     "text": [
      "100%|███████████████████████████████████████████████████████████████████████████████████| 74/74 [02:52<00:00,  2.33s/it]\n"
     ]
    },
    {
     "name": "stdout",
     "output_type": "stream",
     "text": [
      "Epochs: 7 | Train Loss:  0.347                 | Train Accuracy:  0.628                 | Val Loss:  0.365                 | Val Accuracy:  0.842\n"
     ]
    },
    {
     "name": "stderr",
     "output_type": "stream",
     "text": [
      "100%|███████████████████████████████████████████████████████████████████████████████████| 74/74 [02:50<00:00,  2.30s/it]\n"
     ]
    },
    {
     "name": "stdout",
     "output_type": "stream",
     "text": [
      "Epochs: 8 | Train Loss:  0.347                 | Train Accuracy:  0.628                 | Val Loss:  0.365                 | Val Accuracy:  0.842\n"
     ]
    },
    {
     "name": "stderr",
     "output_type": "stream",
     "text": [
      "100%|███████████████████████████████████████████████████████████████████████████████████| 74/74 [02:51<00:00,  2.31s/it]\n"
     ]
    },
    {
     "name": "stdout",
     "output_type": "stream",
     "text": [
      "Epochs: 9 | Train Loss:  0.347                 | Train Accuracy:  0.628                 | Val Loss:  0.365                 | Val Accuracy:  0.842\n"
     ]
    },
    {
     "name": "stderr",
     "output_type": "stream",
     "text": [
      "100%|███████████████████████████████████████████████████████████████████████████████████| 74/74 [03:02<00:00,  2.47s/it]\n"
     ]
    },
    {
     "name": "stdout",
     "output_type": "stream",
     "text": [
      "Epochs: 10 | Train Loss:  0.347                 | Train Accuracy:  0.628                 | Val Loss:  0.365                 | Val Accuracy:  0.842\n"
     ]
    },
    {
     "name": "stderr",
     "output_type": "stream",
     "text": [
      "100%|███████████████████████████████████████████████████████████████████████████████████| 74/74 [03:07<00:00,  2.53s/it]\n"
     ]
    },
    {
     "name": "stdout",
     "output_type": "stream",
     "text": [
      "Epochs: 11 | Train Loss:  0.347                 | Train Accuracy:  0.628                 | Val Loss:  0.365                 | Val Accuracy:  0.842\n",
      "Test Accuracy:  0.867\n",
      "Test F1 score:  0.929\n",
      "EPOCHS: 11 | LR:0.001 | DROPOUT:0.2\n"
     ]
    },
    {
     "name": "stderr",
     "output_type": "stream",
     "text": [
      "Some weights of the model checkpoint at bert-base-cased were not used when initializing BertModel: ['cls.predictions.transform.dense.bias', 'cls.predictions.decoder.weight', 'cls.predictions.transform.dense.weight', 'cls.seq_relationship.weight', 'cls.predictions.bias', 'cls.seq_relationship.bias', 'cls.predictions.transform.LayerNorm.weight', 'cls.predictions.transform.LayerNorm.bias']\n",
      "- This IS expected if you are initializing BertModel from the checkpoint of a model trained on another task or with another architecture (e.g. initializing a BertForSequenceClassification model from a BertForPreTraining model).\n",
      "- This IS NOT expected if you are initializing BertModel from the checkpoint of a model that you expect to be exactly identical (initializing a BertForSequenceClassification model from a BertForSequenceClassification model).\n",
      "100%|███████████████████████████████████████████████████████████████████████████████████| 74/74 [02:47<00:00,  2.27s/it]\n"
     ]
    },
    {
     "name": "stdout",
     "output_type": "stream",
     "text": [
      "Epochs: 1 | Train Loss:  0.362                 | Train Accuracy:  0.514                 | Val Loss:  0.339                 | Val Accuracy:  0.842\n"
     ]
    },
    {
     "name": "stderr",
     "output_type": "stream",
     "text": [
      "100%|███████████████████████████████████████████████████████████████████████████████████| 74/74 [02:48<00:00,  2.27s/it]\n"
     ]
    },
    {
     "name": "stdout",
     "output_type": "stream",
     "text": [
      "Epochs: 2 | Train Loss:  0.212                 | Train Accuracy:  0.824                 | Val Loss:  0.174                 | Val Accuracy:  0.842\n"
     ]
    },
    {
     "name": "stderr",
     "output_type": "stream",
     "text": [
      "100%|███████████████████████████████████████████████████████████████████████████████████| 74/74 [02:50<00:00,  2.30s/it]\n"
     ]
    },
    {
     "name": "stdout",
     "output_type": "stream",
     "text": [
      "Epochs: 3 | Train Loss:  0.128                 | Train Accuracy:  0.905                 | Val Loss:  0.076                 | Val Accuracy:  1.000\n"
     ]
    },
    {
     "name": "stderr",
     "output_type": "stream",
     "text": [
      "100%|███████████████████████████████████████████████████████████████████████████████████| 74/74 [02:45<00:00,  2.23s/it]\n"
     ]
    },
    {
     "name": "stdout",
     "output_type": "stream",
     "text": [
      "Epochs: 4 | Train Loss:  0.063                 | Train Accuracy:  0.986                 | Val Loss:  0.043                 | Val Accuracy:  1.000\n"
     ]
    },
    {
     "name": "stderr",
     "output_type": "stream",
     "text": [
      "100%|███████████████████████████████████████████████████████████████████████████████████| 74/74 [02:50<00:00,  2.30s/it]\n"
     ]
    },
    {
     "name": "stdout",
     "output_type": "stream",
     "text": [
      "Epochs: 5 | Train Loss:  0.041                 | Train Accuracy:  1.000                 | Val Loss:  0.027                 | Val Accuracy:  1.000\n"
     ]
    },
    {
     "name": "stderr",
     "output_type": "stream",
     "text": [
      "100%|███████████████████████████████████████████████████████████████████████████████████| 74/74 [02:49<00:00,  2.29s/it]\n"
     ]
    },
    {
     "name": "stdout",
     "output_type": "stream",
     "text": [
      "Epochs: 6 | Train Loss:  0.022                 | Train Accuracy:  1.000                 | Val Loss:  0.018                 | Val Accuracy:  1.000\n"
     ]
    },
    {
     "name": "stderr",
     "output_type": "stream",
     "text": [
      "100%|███████████████████████████████████████████████████████████████████████████████████| 74/74 [02:49<00:00,  2.30s/it]\n"
     ]
    },
    {
     "name": "stdout",
     "output_type": "stream",
     "text": [
      "Epochs: 7 | Train Loss:  0.017                 | Train Accuracy:  1.000                 | Val Loss:  0.022                 | Val Accuracy:  1.000\n"
     ]
    },
    {
     "name": "stderr",
     "output_type": "stream",
     "text": [
      "100%|███████████████████████████████████████████████████████████████████████████████████| 74/74 [02:46<00:00,  2.25s/it]\n"
     ]
    },
    {
     "name": "stdout",
     "output_type": "stream",
     "text": [
      "Epochs: 8 | Train Loss:  0.013                 | Train Accuracy:  1.000                 | Val Loss:  0.018                 | Val Accuracy:  1.000\n"
     ]
    },
    {
     "name": "stderr",
     "output_type": "stream",
     "text": [
      "100%|███████████████████████████████████████████████████████████████████████████████████| 74/74 [02:50<00:00,  2.31s/it]\n"
     ]
    },
    {
     "name": "stdout",
     "output_type": "stream",
     "text": [
      "Epochs: 9 | Train Loss:  0.009                 | Train Accuracy:  1.000                 | Val Loss:  0.010                 | Val Accuracy:  1.000\n"
     ]
    },
    {
     "name": "stderr",
     "output_type": "stream",
     "text": [
      " 47%|███████████████████████████████████████▎                                           | 35/74 [01:19<01:28,  2.28s/it]\n"
     ]
    },
    {
     "ename": "KeyboardInterrupt",
     "evalue": "",
     "output_type": "error",
     "traceback": [
      "\u001b[0;31m---------------------------------------------------------------------------\u001b[0m",
      "\u001b[0;31mKeyboardInterrupt\u001b[0m                         Traceback (most recent call last)",
      "Input \u001b[0;32mIn [26]\u001b[0m, in \u001b[0;36m<cell line: 13>\u001b[0;34m()\u001b[0m\n\u001b[1;32m     16\u001b[0m DROPOUT \u001b[38;5;241m=\u001b[39m \u001b[38;5;241m0.1\u001b[39m \u001b[38;5;241m*\u001b[39m random\u001b[38;5;241m.\u001b[39mrandint(\u001b[38;5;241m1\u001b[39m,\u001b[38;5;241m9\u001b[39m)\n\u001b[1;32m     17\u001b[0m model \u001b[38;5;241m=\u001b[39m BertClassifier(dropout\u001b[38;5;241m=\u001b[39mDROPOUT)           \n\u001b[0;32m---> 18\u001b[0m \u001b[43mtrain\u001b[49m\u001b[43m(\u001b[49m\u001b[43mmodel\u001b[49m\u001b[43m,\u001b[49m\u001b[43m \u001b[49m\u001b[43mdf_train\u001b[49m\u001b[43m,\u001b[49m\u001b[43m \u001b[49m\u001b[43mdf_val\u001b[49m\u001b[43m,\u001b[49m\u001b[43m \u001b[49m\u001b[43mLR\u001b[49m\u001b[43m,\u001b[49m\u001b[43m \u001b[49m\u001b[43mEPOCHS\u001b[49m\u001b[43m)\u001b[49m\n\u001b[1;32m     19\u001b[0m acc, f1 \u001b[38;5;241m=\u001b[39m evaluate(model, test_df)\n\u001b[1;32m     20\u001b[0m \u001b[38;5;28mprint\u001b[39m(\u001b[38;5;124mf\u001b[39m\u001b[38;5;124m'\u001b[39m\u001b[38;5;124mEPOCHS: \u001b[39m\u001b[38;5;132;01m{\u001b[39;00mEPOCHS\u001b[38;5;132;01m}\u001b[39;00m\u001b[38;5;124m | LR:\u001b[39m\u001b[38;5;132;01m{\u001b[39;00mLR\u001b[38;5;132;01m}\u001b[39;00m\u001b[38;5;124m | DROPOUT:\u001b[39m\u001b[38;5;132;01m{\u001b[39;00mDROPOUT\u001b[38;5;132;01m}\u001b[39;00m\u001b[38;5;124m'\u001b[39m)\n",
      "Input \u001b[0;32mIn [13]\u001b[0m, in \u001b[0;36mtrain\u001b[0;34m(model, train_data, val_data, learning_rate, epochs)\u001b[0m\n\u001b[1;32m     42\u001b[0m     total_acc_train \u001b[38;5;241m+\u001b[39m\u001b[38;5;241m=\u001b[39m acc\n\u001b[1;32m     44\u001b[0m     model\u001b[38;5;241m.\u001b[39mzero_grad()\n\u001b[0;32m---> 45\u001b[0m     \u001b[43mbatch_loss\u001b[49m\u001b[38;5;241;43m.\u001b[39;49m\u001b[43mbackward\u001b[49m\u001b[43m(\u001b[49m\u001b[43m)\u001b[49m\n\u001b[1;32m     46\u001b[0m     optimizer\u001b[38;5;241m.\u001b[39mstep()\n\u001b[1;32m     48\u001b[0m total_acc_val \u001b[38;5;241m=\u001b[39m \u001b[38;5;241m0\u001b[39m\n",
      "File \u001b[0;32m~/anaconda3/envs/fyp/lib/python3.9/site-packages/torch/_tensor.py:307\u001b[0m, in \u001b[0;36mTensor.backward\u001b[0;34m(self, gradient, retain_graph, create_graph, inputs)\u001b[0m\n\u001b[1;32m    298\u001b[0m \u001b[38;5;28;01mif\u001b[39;00m has_torch_function_unary(\u001b[38;5;28mself\u001b[39m):\n\u001b[1;32m    299\u001b[0m     \u001b[38;5;28;01mreturn\u001b[39;00m handle_torch_function(\n\u001b[1;32m    300\u001b[0m         Tensor\u001b[38;5;241m.\u001b[39mbackward,\n\u001b[1;32m    301\u001b[0m         (\u001b[38;5;28mself\u001b[39m,),\n\u001b[0;32m   (...)\u001b[0m\n\u001b[1;32m    305\u001b[0m         create_graph\u001b[38;5;241m=\u001b[39mcreate_graph,\n\u001b[1;32m    306\u001b[0m         inputs\u001b[38;5;241m=\u001b[39minputs)\n\u001b[0;32m--> 307\u001b[0m \u001b[43mtorch\u001b[49m\u001b[38;5;241;43m.\u001b[39;49m\u001b[43mautograd\u001b[49m\u001b[38;5;241;43m.\u001b[39;49m\u001b[43mbackward\u001b[49m\u001b[43m(\u001b[49m\u001b[38;5;28;43mself\u001b[39;49m\u001b[43m,\u001b[49m\u001b[43m \u001b[49m\u001b[43mgradient\u001b[49m\u001b[43m,\u001b[49m\u001b[43m \u001b[49m\u001b[43mretain_graph\u001b[49m\u001b[43m,\u001b[49m\u001b[43m \u001b[49m\u001b[43mcreate_graph\u001b[49m\u001b[43m,\u001b[49m\u001b[43m \u001b[49m\u001b[43minputs\u001b[49m\u001b[38;5;241;43m=\u001b[39;49m\u001b[43minputs\u001b[49m\u001b[43m)\u001b[49m\n",
      "File \u001b[0;32m~/anaconda3/envs/fyp/lib/python3.9/site-packages/torch/autograd/__init__.py:154\u001b[0m, in \u001b[0;36mbackward\u001b[0;34m(tensors, grad_tensors, retain_graph, create_graph, grad_variables, inputs)\u001b[0m\n\u001b[1;32m    151\u001b[0m \u001b[38;5;28;01mif\u001b[39;00m retain_graph \u001b[38;5;129;01mis\u001b[39;00m \u001b[38;5;28;01mNone\u001b[39;00m:\n\u001b[1;32m    152\u001b[0m     retain_graph \u001b[38;5;241m=\u001b[39m create_graph\n\u001b[0;32m--> 154\u001b[0m \u001b[43mVariable\u001b[49m\u001b[38;5;241;43m.\u001b[39;49m\u001b[43m_execution_engine\u001b[49m\u001b[38;5;241;43m.\u001b[39;49m\u001b[43mrun_backward\u001b[49m\u001b[43m(\u001b[49m\n\u001b[1;32m    155\u001b[0m \u001b[43m    \u001b[49m\u001b[43mtensors\u001b[49m\u001b[43m,\u001b[49m\u001b[43m \u001b[49m\u001b[43mgrad_tensors_\u001b[49m\u001b[43m,\u001b[49m\u001b[43m \u001b[49m\u001b[43mretain_graph\u001b[49m\u001b[43m,\u001b[49m\u001b[43m \u001b[49m\u001b[43mcreate_graph\u001b[49m\u001b[43m,\u001b[49m\u001b[43m \u001b[49m\u001b[43minputs\u001b[49m\u001b[43m,\u001b[49m\n\u001b[1;32m    156\u001b[0m \u001b[43m    \u001b[49m\u001b[43mallow_unreachable\u001b[49m\u001b[38;5;241;43m=\u001b[39;49m\u001b[38;5;28;43;01mTrue\u001b[39;49;00m\u001b[43m,\u001b[49m\u001b[43m \u001b[49m\u001b[43maccumulate_grad\u001b[49m\u001b[38;5;241;43m=\u001b[39;49m\u001b[38;5;28;43;01mTrue\u001b[39;49;00m\u001b[43m)\u001b[49m\n",
      "\u001b[0;31mKeyboardInterrupt\u001b[0m: "
     ]
    }
   ],
   "source": [
    "##split\n",
    "import random\n",
    "from csv import writer\n",
    "\n",
    "np.random.seed(112)\n",
    "df_train, df_val, df_test = np.split(train_df.sample(frac=1, random_state=42), \n",
    "                                     [int(.8*len(df)), int(.9*len(df))])\n",
    "print(len(df_train),len(df_val), len(df_test))\n",
    "\n",
    "EPOCHS = 5\n",
    "LR = 1e-6\n",
    "\n",
    "for i in range(200):\n",
    "    EPOCHS = random.randint(2,15)\n",
    "    LR = 0.5 * random.randint(1,2) * 10 ** (-random.randint(1,10))\n",
    "    DROPOUT = 0.1 * random.randint(1,9)\n",
    "    model = BertClassifier(dropout=DROPOUT)           \n",
    "    train(model, df_train, df_val, LR, EPOCHS)\n",
    "    acc, f1 = evaluate(model, test_df)\n",
    "    print(f'EPOCHS: {EPOCHS} | LR:{LR} | DROPOUT:{DROPOUT}')\n",
    "    list_data = [EPOCHS,LR,DROPOUT,acc,f1]\n",
    "    with open('data/training.csv','a', newline='') as f_object:\n",
    "        writer_object = writer(f_object)\n",
    "        writer_object.writerow(list_data)\n",
    "        f_object.close()"
   ]
  },
  {
   "cell_type": "code",
   "execution_count": null,
   "id": "46310050",
   "metadata": {},
   "outputs": [],
   "source": [
    "import pandas as pd\n",
    "import numpy as np\n",
    "import spacy\n",
    "\n",
    "# Need to load the large model to get the vectors\n",
    "nlp = spacy.load('en_core_web_lg')\n",
    "\n",
    "db_df = pd.read_csv('data/Sample_db.csv')\n",
    "\n",
    "def nlp_apply(row):\n",
    "    return nlp(row['Product name']).vector\n",
    "\n",
    "db_df['NLP Indexing'] = db_df.apply(lambda row:nlp_apply(row), axis=1)\n",
    "\n",
    "\n",
    "Q = nlp('Korea Kale B Haitai Honey Butter Potato Chips 60g').vector\n",
    "#KD tree\n",
    "\n",
    "from sklearn.neighbors import KDTree\n",
    "np.random.seed(0)\n",
    "\n",
    "points = db_df['NLP Indexing'].to_numpy()\n",
    "#print(size(points))\n",
    "print(db_df)\n",
    "tree = KDTree(points)\n",
    "nearest_dist, nearest_ind = tree.query(Q, k=2)  # k=2 nearest neighbors where k1 = identity\n",
    "\n",
    "print(nearest_dist[:, 1])    # drop id; assumes sorted -> see args!\n",
    "print(nearest_ind[:, 1])     # drop id \n",
    "print(db_df.ix(nearest_ind[:, 1]))"
   ]
  },
  {
   "cell_type": "code",
   "execution_count": null,
   "id": "2c85ffe5",
   "metadata": {},
   "outputs": [],
   "source": []
  }
 ],
 "metadata": {
  "kernelspec": {
   "display_name": "Python 3 (ipykernel)",
   "language": "python",
   "name": "python3"
  },
  "language_info": {
   "codemirror_mode": {
    "name": "ipython",
    "version": 3
   },
   "file_extension": ".py",
   "mimetype": "text/x-python",
   "name": "python",
   "nbconvert_exporter": "python",
   "pygments_lexer": "ipython3",
   "version": "3.9.12"
  }
 },
 "nbformat": 4,
 "nbformat_minor": 5
}
