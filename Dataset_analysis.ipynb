{
 "cells": [
  {
   "cell_type": "code",
   "execution_count": 1,
   "id": "6b002126",
   "metadata": {},
   "outputs": [
    {
     "data": {
      "text/html": [
       "<div>\n",
       "<style scoped>\n",
       "    .dataframe tbody tr th:only-of-type {\n",
       "        vertical-align: middle;\n",
       "    }\n",
       "\n",
       "    .dataframe tbody tr th {\n",
       "        vertical-align: top;\n",
       "    }\n",
       "\n",
       "    .dataframe thead th {\n",
       "        text-align: right;\n",
       "    }\n",
       "</style>\n",
       "<table border=\"1\" class=\"dataframe\">\n",
       "  <thead>\n",
       "    <tr style=\"text-align: right;\">\n",
       "      <th></th>\n",
       "      <th>label</th>\n",
       "      <th>label_note</th>\n",
       "      <th>text</th>\n",
       "    </tr>\n",
       "  </thead>\n",
       "  <tbody>\n",
       "    <tr>\n",
       "      <th>0</th>\n",
       "      <td>0</td>\n",
       "      <td>non-product</td>\n",
       "      <td>Log in / Register</td>\n",
       "    </tr>\n",
       "    <tr>\n",
       "      <th>1</th>\n",
       "      <td>0</td>\n",
       "      <td>non-product</td>\n",
       "      <td>Search a list of items</td>\n",
       "    </tr>\n",
       "    <tr>\n",
       "      <th>2</th>\n",
       "      <td>0</td>\n",
       "      <td>non-product</td>\n",
       "      <td>Favourites</td>\n",
       "    </tr>\n",
       "    <tr>\n",
       "      <th>3</th>\n",
       "      <td>0</td>\n",
       "      <td>non-product</td>\n",
       "      <td>Nectar</td>\n",
       "    </tr>\n",
       "    <tr>\n",
       "      <th>4</th>\n",
       "      <td>0</td>\n",
       "      <td>non-product</td>\n",
       "      <td>Offers</td>\n",
       "    </tr>\n",
       "    <tr>\n",
       "      <th>...</th>\n",
       "      <td>...</td>\n",
       "      <td>...</td>\n",
       "      <td>...</td>\n",
       "    </tr>\n",
       "    <tr>\n",
       "      <th>181</th>\n",
       "      <td>0</td>\n",
       "      <td>non-product</td>\n",
       "      <td>Filter Icon</td>\n",
       "    </tr>\n",
       "    <tr>\n",
       "      <th>182</th>\n",
       "      <td>0</td>\n",
       "      <td>non-product</td>\n",
       "      <td>Clear Filters</td>\n",
       "    </tr>\n",
       "    <tr>\n",
       "      <th>183</th>\n",
       "      <td>0</td>\n",
       "      <td>non-product</td>\n",
       "      <td>View Privacy Notice</td>\n",
       "    </tr>\n",
       "    <tr>\n",
       "      <th>184</th>\n",
       "      <td>0</td>\n",
       "      <td>non-product</td>\n",
       "      <td>Require Opt-Out</td>\n",
       "    </tr>\n",
       "    <tr>\n",
       "      <th>185</th>\n",
       "      <td>0</td>\n",
       "      <td>non-product</td>\n",
       "      <td>Cookie Policy</td>\n",
       "    </tr>\n",
       "  </tbody>\n",
       "</table>\n",
       "<p>186 rows × 3 columns</p>\n",
       "</div>"
      ],
      "text/plain": [
       "    label   label_note                    text\n",
       "0       0  non-product       Log in / Register\n",
       "1       0  non-product  Search a list of items\n",
       "2       0  non-product              Favourites\n",
       "3       0  non-product                  Nectar\n",
       "4       0  non-product                  Offers\n",
       "..    ...          ...                     ...\n",
       "181     0  non-product             Filter Icon\n",
       "182     0  non-product           Clear Filters\n",
       "183     0  non-product     View Privacy Notice\n",
       "184     0  non-product         Require Opt-Out\n",
       "185     0  non-product           Cookie Policy\n",
       "\n",
       "[186 rows x 3 columns]"
      ]
     },
     "execution_count": 1,
     "metadata": {},
     "output_type": "execute_result"
    }
   ],
   "source": [
    "import pandas as pd\n",
    "df = pd.read_pickle('product_dataset.pkl')\n",
    "df"
   ]
  },
  {
   "cell_type": "code",
   "execution_count": 2,
   "id": "b9258065",
   "metadata": {},
   "outputs": [],
   "source": [
    "product_occurrence = df['label_note'].value_counts()\n",
    "index = product_occurrence.index.to_numpy()\n",
    "height = product_occurrence.to_numpy()"
   ]
  },
  {
   "cell_type": "code",
   "execution_count": 3,
   "id": "13348f89",
   "metadata": {},
   "outputs": [
    {
     "data": {
      "text/plain": [
       "<Figure size 432x288 with 0 Axes>"
      ]
     },
     "metadata": {},
     "output_type": "display_data"
    },
    {
     "data": {
      "image/png": "[encoded data removed]",
      "text/plain": [
       "<Figure size 560x160 with 1 Axes>"
      ]
     },
     "metadata": {
      "needs_background": "light"
     },
     "output_type": "display_data"
    }
   ],
   "source": [
    "import matplotlib.pyplot as plt\n",
    "\n",
    "figure = plt.figure()\n",
    "figure, ax = plt.subplots(figsize=(7, 2), dpi=80)\n",
    "bars = ax.barh(index, height)\n",
    "ax.bar_label(bars)\n",
    "plt.show()"
   ]
  },
  {
   "cell_type": "code",
   "execution_count": 4,
   "id": "fe1df1b2",
   "metadata": {},
   "outputs": [
    {
     "name": "stdout",
     "output_type": "stream",
     "text": [
      "0      0\n",
      "1      0\n",
      "2      0\n",
      "3      0\n",
      "4      9\n",
      "5      5\n",
      "6     21\n",
      "7     13\n",
      "8      3\n",
      "9      3\n",
      "10     1\n",
      "11     4\n",
      "12     2\n",
      "13     1\n",
      "Name: length, dtype: int64\n",
      "[ 0  1  2  3  4  5  6  7  8  9 10 11 12 13]\n",
      "[ 0 72 20  4 27  1  0  0  0  0  0  0  0  0]\n"
     ]
    }
   ],
   "source": [
    "df['length'] = df['text'].apply (lambda row: len(row.split()))\n",
    "index = list(range(14))\n",
    "df_product = df[df['label'] == 1]\n",
    "length_frequency = df_product['length'].value_counts().reindex(index[::-1], fill_value=0).sort_index()\n",
    "        \n",
    "print(length_frequency)\n",
    "index = length_frequency.index.to_numpy()\n",
    "product_array = length_frequency.to_numpy()\n",
    "print(index)\n",
    "\n",
    "df_non_product = df[df['label'] == 0]\n",
    "length_frequency = df_non_product['length'].value_counts().reindex(index[::-1], fill_value=0).sort_index()\n",
    "non_product_array = length_frequency.to_numpy()\n",
    "print(non_product_array)"
   ]
  },
  {
   "cell_type": "code",
   "execution_count": 5,
   "id": "188cbf50",
   "metadata": {},
   "outputs": [
    {
     "data": {
      "image/png": "[encoded data removed]",
      "text/plain": [
       "<Figure size 432x288 with 1 Axes>"
      ]
     },
     "metadata": {
      "needs_background": "light"
     },
     "output_type": "display_data"
    }
   ],
   "source": [
    "import matplotlib.pyplot as plt\n",
    "import numpy as np\n",
    "\n",
    "x = np.arange(len(index))  # the label locations\n",
    "width = 0.35  # the width of the bars\n",
    "\n",
    "fig, ax = plt.subplots()\n",
    "rects1 = ax.bar(x - width/2, product_array, width, label='Product')\n",
    "rects2 = ax.bar(x + width/2, non_product_array, width, label='Non-product')\n",
    "\n",
    "# Add some text for labels, title and custom x-axis tick labels, etc.\n",
    "ax.set_ylabel('Length')\n",
    "ax.set_title('Text Length Distribution of Products and Non-product')\n",
    "#ax.set_xticks(x, index)\n",
    "ax.legend()\n",
    "\n",
    "ax.bar_label(rects1, padding=3)\n",
    "ax.bar_label(rects2, padding=3)\n",
    "\n",
    "fig.tight_layout()\n",
    "\n",
    "plt.show()"
   ]
  },
  {
   "cell_type": "code",
   "execution_count": 6,
   "id": "816b7582",
   "metadata": {},
   "outputs": [
    {
     "name": "stdout",
     "output_type": "stream",
     "text": [
      "                                           Product Name  \\\n",
      "0          Kellogg's Rice Krispies Breakfast Cereal 1kg   \n",
      "1        Sainsbury's Berry Hooplas, Summer Edition 375g   \n",
      "2     Sainsbury's  Peach Melba Granola, Summer Editi...   \n",
      "3     Kellogg's Special K Original Breakfast Cereal ...   \n",
      "4            Kellogg's Crunchy Nut Breakfast Cereal 1kg   \n",
      "...                                                 ...   \n",
      "1642                    Metcalfe's Popcorn Sea Salt 17g   \n",
      "1643  Pringles Texas BBQ Sauce Flavour Sharing Crisp...   \n",
      "1644    Pringles Sour Cream & Onion Sharing Crisps 200g   \n",
      "1645              Pringles Original Sharing Crisps 200g   \n",
      "1646  Kellogg's Fruit Winders Doubles Apple & Strawb...   \n",
      "\n",
      "                                    Product Description Category  Energy  \\\n",
      "0     Toasted Rice Cereal Fortified with Vitamins an...   cereal   389.0   \n",
      "1     Coated cereal extrudate with natural strawberr...   cereal   395.0   \n",
      "2     A blend of honey toasted wholegrain oats with ...   cereal   437.0   \n",
      "3     Crunchy Rice, Wholewheat and Barley Flakes For...   cereal   392.0   \n",
      "4     Toasted Flakes of Corn with Sugar, Peanuts and...   cereal   398.0   \n",
      "...                                                 ...      ...     ...   \n",
      "1642                    Sea salt flavoured popped corn.   crisps   480.0   \n",
      "1643        Texas Barbecue Sauce Flavour Savoury Snack.   crisps   520.0   \n",
      "1644        Sour Cream and Onion Flavour Savoury Snack.   crisps   525.0   \n",
      "1645                                     Savoury Snack.   crisps   534.0   \n",
      "1646  A delicious apple and strawberry fruit snack r...   crisps   393.0   \n",
      "\n",
      "      Saturates  Carbohydrate  Sugars  Salt  \n",
      "0           0.4          86.0     7.9  1.00  \n",
      "1           0.9          85.0    23.4  0.41  \n",
      "2           2.4          64.2    14.9  0.03  \n",
      "3           0.3          84.0    15.0  1.00  \n",
      "4           0.7          82.0    35.0  0.75  \n",
      "...         ...           ...     ...   ...  \n",
      "1642        1.7          47.2     0.2  1.30  \n",
      "1643        2.7          57.0     4.5  1.20  \n",
      "1644        2.8          56.0     2.5  1.30  \n",
      "1645        2.8          56.0     1.2  1.10  \n",
      "1646        3.5          79.0    37.0  0.13  \n",
      "\n",
      "[1647 rows x 8 columns]\n"
     ]
    }
   ],
   "source": [
    "import pandas as pd\n",
    "\n",
    "df = pd.read_csv ('data/nutrition_table.csv', encoding= 'unicode_escape')\n",
    "print (df)"
   ]
  },
  {
   "cell_type": "code",
   "execution_count": 7,
   "id": "f39481eb",
   "metadata": {},
   "outputs": [
    {
     "data": {
      "text/plain": [
       "<Figure size 432x288 with 0 Axes>"
      ]
     },
     "metadata": {},
     "output_type": "display_data"
    },
    {
     "data": {
      "image/png": "[encoded data removed]",
      "text/plain": [
       "<Figure size 560x160 with 1 Axes>"
      ]
     },
     "metadata": {
      "needs_background": "light"
     },
     "output_type": "display_data"
    }
   ],
   "source": [
    "product_occurrence = df['Category'].value_counts()\n",
    "index = product_occurrence.index.to_numpy()\n",
    "height = product_occurrence.to_numpy()\n",
    "\n",
    "figure = plt.figure()\n",
    "figure, ax = plt.subplots(figsize=(7, 2), dpi=80)\n",
    "bars = ax.barh(index, height)\n",
    "ax.bar_label(bars)\n",
    "plt.show()"
   ]
  },
  {
   "cell_type": "code",
   "execution_count": 8,
   "id": "42a65b52",
   "metadata": {},
   "outputs": [
    {
     "name": "stdout",
     "output_type": "stream",
     "text": [
      "[  0   0  33 113 221 316 316 292 165 104  55  20   7   2   2   1   0   0\n",
      "   0   0   0   0   0   0   0   0   0   0   0]\n",
      "[ 22 112 136 150 135 158 160 170 109 101  72  49  48  72  49  30  15   6\n",
      "  10   3   6   3   3   2   1   4   6   1   0]\n"
     ]
    }
   ],
   "source": [
    "df['product_length'] = df['Product Name'].apply (lambda row: len(row.split()))\n",
    "df['Product Description'] = df['Product Description'].astype(str)\n",
    "df['context_length'] = df['Product Description'].apply (lambda row: len(row.split()))\n",
    "index = range(1,30)\n",
    "product_length_frequency = df['product_length'].value_counts().reindex(index[::-1], fill_value=0).sort_index().to_numpy()\n",
    "context_length_frequency = df['context_length'].value_counts().reindex(index[::-1], fill_value=0).sort_index().to_numpy()\n",
    "print(product_length_frequency)\n",
    "print(context_length_frequency)"
   ]
  },
  {
   "cell_type": "code",
   "execution_count": 13,
   "id": "4f160766",
   "metadata": {},
   "outputs": [
    {
     "data": {
      "text/plain": [
       "<Figure size 432x288 with 0 Axes>"
      ]
     },
     "metadata": {},
     "output_type": "display_data"
    },
    {
     "data": {
      "image/png": "[encoded data removed]",
      "text/plain": [
       "<Figure size 1120x480 with 1 Axes>"
      ]
     },
     "metadata": {
      "needs_background": "light"
     },
     "output_type": "display_data"
    }
   ],
   "source": [
    "import matplotlib.pyplot as plt\n",
    "import numpy as np\n",
    "\n",
    "x = np.arange(len(index))  # the label locations\n",
    "width = 0.35  # the width of the bars\n",
    "\n",
    "figure = plt.figure()\n",
    "figure, ax = plt.subplots(figsize=(14, 6), dpi=80)\n",
    "rects1 = ax.bar(x - width/2, product_length_frequency, width, label='Product')\n",
    "rects2 = ax.bar(x + width/2, context_length_frequency, width, label='Context')\n",
    "\n",
    "# Add some text for labels, title and custom x-axis tick labels, etc.\n",
    "ax.set_ylabel('Length')\n",
    "ax.set_title('Text Length Distribution of Products and Contexts')\n",
    "#ax.set_xticks(x, index)\n",
    "ax.legend()\n",
    "\n",
    "ax.bar_label(rects1, padding=3)\n",
    "ax.bar_label(rects2, padding=3)\n",
    "\n",
    "fig.tight_layout()\n",
    "\n",
    "plt.show()"
   ]
  },
  {
   "cell_type": "code",
   "execution_count": 18,
   "id": "f532309b",
   "metadata": {},
   "outputs": [
    {
     "data": {
      "text/plain": [
       "<Figure size 432x288 with 0 Axes>"
      ]
     },
     "metadata": {},
     "output_type": "display_data"
    },
    {
     "data": {
      "image/png": "[encoded data removed]",
      "text/plain": [
       "<Figure size 720x200 with 1 Axes>"
      ]
     },
     "metadata": {
      "needs_background": "light"
     },
     "output_type": "display_data"
    }
   ],
   "source": [
    "import matplotlib.pyplot as plt\n",
    "\n",
    "figure = plt.figure()\n",
    "figure, ax = plt.subplots(figsize=(9, 2.5), dpi=80)\n",
    "bars = ax.barh(['fuzzy matching', 'BERT+cosine similarity','BERT+KDTree with normalized distance','Spacy+KDTree with normalized distance'], [0.75,0.79,0.79,0.59])\n",
    "ax.bar_label(bars)\n",
    "plt.show()"
   ]
  },
  {
   "cell_type": "code",
   "execution_count": 34,
   "id": "eac9e570",
   "metadata": {},
   "outputs": [
    {
     "data": {
      "image/png": "[encoded data removed]",
      "text/plain": [
       "<Figure size 800x400 with 1 Axes>"
      ]
     },
     "metadata": {
      "needs_background": "light"
     },
     "output_type": "display_data"
    }
   ],
   "source": [
    "\n",
    "\n",
    "x = ['fuzzy matching', 'BERT+cosine similarity','BERT+KDTree with normalized distance','Spacy+KDTree with normalized distance']\n",
    "y1 = [2,253,145,36]\n",
    "y2 = [2,249,141,36]\n",
    "\n",
    "import pandas\n",
    "import matplotlib.pyplot as plt\n",
    "import numpy as np\n",
    "\n",
    "df = pandas.DataFrame(dict(graph=x,\n",
    "                           n=y1, m=y2)) \n",
    "\n",
    "ind = np.arange(len(df))\n",
    "width = 0.3\n",
    "\n",
    "fig, ax = plt.subplots(figsize=(10, 5), dpi=80)\n",
    "rect1 = ax.barh(ind, df.n, width, label='time including caching time(sec)')\n",
    "rect2 = ax.barh(ind + width, df.m, width, label='time after cached(sec)')\n",
    "\n",
    "for i, v in enumerate(y1):\n",
    "    ax.text(v + 3, i, str(v))\n",
    "for i, v in enumerate(y2):\n",
    "    ax.text(v + 3, i+.25, str(v))\n",
    "\n",
    "ax.set(yticks=ind + width/2, yticklabels=df.graph, ylim=[2*width - 1, len(df)])\n",
    "ax.legend()\n",
    "\n",
    "plt.show()\n"
   ]
  },
  {
   "cell_type": "code",
   "execution_count": null,
   "id": "cb4aa77f",
   "metadata": {},
   "outputs": [],
   "source": []
  }
 ],
 "metadata": {
  "kernelspec": {
   "display_name": "Python 3 (ipykernel)",
   "language": "python",
   "name": "python3"
  },
  "language_info": {
   "codemirror_mode": {
    "name": "ipython",
    "version": 3
   },
   "file_extension": ".py",
   "mimetype": "text/x-python",
   "name": "python",
   "nbconvert_exporter": "python",
   "pygments_lexer": "ipython3",
   "version": "3.9.12"
  }
 },
 "nbformat": 4,
 "nbformat_minor": 5
}
